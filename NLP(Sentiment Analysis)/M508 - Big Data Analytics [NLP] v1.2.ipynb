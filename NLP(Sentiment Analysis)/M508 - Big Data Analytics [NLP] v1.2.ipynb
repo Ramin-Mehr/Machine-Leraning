{
 "cells": [
  {
   "cell_type": "markdown",
   "id": "f750bcab",
   "metadata": {},
   "source": [
    "# <p style=\"background-color:green; font-family:calibri; font-size:120%; text-color:white; text-align:center;color:white\" id=\"data\"> FINAL PROJECT (NLP - Module 508)</p>"
   ]
  },
  {
   "cell_type": "code",
   "execution_count": 2,
   "id": "6e12887a",
   "metadata": {},
   "outputs": [
    {
     "data": {
      "text/html": [
       "\n",
       "<img src=\"https://www.gisma.com/media/1198/gisma-business-school-logo.svg\" \n",
       "width=\"240\" height=\"240\"style=\"margin-left:auto ;margin-right:auto \"/>'\n"
      ],
      "text/plain": [
       "<IPython.core.display.HTML object>"
      ]
     },
     "execution_count": 2,
     "metadata": {},
     "output_type": "execute_result"
    },
    {
     "data": {
      "application/javascript": [
       "\n",
       "            setTimeout(function() {\n",
       "                var nbb_cell_id = 2;\n",
       "                var nbb_unformatted_code = \"from IPython.display import HTML\\n\\nheader = \\\"\\\"\\\"\\n<img src=\\\"https://www.gisma.com/media/1198/gisma-business-school-logo.svg\\\" \\nwidth=\\\"240\\\" height=\\\"240\\\"style=\\\"margin-left:auto ;margin-right:auto \\\"/>'\\n\\\"\\\"\\\"\\nHTML(header)\";\n",
       "                var nbb_formatted_code = \"from IPython.display import HTML\\n\\nheader = \\\"\\\"\\\"\\n<img src=\\\"https://www.gisma.com/media/1198/gisma-business-school-logo.svg\\\" \\nwidth=\\\"240\\\" height=\\\"240\\\"style=\\\"margin-left:auto ;margin-right:auto \\\"/>'\\n\\\"\\\"\\\"\\nHTML(header)\";\n",
       "                var nbb_cells = Jupyter.notebook.get_cells();\n",
       "                for (var i = 0; i < nbb_cells.length; ++i) {\n",
       "                    if (nbb_cells[i].input_prompt_number == nbb_cell_id) {\n",
       "                        if (nbb_cells[i].get_text() == nbb_unformatted_code) {\n",
       "                             nbb_cells[i].set_text(nbb_formatted_code);\n",
       "                        }\n",
       "                        break;\n",
       "                    }\n",
       "                }\n",
       "            }, 500);\n",
       "            "
      ],
      "text/plain": [
       "<IPython.core.display.Javascript object>"
      ]
     },
     "metadata": {},
     "output_type": "display_data"
    }
   ],
   "source": [
    "from IPython.display import HTML\n",
    "\n",
    "header = \"\"\"\n",
    "<img src=\"https://www.gisma.com/media/1198/gisma-business-school-logo.svg\" \n",
    "width=\"240\" height=\"240\"style=\"margin-left:auto ;margin-right:auto \"/>'\n",
    "\"\"\"\n",
    "HTML(header)"
   ]
  },
  {
   "cell_type": "markdown",
   "id": "8c86eb05",
   "metadata": {},
   "source": [
    "# <p style=\"background-color:green; font-family:calibri; font-size:120%; text-color:white; text-align:center;color:white\" id=\"data\"> Business Problem Understanding</p>"
   ]
  },
  {
   "cell_type": "markdown",
   "id": "e5c43ce8",
   "metadata": {},
   "source": [
    "In today’s world, the use of social media has become increasingly popular as a means of communication and information exchange. This has resulted in the emergence of new challenges for businesses that need to be able to understand the sentiment of public opinion about their products, services, and brand.\n",
    "\n",
    "The objective of this project is to develop a Python pipeline to collect public tweets and use machine learning techniques to analyze the sentiment of these tweets. The pipeline will collect tweets from a variety of sources, including Twitter, and store them in a table. Once collected, the dataset will then be used to analyze the sentiments of the tweets. It will be able to identify the positive, negative, and neutral sentiments of the tweets.\n",
    "\n",
    "The data gathered from this pipeline will be used to inform businesses of the public opinion on their products and services in general. This will be done by providing a sentiment analysis of the tweets mostly around movies and cinema reviews, allowing businesses to better understand how their products and services are being received by the public. This understanding can be used to help businesses make decisions about the way they communicate with their customers or audience, as well as their overall marketing strategy.\n",
    "\n",
    "In addition, the data gathered from this pipeline can be used in other ways, such as to identify trends in public opinion. This could be beneficial in helping businesses to better understand how their products and services are being perceived by the public, as well as to identify any areas where improvement is needed.\n",
    "\n",
    "Finally, the data gathered from this pipeline can also be used in the development of machine learning models. This could be beneficial in helping businesses to better understand the sentiment of public opinion, as well as to identify any potential issues that could arise from the use of their products and services which in this specific topic we fetch tweets around the movies.\n",
    "\n",
    "Overall, the project will be able to identify the positive, negative, and neutral sentiments of the tweets, and can also be used in the development of machine learning models. This pipeline has the potential to provide businesses with valuable insight into public opinion about their products and services, which can in turn be used to inform their overall marketing strategy.\n",
    "\n",
    "**To able to load dataset without running the twitter API from section 2.1 you can download created DB from below link**\n",
    "* Place it at the running code same folder:\n",
    "\n",
    "https://drive.google.com/drive/folders/11z2srRvm7ed0rTOK3b6zsrKXqcxTKcRa?usp=share_link\n"
   ]
  },
  {
   "cell_type": "markdown",
   "id": "b3d2a42d",
   "metadata": {},
   "source": [
    "# <p style=\"background-color:green; font-family:calibri; font-size:120%; text-align:center;color:white\" id=\"data\"> 1. Importing Libraries</p>\n",
    "\n",
    "<a id=\"dataprep\"></a>"
   ]
  },
  {
   "cell_type": "code",
   "execution_count": 35,
   "id": "4d31536b",
   "metadata": {},
   "outputs": [
    {
     "data": {
      "application/javascript": [
       "\n",
       "            setTimeout(function() {\n",
       "                var nbb_cell_id = 35;\n",
       "                var nbb_unformatted_code = \"import pandas as pd\\nimport numpy as np\\nimport tweepy as tw\\nimport configparser\\nfrom tweepy import Stream\\nfrom tweepy import OAuthHandler\\nimport sqlite3\\n\\nimport matplotlib.pyplot as plt\\n\\nimport sklearn.metrics\\nimport sklearn.model_selection\\nimport sklearn.ensemble\\n\\nimport nltk\\nimport re\\n\\nfrom gensim.parsing.preprocessing import STOPWORDS\\nfrom nltk.stem import WordNetLemmatizer\\n\\nfrom vaderSentiment.vaderSentiment import SentimentIntensityAnalyzer\\nfrom sklearn.feature_extraction.text import CountVectorizer\\nfrom sklearn.feature_extraction.text import TfidfVectorizer\\nfrom sklearn.linear_model import LogisticRegression\\nfrom sklearn.svm import LinearSVC\\nfrom sklearn.model_selection import cross_val_score\\nfrom sklearn.metrics import plot_confusion_matrix\\nfrom sklearn.metrics import plot_precision_recall_curve\\nfrom sklearn.metrics import classification_report\\nfrom sklearn.metrics import accuracy_score\\nfrom sklearn.metrics import confusion_matrix\\nfrom sklearn.metrics import plot_roc_curve\";\n",
       "                var nbb_formatted_code = \"import pandas as pd\\nimport numpy as np\\nimport tweepy as tw\\nimport configparser\\nfrom tweepy import Stream\\nfrom tweepy import OAuthHandler\\nimport sqlite3\\n\\nimport matplotlib.pyplot as plt\\n\\nimport sklearn.metrics\\nimport sklearn.model_selection\\nimport sklearn.ensemble\\n\\nimport nltk\\nimport re\\n\\nfrom gensim.parsing.preprocessing import STOPWORDS\\nfrom nltk.stem import WordNetLemmatizer\\n\\nfrom vaderSentiment.vaderSentiment import SentimentIntensityAnalyzer\\nfrom sklearn.feature_extraction.text import CountVectorizer\\nfrom sklearn.feature_extraction.text import TfidfVectorizer\\nfrom sklearn.linear_model import LogisticRegression\\nfrom sklearn.svm import LinearSVC\\nfrom sklearn.model_selection import cross_val_score\\nfrom sklearn.metrics import plot_confusion_matrix\\nfrom sklearn.metrics import plot_precision_recall_curve\\nfrom sklearn.metrics import classification_report\\nfrom sklearn.metrics import accuracy_score\\nfrom sklearn.metrics import confusion_matrix\\nfrom sklearn.metrics import plot_roc_curve\";\n",
       "                var nbb_cells = Jupyter.notebook.get_cells();\n",
       "                for (var i = 0; i < nbb_cells.length; ++i) {\n",
       "                    if (nbb_cells[i].input_prompt_number == nbb_cell_id) {\n",
       "                        if (nbb_cells[i].get_text() == nbb_unformatted_code) {\n",
       "                             nbb_cells[i].set_text(nbb_formatted_code);\n",
       "                        }\n",
       "                        break;\n",
       "                    }\n",
       "                }\n",
       "            }, 500);\n",
       "            "
      ],
      "text/plain": [
       "<IPython.core.display.Javascript object>"
      ]
     },
     "metadata": {},
     "output_type": "display_data"
    }
   ],
   "source": [
    "import pandas as pd\n",
    "import numpy as np\n",
    "import tweepy as tw\n",
    "import configparser\n",
    "import sqlite3\n",
    "\n",
    "import matplotlib.pyplot as plt\n",
    "\n",
    "import sklearn.metrics\n",
    "import sklearn.model_selection\n",
    "import sklearn.ensemble\n",
    "\n",
    "import nltk\n",
    "import re\n",
    "\n",
    "from gensim.parsing.preprocessing import STOPWORDS\n",
    "from nltk.stem import WordNetLemmatizer\n",
    "\n",
    "from vaderSentiment.vaderSentiment import SentimentIntensityAnalyzer\n",
    "from sklearn.feature_extraction.text import CountVectorizer\n",
    "from sklearn.feature_extraction.text import TfidfVectorizer\n",
    "from sklearn.linear_model import LogisticRegression\n",
    "from sklearn.svm import LinearSVC\n",
    "from sklearn.model_selection import cross_val_score\n",
    "from sklearn.metrics import plot_confusion_matrix\n",
    "from sklearn.metrics import plot_precision_recall_curve\n",
    "from sklearn.metrics import classification_report\n",
    "from sklearn.metrics import accuracy_score\n",
    "from sklearn.metrics import confusion_matrix\n",
    "from sklearn.metrics import plot_roc_curve"
   ]
  },
  {
   "cell_type": "markdown",
   "id": "960b22af",
   "metadata": {},
   "source": [
    "Above libraries are used for a variety of tasks related to data analysis and machine learning. Pandas and Numpy are used for data manipulation and analysis. Tweepy is used for interacting with the Twitter API. The configparser library is used for accessing configuration files. Sklearn is a library for machine learning, including regression, classification, clustering, and more. Matplotlib is a library for data visualization. NLTK is a library for natural language processing. Gensim is a library for topic modeling. The VADER sentiment analysis library is used for sentiment analysis. The CountVectorizer and TfidfVectorizer libraries are used for feature extraction. Logistic regression and linear SVC are used for classification. The cross_val_score, classification_report, confusion_matrix, and accuracy_score libraries are used for model evaluation. Finally, the plot_roc_curve library is used to generate a ROC curve.\n",
    "\n",
    "---"
   ]
  },
  {
   "cell_type": "code",
   "execution_count": 4,
   "id": "ebf246bb",
   "metadata": {},
   "outputs": [
    {
     "name": "stderr",
     "output_type": "stream",
     "text": [
      "[nltk_data] Downloading package stopwords to\n",
      "[nltk_data]     C:\\Users\\HAdel\\AppData\\Roaming\\nltk_data...\n",
      "[nltk_data]   Package stopwords is already up-to-date!\n",
      "[nltk_data] Downloading package omw-1.4 to\n",
      "[nltk_data]     C:\\Users\\HAdel\\AppData\\Roaming\\nltk_data...\n",
      "[nltk_data]   Package omw-1.4 is already up-to-date!\n",
      "[nltk_data] Downloading package wordnet to\n",
      "[nltk_data]     C:\\Users\\HAdel\\AppData\\Roaming\\nltk_data...\n",
      "[nltk_data]   Package wordnet is already up-to-date!\n"
     ]
    },
    {
     "data": {
      "text/plain": [
       "True"
      ]
     },
     "execution_count": 4,
     "metadata": {},
     "output_type": "execute_result"
    },
    {
     "data": {
      "application/javascript": [
       "\n",
       "            setTimeout(function() {\n",
       "                var nbb_cell_id = 4;\n",
       "                var nbb_unformatted_code = \"nltk.download(\\\"stopwords\\\")\\nnltk.download(\\\"omw-1.4\\\")\\nnltk.download(\\\"wordnet\\\")\";\n",
       "                var nbb_formatted_code = \"nltk.download(\\\"stopwords\\\")\\nnltk.download(\\\"omw-1.4\\\")\\nnltk.download(\\\"wordnet\\\")\";\n",
       "                var nbb_cells = Jupyter.notebook.get_cells();\n",
       "                for (var i = 0; i < nbb_cells.length; ++i) {\n",
       "                    if (nbb_cells[i].input_prompt_number == nbb_cell_id) {\n",
       "                        if (nbb_cells[i].get_text() == nbb_unformatted_code) {\n",
       "                             nbb_cells[i].set_text(nbb_formatted_code);\n",
       "                        }\n",
       "                        break;\n",
       "                    }\n",
       "                }\n",
       "            }, 500);\n",
       "            "
      ],
      "text/plain": [
       "<IPython.core.display.Javascript object>"
      ]
     },
     "metadata": {},
     "output_type": "display_data"
    }
   ],
   "source": [
    "nltk.download(\"stopwords\")\n",
    "nltk.download(\"omw-1.4\")\n",
    "nltk.download(\"wordnet\")"
   ]
  },
  {
   "cell_type": "markdown",
   "id": "bcaf264e",
   "metadata": {},
   "source": [
    "Above codes are used to download various data sets and libraries necessary for natural language processing tasks. The first line downloads the stopwords data set, which contains a list of commonly used words that are not useful for analysis. The second line downloads the Open Multilingual Wordnet (OMW) 1.4, which is a multilingual lexical database of word meanings. The third line downloads the Wordnet lemmatizer, which is used to reduce words to their base form. All of these tools are needed for natural language processing tasks such as text classification."
   ]
  },
  {
   "cell_type": "markdown",
   "id": "493fcc41",
   "metadata": {},
   "source": [
    "# <p style=\"background-color:green; font-family:calibri; font-size:120%; text-align:center;color:white\" id=\"data\">2. Reading Tweets</p>\n",
    "\n",
    "<a id=\"dataprep\"></a>"
   ]
  },
  {
   "cell_type": "markdown",
   "id": "0da00249",
   "metadata": {},
   "source": [
    "**Read Config File**"
   ]
  },
  {
   "cell_type": "code",
   "execution_count": 6,
   "id": "27eb4a87",
   "metadata": {},
   "outputs": [
    {
     "data": {
      "application/javascript": [
       "\n",
       "            setTimeout(function() {\n",
       "                var nbb_cell_id = 6;\n",
       "                var nbb_unformatted_code = \"config = configparser.ConfigParser()\\nconfig.read(\\\"config.ini\\\")\\n\\napi_key = config[\\\"twitter\\\"][\\\"api_key\\\"]\\napi_key_secret = config[\\\"twitter\\\"][\\\"api_key_secret\\\"]\\n\\naccess_token = config[\\\"twitter\\\"][\\\"access_token\\\"]\\naccess_token_secret = config[\\\"twitter\\\"][\\\"access_token_secret\\\"]\\n\\nbearer_token = config[\\\"twitter\\\"][\\\"bearer_token\\\"]\";\n",
       "                var nbb_formatted_code = \"config = configparser.ConfigParser()\\nconfig.read(\\\"config.ini\\\")\\n\\napi_key = config[\\\"twitter\\\"][\\\"api_key\\\"]\\napi_key_secret = config[\\\"twitter\\\"][\\\"api_key_secret\\\"]\\n\\naccess_token = config[\\\"twitter\\\"][\\\"access_token\\\"]\\naccess_token_secret = config[\\\"twitter\\\"][\\\"access_token_secret\\\"]\\n\\nbearer_token = config[\\\"twitter\\\"][\\\"bearer_token\\\"]\";\n",
       "                var nbb_cells = Jupyter.notebook.get_cells();\n",
       "                for (var i = 0; i < nbb_cells.length; ++i) {\n",
       "                    if (nbb_cells[i].input_prompt_number == nbb_cell_id) {\n",
       "                        if (nbb_cells[i].get_text() == nbb_unformatted_code) {\n",
       "                             nbb_cells[i].set_text(nbb_formatted_code);\n",
       "                        }\n",
       "                        break;\n",
       "                    }\n",
       "                }\n",
       "            }, 500);\n",
       "            "
      ],
      "text/plain": [
       "<IPython.core.display.Javascript object>"
      ]
     },
     "metadata": {},
     "output_type": "display_data"
    }
   ],
   "source": [
    "config = configparser.ConfigParser()\n",
    "config.read(\"config.ini\")\n",
    "\n",
    "api_key = config[\"twitter\"][\"api_key\"]\n",
    "api_key_secret = config[\"twitter\"][\"api_key_secret\"]\n",
    "\n",
    "access_token = config[\"twitter\"][\"access_token\"]\n",
    "access_token_secret = config[\"twitter\"][\"access_token_secret\"]\n",
    "\n",
    "bearer_token = config[\"twitter\"][\"bearer_token\"]"
   ]
  },
  {
   "cell_type": "markdown",
   "id": "92b87c88",
   "metadata": {},
   "source": [
    "The above block code is used to read and store the Twitter API credentials from a config.ini file. The config.ini file contains Twitter API keys and access tokens which are used to authenticate a user's requests when using the Twitter API. The code uses the configparser module to parse the config.ini file and store the credentials in variables. The variables are then used to authenticate requests when using the Twitter API.\n",
    "\n",
    "---"
   ]
  },
  {
   "cell_type": "markdown",
   "id": "8ff35cc6",
   "metadata": {},
   "source": [
    "**Authentication**"
   ]
  },
  {
   "cell_type": "code",
   "execution_count": 8,
   "id": "fc80f949",
   "metadata": {},
   "outputs": [
    {
     "data": {
      "application/javascript": [
       "\n",
       "            setTimeout(function() {\n",
       "                var nbb_cell_id = 8;\n",
       "                var nbb_unformatted_code = \"auth = tw.OAuthHandler(api_key, api_key_secret)\\nauth.set_access_token(access_token, access_token_secret)\\napi = tw.API(auth)\";\n",
       "                var nbb_formatted_code = \"auth = tw.OAuthHandler(api_key, api_key_secret)\\nauth.set_access_token(access_token, access_token_secret)\\napi = tw.API(auth)\";\n",
       "                var nbb_cells = Jupyter.notebook.get_cells();\n",
       "                for (var i = 0; i < nbb_cells.length; ++i) {\n",
       "                    if (nbb_cells[i].input_prompt_number == nbb_cell_id) {\n",
       "                        if (nbb_cells[i].get_text() == nbb_unformatted_code) {\n",
       "                             nbb_cells[i].set_text(nbb_formatted_code);\n",
       "                        }\n",
       "                        break;\n",
       "                    }\n",
       "                }\n",
       "            }, 500);\n",
       "            "
      ],
      "text/plain": [
       "<IPython.core.display.Javascript object>"
      ]
     },
     "metadata": {},
     "output_type": "display_data"
    }
   ],
   "source": [
    "auth = tw.OAuthHandler(api_key, api_key_secret)\n",
    "auth.set_access_token(access_token, access_token_secret)\n",
    "api = tw.API(auth)"
   ]
  },
  {
   "cell_type": "markdown",
   "id": "3963579b",
   "metadata": {},
   "source": [
    "The above block code is used to authenticate a user's requests when using the Twitter API. The tw.OAuthHandler() method requires two parameters: the API key and the API key secret. These are the credentials obtained from the config.ini file. The set_access_token() method requires two parameters: the access token and the access token secret. These are also obtained from the config.ini file. The API() method is used to create an instance of the Twitter API, which is used to make requests.\n",
    "\n",
    "---"
   ]
  },
  {
   "cell_type": "markdown",
   "id": "dbd82242",
   "metadata": {},
   "source": [
    "**Getting tweets**"
   ]
  },
  {
   "cell_type": "code",
   "execution_count": 9,
   "id": "92a7fbbc",
   "metadata": {},
   "outputs": [
    {
     "data": {
      "application/javascript": [
       "\n",
       "            setTimeout(function() {\n",
       "                var nbb_cell_id = 9;\n",
       "                var nbb_unformatted_code = \"tweet_max = 300\\nhashtag = \\\"#film\\\"\\n\\nconn = sqlite3.connect(\\\"tweets.db\\\")\\nc = conn.cursor()\\n\\nc.execute(\\n    \\\"\\\"\\\"\\n    CREATE TABLE IF NOT EXISTS tweets\\n        (\\n        author text, user text, text text, created_at text,\\n        retweet_count int, favorite_count int\\n        )\\n    \\\"\\\"\\\"\\n)\\n\\nfor tweet in tw.Cursor(api.search_tweets, q=hashtag, lang=\\\"en\\\").items(tweet_max):\\n    c.execute(\\n        \\\"INSERT INTO tweets VALUES (?, ?, ?, ?, ?, ?)\\\",\\n        (\\n            tweet.author.screen_name,\\n            tweet.user.name,\\n            tweet.text,\\n            tweet.created_at,\\n            tweet.retweet_count,\\n            tweet.favorite_count,\\n        ),\\n    )\\n\\nconn.commit()\\nconn.close()\";\n",
       "                var nbb_formatted_code = \"tweet_max = 300\\nhashtag = \\\"#film\\\"\\n\\nconn = sqlite3.connect(\\\"tweets.db\\\")\\nc = conn.cursor()\\n\\nc.execute(\\n    \\\"\\\"\\\"\\n    CREATE TABLE IF NOT EXISTS tweets\\n        (\\n        author text, user text, text text, created_at text,\\n        retweet_count int, favorite_count int\\n        )\\n    \\\"\\\"\\\"\\n)\\n\\nfor tweet in tw.Cursor(api.search_tweets, q=hashtag, lang=\\\"en\\\").items(tweet_max):\\n    c.execute(\\n        \\\"INSERT INTO tweets VALUES (?, ?, ?, ?, ?, ?)\\\",\\n        (\\n            tweet.author.screen_name,\\n            tweet.user.name,\\n            tweet.text,\\n            tweet.created_at,\\n            tweet.retweet_count,\\n            tweet.favorite_count,\\n        ),\\n    )\\n\\nconn.commit()\\nconn.close()\";\n",
       "                var nbb_cells = Jupyter.notebook.get_cells();\n",
       "                for (var i = 0; i < nbb_cells.length; ++i) {\n",
       "                    if (nbb_cells[i].input_prompt_number == nbb_cell_id) {\n",
       "                        if (nbb_cells[i].get_text() == nbb_unformatted_code) {\n",
       "                             nbb_cells[i].set_text(nbb_formatted_code);\n",
       "                        }\n",
       "                        break;\n",
       "                    }\n",
       "                }\n",
       "            }, 500);\n",
       "            "
      ],
      "text/plain": [
       "<IPython.core.display.Javascript object>"
      ]
     },
     "metadata": {},
     "output_type": "display_data"
    }
   ],
   "source": [
    "tweet_max = 2000\n",
    "hashtag = \"#film\"\n",
    "\n",
    "conn = sqlite3.connect(\"tweets.db\")\n",
    "c = conn.cursor()\n",
    "\n",
    "c.execute(\n",
    "    \"\"\"\n",
    "    CREATE TABLE IF NOT EXISTS tweets\n",
    "        (\n",
    "        author text, user text, text text, created_at text,\n",
    "        retweet_count int, favorite_count int\n",
    "        )\n",
    "    \"\"\"\n",
    ")\n",
    "\n",
    "for tweet in tw.Cursor(api.search_tweets, q=hashtag, lang=\"en\").items(tweet_max):\n",
    "    c.execute(\n",
    "        \"INSERT INTO tweets VALUES (?, ?, ?, ?, ?, ?)\",\n",
    "        (\n",
    "            tweet.author.screen_name,\n",
    "            tweet.user.name,\n",
    "            tweet.text,\n",
    "            tweet.created_at,\n",
    "            tweet.retweet_count,\n",
    "            tweet.favorite_count,\n",
    "        ),\n",
    "    )\n",
    "\n",
    "conn.commit()\n",
    "conn.close()"
   ]
  },
  {
   "cell_type": "markdown",
   "id": "5abd944f",
   "metadata": {},
   "source": [
    "The above block code is used to extract tweets with a specific hashtag and store them in a sqlite3 database. The tweet_max variable is used to specify the maximum number of tweets to be extracted, and the hashtag variable is used to specify the hashtag that should be searched for. The sqlite3.connect() method is used to create a sqlite3 database, and the c.execute() method is used to create a table if it does not already exist. The tw.Cursor() method is used to extract tweets, and the c.execute() method is used to store the tweets in the database. Finally, the conn.commit() method is used to save the changes, and the conn.close() method is used to close the connection.\n",
    "\n",
    "---"
   ]
  },
  {
   "cell_type": "markdown",
   "id": "b5021659",
   "metadata": {},
   "source": [
    "**2.1 Read the tweets from internal DB**"
   ]
  },
  {
   "cell_type": "code",
   "execution_count": 5,
   "id": "f0655b67",
   "metadata": {},
   "outputs": [
    {
     "data": {
      "application/javascript": [
       "\n",
       "            setTimeout(function() {\n",
       "                var nbb_cell_id = 5;\n",
       "                var nbb_unformatted_code = \"conn = sqlite3.connect(\\\"tweets.db\\\")\\nc = conn.cursor()\\n\\nc.execute(\\\"SELECT * FROM tweets\\\")\\n\\nrows = c.fetchall()\\n\\ndf = pd.DataFrame(\\n    rows,\\n    columns=[\\\"author\\\", \\\"user\\\", \\\"text\\\", \\\"created_at\\\", \\\"retweet_count\\\", \\\"favorite_count\\\"],\\n)\\nconn.close()\";\n",
       "                var nbb_formatted_code = \"conn = sqlite3.connect(\\\"tweets.db\\\")\\nc = conn.cursor()\\n\\nc.execute(\\\"SELECT * FROM tweets\\\")\\n\\nrows = c.fetchall()\\n\\ndf = pd.DataFrame(\\n    rows,\\n    columns=[\\\"author\\\", \\\"user\\\", \\\"text\\\", \\\"created_at\\\", \\\"retweet_count\\\", \\\"favorite_count\\\"],\\n)\\nconn.close()\";\n",
       "                var nbb_cells = Jupyter.notebook.get_cells();\n",
       "                for (var i = 0; i < nbb_cells.length; ++i) {\n",
       "                    if (nbb_cells[i].input_prompt_number == nbb_cell_id) {\n",
       "                        if (nbb_cells[i].get_text() == nbb_unformatted_code) {\n",
       "                             nbb_cells[i].set_text(nbb_formatted_code);\n",
       "                        }\n",
       "                        break;\n",
       "                    }\n",
       "                }\n",
       "            }, 500);\n",
       "            "
      ],
      "text/plain": [
       "<IPython.core.display.Javascript object>"
      ]
     },
     "metadata": {},
     "output_type": "display_data"
    }
   ],
   "source": [
    "conn = sqlite3.connect(\"tweets.db\")\n",
    "c = conn.cursor()\n",
    "\n",
    "c.execute(\"SELECT * FROM tweets\")\n",
    "\n",
    "rows = c.fetchall()\n",
    "\n",
    "df = pd.DataFrame(\n",
    "    rows,\n",
    "    columns=[\"author\", \"user\", \"text\", \"created_at\", \"retweet_count\", \"favorite_count\"],\n",
    ")\n",
    "conn.close()"
   ]
  },
  {
   "cell_type": "markdown",
   "id": "a5584b08",
   "metadata": {},
   "source": [
    "The above block code is used to read data from a sqlite3 database and store it in the \"df\" dataset. The sqlite3.connect() method is used to create a connection to the database, and the c.execute() method is used to select the data from the table. The c.fetchall() method is used to fetch all the rows from the table, and the pandas.DataFrame() method is used to create a dataframe. Finally, the conn.close() method is used to close the connection.\n",
    "\n",
    "---"
   ]
  },
  {
   "cell_type": "code",
   "execution_count": 6,
   "id": "e0f933f4",
   "metadata": {},
   "outputs": [
    {
     "name": "stdout",
     "output_type": "stream",
     "text": [
      "Data Frame Size: (3861, 6)\n"
     ]
    },
    {
     "data": {
      "text/html": [
       "<div>\n",
       "<style scoped>\n",
       "    .dataframe tbody tr th:only-of-type {\n",
       "        vertical-align: middle;\n",
       "    }\n",
       "\n",
       "    .dataframe tbody tr th {\n",
       "        vertical-align: top;\n",
       "    }\n",
       "\n",
       "    .dataframe thead th {\n",
       "        text-align: right;\n",
       "    }\n",
       "</style>\n",
       "<table border=\"1\" class=\"dataframe\">\n",
       "  <thead>\n",
       "    <tr style=\"text-align: right;\">\n",
       "      <th></th>\n",
       "      <th>author</th>\n",
       "      <th>user</th>\n",
       "      <th>text</th>\n",
       "      <th>created_at</th>\n",
       "      <th>retweet_count</th>\n",
       "      <th>favorite_count</th>\n",
       "    </tr>\n",
       "  </thead>\n",
       "  <tbody>\n",
       "    <tr>\n",
       "      <th>0</th>\n",
       "      <td>HLfavorito6</td>\n",
       "      <td>HL Social Networks </td>\n",
       "      <td>RT @WriterWoodrow: Full Metal Bitch\\nhttps://t...</td>\n",
       "      <td>2022-12-22 01:26:23+00:00</td>\n",
       "      <td>6</td>\n",
       "      <td>0</td>\n",
       "    </tr>\n",
       "    <tr>\n",
       "      <th>1</th>\n",
       "      <td>RaidenKozmik</td>\n",
       "      <td>Burn Factory</td>\n",
       "      <td>#movies #movie Jurassic Punk. #cgi #animation ...</td>\n",
       "      <td>2022-12-22 01:23:30+00:00</td>\n",
       "      <td>0</td>\n",
       "      <td>0</td>\n",
       "    </tr>\n",
       "    <tr>\n",
       "      <th>2</th>\n",
       "      <td>PennilessScribe</td>\n",
       "      <td>Ken Stark</td>\n",
       "      <td>RT @WriterWoodrow: Full Metal Bitch\\nhttps://t...</td>\n",
       "      <td>2022-12-22 01:23:29+00:00</td>\n",
       "      <td>6</td>\n",
       "      <td>0</td>\n",
       "    </tr>\n",
       "  </tbody>\n",
       "</table>\n",
       "</div>"
      ],
      "text/plain": [
       "            author                  user  \\\n",
       "0      HLfavorito6  HL Social Networks    \n",
       "1     RaidenKozmik          Burn Factory   \n",
       "2  PennilessScribe             Ken Stark   \n",
       "\n",
       "                                                text  \\\n",
       "0  RT @WriterWoodrow: Full Metal Bitch\\nhttps://t...   \n",
       "1  #movies #movie Jurassic Punk. #cgi #animation ...   \n",
       "2  RT @WriterWoodrow: Full Metal Bitch\\nhttps://t...   \n",
       "\n",
       "                  created_at  retweet_count  favorite_count  \n",
       "0  2022-12-22 01:26:23+00:00              6               0  \n",
       "1  2022-12-22 01:23:30+00:00              0               0  \n",
       "2  2022-12-22 01:23:29+00:00              6               0  "
      ]
     },
     "execution_count": 6,
     "metadata": {},
     "output_type": "execute_result"
    },
    {
     "data": {
      "application/javascript": [
       "\n",
       "            setTimeout(function() {\n",
       "                var nbb_cell_id = 6;\n",
       "                var nbb_unformatted_code = \"print(\\\"Data Frame Size:\\\", df.shape)\\n\\ndf.head(3)\";\n",
       "                var nbb_formatted_code = \"print(\\\"Data Frame Size:\\\", df.shape)\\n\\ndf.head(3)\";\n",
       "                var nbb_cells = Jupyter.notebook.get_cells();\n",
       "                for (var i = 0; i < nbb_cells.length; ++i) {\n",
       "                    if (nbb_cells[i].input_prompt_number == nbb_cell_id) {\n",
       "                        if (nbb_cells[i].get_text() == nbb_unformatted_code) {\n",
       "                             nbb_cells[i].set_text(nbb_formatted_code);\n",
       "                        }\n",
       "                        break;\n",
       "                    }\n",
       "                }\n",
       "            }, 500);\n",
       "            "
      ],
      "text/plain": [
       "<IPython.core.display.Javascript object>"
      ]
     },
     "metadata": {},
     "output_type": "display_data"
    }
   ],
   "source": [
    "print(\"Data Frame Size:\", df.shape)\n",
    "\n",
    "df.head(3)"
   ]
  },
  {
   "cell_type": "markdown",
   "id": "bc14163d",
   "metadata": {},
   "source": [
    "# <p style=\"background-color:green; font-family:calibri; font-size:120%; text-align:center;color:white\" id=\"data\">3. Text Preprocessing</p>\n",
    "\n",
    "<a id=\"dataprep\"></a>"
   ]
  },
  {
   "cell_type": "code",
   "execution_count": 36,
   "id": "5d337379",
   "metadata": {},
   "outputs": [
    {
     "data": {
      "application/javascript": [
       "\n",
       "            setTimeout(function() {\n",
       "                var nbb_cell_id = 36;\n",
       "                var nbb_unformatted_code = \"def cleantxt(text):\\n    text = text.lower()\\n    tokenizer = nltk.RegexpTokenizer(r\\\"\\\\w+ \\\")\\n    wrds = tokenizer.tokenize(text)\\n    wrds = [w for w in wrds if not w.isdigit()]\\n    wrds = [w for w in wrds if not w.startswith(\\\"/[\\\\x00-\\\\x7F]/\\\")]  # Emojies\\n    wrds = [w for w in wrds if not w.startswith(\\\"http\\\")]\\n    wrds = [w for w in wrds if not w.startswith(\\\"www\\\")]\\n    wrds = [w for w in wrds if w not in STOPWORDS]\\n    wrds = [w for w in wrds if not w.startswith(\\\"@\\\")]\\n    wrds = [w.split(\\\"@\\\")[0] for w in wrds]\\n    lemmatizer = WordNetLemmatizer()\\n    lemmatized_words = [lemmatizer.lemmatize(w) for w in wrds]\\n    hashtag_words = [w for w in wrds if w.startswith(\\\"#\\\")]\\n    wrds = [w for w in wrds if not w.startswith(\\\"#\\\")]\\n    return \\\"\\\".join(lemmatized_words)\\n\\ndf[\\\"clean_text_lem\\\"] = df[\\\"text\\\"].apply(cleantxt)\";\n",
       "                var nbb_formatted_code = \"def cleantxt(text):\\n    text = text.lower()\\n    tokenizer = nltk.RegexpTokenizer(r\\\"\\\\w+ \\\")\\n    wrds = tokenizer.tokenize(text)\\n    wrds = [w for w in wrds if not w.isdigit()]\\n    wrds = [w for w in wrds if not w.startswith(\\\"/[\\\\x00-\\\\x7F]/\\\")]  # Emojies\\n    wrds = [w for w in wrds if not w.startswith(\\\"http\\\")]\\n    wrds = [w for w in wrds if not w.startswith(\\\"www\\\")]\\n    wrds = [w for w in wrds if w not in STOPWORDS]\\n    wrds = [w for w in wrds if not w.startswith(\\\"@\\\")]\\n    wrds = [w.split(\\\"@\\\")[0] for w in wrds]\\n    lemmatizer = WordNetLemmatizer()\\n    lemmatized_words = [lemmatizer.lemmatize(w) for w in wrds]\\n    hashtag_words = [w for w in wrds if w.startswith(\\\"#\\\")]\\n    wrds = [w for w in wrds if not w.startswith(\\\"#\\\")]\\n    return \\\"\\\".join(lemmatized_words)\\n\\n\\ndf[\\\"clean_text_lem\\\"] = df[\\\"text\\\"].apply(cleantxt)\";\n",
       "                var nbb_cells = Jupyter.notebook.get_cells();\n",
       "                for (var i = 0; i < nbb_cells.length; ++i) {\n",
       "                    if (nbb_cells[i].input_prompt_number == nbb_cell_id) {\n",
       "                        if (nbb_cells[i].get_text() == nbb_unformatted_code) {\n",
       "                             nbb_cells[i].set_text(nbb_formatted_code);\n",
       "                        }\n",
       "                        break;\n",
       "                    }\n",
       "                }\n",
       "            }, 500);\n",
       "            "
      ],
      "text/plain": [
       "<IPython.core.display.Javascript object>"
      ]
     },
     "metadata": {},
     "output_type": "display_data"
    }
   ],
   "source": [
    "def cleantxt(text):\n",
    "    text = text.lower()\n",
    "    tokenizer = nltk.RegexpTokenizer(r\"\\w+ \")\n",
    "    wrds = tokenizer.tokenize(text)\n",
    "    wrds = [w for w in wrds if not w.isdigit()]\n",
    "    wrds = [w for w in wrds if not w.startswith(\"/[\\x00-\\x7F]/\")]  # Emojies\n",
    "    wrds = [w for w in wrds if not w.startswith(\"http\")]\n",
    "    wrds = [w for w in wrds if not w.startswith(\"www\")]\n",
    "    wrds = [w for w in wrds if w not in STOPWORDS]\n",
    "    wrds = [w for w in wrds if not w.startswith(\"@\")]\n",
    "    wrds = [w.split(\"@\")[0] for w in wrds]\n",
    "    lemmatizer = WordNetLemmatizer()\n",
    "    lemmatized_words = [lemmatizer.lemmatize(w) for w in wrds]\n",
    "    hashtag_words = [w for w in wrds if w.startswith(\"#\")]\n",
    "    wrds = [w for w in wrds if not w.startswith(\"#\")]\n",
    "    return \"\".join(lemmatized_words)\n",
    "\n",
    "\n",
    "df[\"clean_text_lem\"] = df[\"text\"].apply(cleantxt)"
   ]
  },
  {
   "cell_type": "code",
   "execution_count": 37,
   "id": "eb452550",
   "metadata": {
    "scrolled": true
   },
   "outputs": [
    {
     "data": {
      "application/javascript": [
       "\n",
       "            setTimeout(function() {\n",
       "                var nbb_cell_id = 37;\n",
       "                var nbb_unformatted_code = \"def cleantxt(text):\\n    text = text.lower()\\n    tokenizer = nltk.RegexpTokenizer(r\\\"\\\\w+ \\\")\\n    wrds = tokenizer.tokenize(text)\\n    wrds = [w for w in wrds if not w.isdigit()]\\n    wrds = [w for w in wrds if not w.startswith(\\\"/[\\\\x00-\\\\x7F]/\\\")]  # Emojies\\n    wrds = [w for w in wrds if not w.startswith(\\\"http\\\")]\\n    wrds = [w for w in wrds if not w.startswith(\\\"www\\\")]\\n    wrds = [w for w in wrds if w not in STOPWORDS]\\n    wrds = [w for w in wrds if not w.startswith(\\\"@\\\")]\\n    wrds = [w.split(\\\"@\\\")[0] for w in wrds]\\n    porter_stemmer = nltk.stem.porter.PorterStemmer()\\n    stemmed_words = [porter_stemmer.stem(w) for w in wrds]\\n    hashtag_words = [w for w in wrds if w.startswith(\\\"#\\\")]\\n    wrds = [w for w in wrds if not w.startswith(\\\"#\\\")]\\n    return \\\"\\\".join(stemmed_words)\\n\\ndf[\\\"clean_text_stem\\\"] = df[\\\"text\\\"].apply(cleantxt)\";\n",
       "                var nbb_formatted_code = \"def cleantxt(text):\\n    text = text.lower()\\n    tokenizer = nltk.RegexpTokenizer(r\\\"\\\\w+ \\\")\\n    wrds = tokenizer.tokenize(text)\\n    wrds = [w for w in wrds if not w.isdigit()]\\n    wrds = [w for w in wrds if not w.startswith(\\\"/[\\\\x00-\\\\x7F]/\\\")]  # Emojies\\n    wrds = [w for w in wrds if not w.startswith(\\\"http\\\")]\\n    wrds = [w for w in wrds if not w.startswith(\\\"www\\\")]\\n    wrds = [w for w in wrds if w not in STOPWORDS]\\n    wrds = [w for w in wrds if not w.startswith(\\\"@\\\")]\\n    wrds = [w.split(\\\"@\\\")[0] for w in wrds]\\n    porter_stemmer = nltk.stem.porter.PorterStemmer()\\n    stemmed_words = [porter_stemmer.stem(w) for w in wrds]\\n    hashtag_words = [w for w in wrds if w.startswith(\\\"#\\\")]\\n    wrds = [w for w in wrds if not w.startswith(\\\"#\\\")]\\n    return \\\"\\\".join(stemmed_words)\\n\\n\\ndf[\\\"clean_text_stem\\\"] = df[\\\"text\\\"].apply(cleantxt)\";\n",
       "                var nbb_cells = Jupyter.notebook.get_cells();\n",
       "                for (var i = 0; i < nbb_cells.length; ++i) {\n",
       "                    if (nbb_cells[i].input_prompt_number == nbb_cell_id) {\n",
       "                        if (nbb_cells[i].get_text() == nbb_unformatted_code) {\n",
       "                             nbb_cells[i].set_text(nbb_formatted_code);\n",
       "                        }\n",
       "                        break;\n",
       "                    }\n",
       "                }\n",
       "            }, 500);\n",
       "            "
      ],
      "text/plain": [
       "<IPython.core.display.Javascript object>"
      ]
     },
     "metadata": {},
     "output_type": "display_data"
    }
   ],
   "source": [
    "def cleantxt(text):\n",
    "    text = text.lower()\n",
    "    tokenizer = nltk.RegexpTokenizer(r\"\\w+ \")\n",
    "    wrds = tokenizer.tokenize(text)\n",
    "    wrds = [w for w in wrds if not w.isdigit()]\n",
    "    wrds = [w for w in wrds if not w.startswith(\"/[\\x00-\\x7F]/\")]  # Emojies\n",
    "    wrds = [w for w in wrds if not w.startswith(\"http\")]\n",
    "    wrds = [w for w in wrds if not w.startswith(\"www\")]\n",
    "    wrds = [w for w in wrds if w not in STOPWORDS]\n",
    "    wrds = [w for w in wrds if not w.startswith(\"@\")]\n",
    "    wrds = [w.split(\"@\")[0] for w in wrds]\n",
    "    porter_stemmer = nltk.stem.porter.PorterStemmer()\n",
    "    stemmed_words = [porter_stemmer.stem(w) for w in wrds]\n",
    "    hashtag_words = [w for w in wrds if w.startswith(\"#\")]\n",
    "    wrds = [w for w in wrds if not w.startswith(\"#\")]\n",
    "    return \"\".join(stemmed_words)\n",
    "\n",
    "\n",
    "df[\"clean_text_stem\"] = df[\"text\"].apply(cleantxt)"
   ]
  },
  {
   "cell_type": "markdown",
   "id": "41f8957d",
   "metadata": {},
   "source": [
    "These two block codes are used to clean the text data on the applied text or dataframe. The code uses the nltk and gensim library to tokenize the text and then it removes the digits, website links, stopwords, emojis, twitter user names, lowercase all words and then it lemmatizes (first block) or stem (second block) the words. Finally, the code removes the words starting with \"#\" and returns the lemmatized/stemmed words.\n",
    "\n",
    "---"
   ]
  },
  {
   "cell_type": "markdown",
   "id": "84e5621b",
   "metadata": {},
   "source": [
    "**Note:**\n",
    "\n",
    "Lemmatizing is generally considered to be a better approach than stemming. Lemmatizing is more accurate as it considers the context of the words and reduces them to their base form. Stemming sometimes produces incorrect words as it only considers the word's root form without considering its context. Hence, lemmatizing is a better approach for text preprocessing.\n",
    "therefore we go through the lemmatized text on the following steps.\n",
    "\n",
    "---"
   ]
  },
  {
   "cell_type": "code",
   "execution_count": 9,
   "id": "af4978bc",
   "metadata": {},
   "outputs": [
    {
     "data": {
      "application/javascript": [
       "\n",
       "            setTimeout(function() {\n",
       "                var nbb_cell_id = 9;\n",
       "                var nbb_unformatted_code = \"analyzer = SentimentIntensityAnalyzer()\\ndf[\\\"sentiment\\\"] = df[\\\"clean_text_lem\\\"].apply(\\n    lambda tweet: analyzer.polarity_scores(tweet)[\\\"compound\\\"]\\n)\";\n",
       "                var nbb_formatted_code = \"analyzer = SentimentIntensityAnalyzer()\\ndf[\\\"sentiment\\\"] = df[\\\"clean_text_lem\\\"].apply(\\n    lambda tweet: analyzer.polarity_scores(tweet)[\\\"compound\\\"]\\n)\";\n",
       "                var nbb_cells = Jupyter.notebook.get_cells();\n",
       "                for (var i = 0; i < nbb_cells.length; ++i) {\n",
       "                    if (nbb_cells[i].input_prompt_number == nbb_cell_id) {\n",
       "                        if (nbb_cells[i].get_text() == nbb_unformatted_code) {\n",
       "                             nbb_cells[i].set_text(nbb_formatted_code);\n",
       "                        }\n",
       "                        break;\n",
       "                    }\n",
       "                }\n",
       "            }, 500);\n",
       "            "
      ],
      "text/plain": [
       "<IPython.core.display.Javascript object>"
      ]
     },
     "metadata": {},
     "output_type": "display_data"
    }
   ],
   "source": [
    "analyzer = SentimentIntensityAnalyzer()\n",
    "df[\"sentiment\"] = df[\"clean_text_lem\"].apply(\n",
    "    lambda tweet: analyzer.polarity_scores(tweet)[\"compound\"]\n",
    ")"
   ]
  },
  {
   "cell_type": "markdown",
   "id": "b33f072a",
   "metadata": {},
   "source": [
    "The above block code is used to compute the sentiment score of the text data. It uses the SentimentIntensityAnalyzer from the nltk library to compute the sentiment score of the text. The score is in the range of -1 to 1, where -1 is negative and 1 is positive.\n",
    "\n",
    "---"
   ]
  },
  {
   "cell_type": "code",
   "execution_count": 10,
   "id": "4d9047e2",
   "metadata": {},
   "outputs": [
    {
     "data": {
      "application/javascript": [
       "\n",
       "            setTimeout(function() {\n",
       "                var nbb_cell_id = 10;\n",
       "                var nbb_unformatted_code = \"df[\\\"sentiment_class\\\"] = df[\\\"sentiment\\\"].apply(\\n    lambda sentiment: \\\"positive\\\"\\n    if sentiment > 0\\n    else \\\"negative\\\"\\n    if sentiment < 0\\n    else \\\"neutral\\\"\\n)\";\n",
       "                var nbb_formatted_code = \"df[\\\"sentiment_class\\\"] = df[\\\"sentiment\\\"].apply(\\n    lambda sentiment: \\\"positive\\\"\\n    if sentiment > 0\\n    else \\\"negative\\\"\\n    if sentiment < 0\\n    else \\\"neutral\\\"\\n)\";\n",
       "                var nbb_cells = Jupyter.notebook.get_cells();\n",
       "                for (var i = 0; i < nbb_cells.length; ++i) {\n",
       "                    if (nbb_cells[i].input_prompt_number == nbb_cell_id) {\n",
       "                        if (nbb_cells[i].get_text() == nbb_unformatted_code) {\n",
       "                             nbb_cells[i].set_text(nbb_formatted_code);\n",
       "                        }\n",
       "                        break;\n",
       "                    }\n",
       "                }\n",
       "            }, 500);\n",
       "            "
      ],
      "text/plain": [
       "<IPython.core.display.Javascript object>"
      ]
     },
     "metadata": {},
     "output_type": "display_data"
    }
   ],
   "source": [
    "df[\"sentiment_class\"] = df[\"sentiment\"].apply(\n",
    "    lambda sentiment: \"positive\"\n",
    "    if sentiment > 0\n",
    "    else \"negative\"\n",
    "    if sentiment < 0\n",
    "    else \"neutral\"\n",
    ")"
   ]
  },
  {
   "cell_type": "markdown",
   "id": "e173d187",
   "metadata": {},
   "source": [
    "The above block code is used to classify the sentiment score into positive, negative or neutral. It uses the sentiment score generated from the previous code block and assigns a sentiment class based on the score. If the score is greater than 0, it is classified as positive, if the score is lesser than 0, it is classified as negative and if the score is 0, it is classified as neutral.\n",
    "\n",
    "---"
   ]
  },
  {
   "cell_type": "code",
   "execution_count": 11,
   "id": "7db763b8",
   "metadata": {},
   "outputs": [
    {
     "data": {
      "text/html": [
       "<div>\n",
       "<style scoped>\n",
       "    .dataframe tbody tr th:only-of-type {\n",
       "        vertical-align: middle;\n",
       "    }\n",
       "\n",
       "    .dataframe tbody tr th {\n",
       "        vertical-align: top;\n",
       "    }\n",
       "\n",
       "    .dataframe thead th {\n",
       "        text-align: right;\n",
       "    }\n",
       "</style>\n",
       "<table border=\"1\" class=\"dataframe\">\n",
       "  <thead>\n",
       "    <tr style=\"text-align: right;\">\n",
       "      <th></th>\n",
       "      <th>author</th>\n",
       "      <th>user</th>\n",
       "      <th>text</th>\n",
       "      <th>created_at</th>\n",
       "      <th>retweet_count</th>\n",
       "      <th>favorite_count</th>\n",
       "      <th>clean_text_lem</th>\n",
       "      <th>clean_text_stem</th>\n",
       "      <th>sentiment</th>\n",
       "      <th>sentiment_class</th>\n",
       "    </tr>\n",
       "  </thead>\n",
       "  <tbody>\n",
       "    <tr>\n",
       "      <th>0</th>\n",
       "      <td>HLfavorito6</td>\n",
       "      <td>HL Social Networks </td>\n",
       "      <td>RT @WriterWoodrow: Full Metal Bitch\\nhttps://t...</td>\n",
       "      <td>2022-12-22 01:26:23+00:00</td>\n",
       "      <td>6</td>\n",
       "      <td>0</td>\n",
       "      <td>rt full metal tpw1ilu6dp vampires mermaid book...</td>\n",
       "      <td>rt full metal tpw1ilu6dp vampires mermaid book...</td>\n",
       "      <td>0.0</td>\n",
       "      <td>neutral</td>\n",
       "    </tr>\n",
       "    <tr>\n",
       "      <th>1</th>\n",
       "      <td>RaidenKozmik</td>\n",
       "      <td>Burn Factory</td>\n",
       "      <td>#movies #movie Jurassic Punk. #cgi #animation ...</td>\n",
       "      <td>2022-12-22 01:23:30+00:00</td>\n",
       "      <td>0</td>\n",
       "      <td>0</td>\n",
       "      <td>movies movie jurassic cgi animation movie</td>\n",
       "      <td>movies movie jurassic cgi animation movie</td>\n",
       "      <td>0.0</td>\n",
       "      <td>neutral</td>\n",
       "    </tr>\n",
       "    <tr>\n",
       "      <th>2</th>\n",
       "      <td>PennilessScribe</td>\n",
       "      <td>Ken Stark</td>\n",
       "      <td>RT @WriterWoodrow: Full Metal Bitch\\nhttps://t...</td>\n",
       "      <td>2022-12-22 01:23:29+00:00</td>\n",
       "      <td>6</td>\n",
       "      <td>0</td>\n",
       "      <td>rt full metal tpw1ilu6dp vampires mermaid book...</td>\n",
       "      <td>rt full metal tpw1ilu6dp vampires mermaid book...</td>\n",
       "      <td>0.0</td>\n",
       "      <td>neutral</td>\n",
       "    </tr>\n",
       "  </tbody>\n",
       "</table>\n",
       "</div>"
      ],
      "text/plain": [
       "            author                  user  \\\n",
       "0      HLfavorito6  HL Social Networks    \n",
       "1     RaidenKozmik          Burn Factory   \n",
       "2  PennilessScribe             Ken Stark   \n",
       "\n",
       "                                                text  \\\n",
       "0  RT @WriterWoodrow: Full Metal Bitch\\nhttps://t...   \n",
       "1  #movies #movie Jurassic Punk. #cgi #animation ...   \n",
       "2  RT @WriterWoodrow: Full Metal Bitch\\nhttps://t...   \n",
       "\n",
       "                  created_at  retweet_count  favorite_count  \\\n",
       "0  2022-12-22 01:26:23+00:00              6               0   \n",
       "1  2022-12-22 01:23:30+00:00              0               0   \n",
       "2  2022-12-22 01:23:29+00:00              6               0   \n",
       "\n",
       "                                      clean_text_lem  \\\n",
       "0  rt full metal tpw1ilu6dp vampires mermaid book...   \n",
       "1         movies movie jurassic cgi animation movie    \n",
       "2  rt full metal tpw1ilu6dp vampires mermaid book...   \n",
       "\n",
       "                                     clean_text_stem  sentiment  \\\n",
       "0  rt full metal tpw1ilu6dp vampires mermaid book...        0.0   \n",
       "1         movies movie jurassic cgi animation movie         0.0   \n",
       "2  rt full metal tpw1ilu6dp vampires mermaid book...        0.0   \n",
       "\n",
       "  sentiment_class  \n",
       "0         neutral  \n",
       "1         neutral  \n",
       "2         neutral  "
      ]
     },
     "execution_count": 11,
     "metadata": {},
     "output_type": "execute_result"
    },
    {
     "data": {
      "application/javascript": [
       "\n",
       "            setTimeout(function() {\n",
       "                var nbb_cell_id = 11;\n",
       "                var nbb_unformatted_code = \"df.head(3)\";\n",
       "                var nbb_formatted_code = \"df.head(3)\";\n",
       "                var nbb_cells = Jupyter.notebook.get_cells();\n",
       "                for (var i = 0; i < nbb_cells.length; ++i) {\n",
       "                    if (nbb_cells[i].input_prompt_number == nbb_cell_id) {\n",
       "                        if (nbb_cells[i].get_text() == nbb_unformatted_code) {\n",
       "                             nbb_cells[i].set_text(nbb_formatted_code);\n",
       "                        }\n",
       "                        break;\n",
       "                    }\n",
       "                }\n",
       "            }, 500);\n",
       "            "
      ],
      "text/plain": [
       "<IPython.core.display.Javascript object>"
      ]
     },
     "metadata": {},
     "output_type": "display_data"
    }
   ],
   "source": [
    "df.head(3)"
   ]
  },
  {
   "cell_type": "code",
   "execution_count": 21,
   "id": "4c10f8c8",
   "metadata": {},
   "outputs": [
    {
     "data": {
      "application/javascript": [
       "\n",
       "            setTimeout(function() {\n",
       "                var nbb_cell_id = 21;\n",
       "                var nbb_unformatted_code = \"df.to_csv(\\\"export.csv\\\")\";\n",
       "                var nbb_formatted_code = \"df.to_csv(\\\"export.csv\\\")\";\n",
       "                var nbb_cells = Jupyter.notebook.get_cells();\n",
       "                for (var i = 0; i < nbb_cells.length; ++i) {\n",
       "                    if (nbb_cells[i].input_prompt_number == nbb_cell_id) {\n",
       "                        if (nbb_cells[i].get_text() == nbb_unformatted_code) {\n",
       "                             nbb_cells[i].set_text(nbb_formatted_code);\n",
       "                        }\n",
       "                        break;\n",
       "                    }\n",
       "                }\n",
       "            }, 500);\n",
       "            "
      ],
      "text/plain": [
       "<IPython.core.display.Javascript object>"
      ]
     },
     "metadata": {},
     "output_type": "display_data"
    }
   ],
   "source": [
    "df.to_csv(\"export.csv\")"
   ]
  },
  {
   "cell_type": "markdown",
   "id": "5a9d25cc",
   "metadata": {},
   "source": [
    "above code is used to export to a CSV file for futhur analysis"
   ]
  },
  {
   "cell_type": "markdown",
   "id": "ea7ca353",
   "metadata": {},
   "source": [
    "# <p style=\"background-color:green; font-family:calibri; font-size:120%; text-align:center;color:white\" id=\"data\">4. Data Visualization</p>\n",
    "\n",
    "<a id=\"dataprep\"></a>\n"
   ]
  },
  {
   "cell_type": "code",
   "execution_count": 12,
   "id": "80fb2e84",
   "metadata": {},
   "outputs": [
    {
     "data": {
      "image/png": "[encoded data removed]",
      "text/plain": [
       "<Figure size 432x288 with 1 Axes>"
      ]
     },
     "metadata": {
      "needs_background": "light"
     },
     "output_type": "display_data"
    },
    {
     "data": {
      "application/javascript": [
       "\n",
       "            setTimeout(function() {\n",
       "                var nbb_cell_id = 12;\n",
       "                var nbb_unformatted_code = \"sntmnt_cnt = df.groupby(\\\"sentiment_class\\\")[\\\"clean_text_lem\\\"].count()\\n\\nplt.bar(\\n    sntmnt_cnt.index, sntmnt_cnt.values, color=[\\\"red\\\", \\\"green\\\", \\\"blue\\\"],\\n)\\nplt.xlabel(\\\"Sentiment Class\\\")\\nplt.ylabel(\\\"Count\\\")\\nplt.title(\\\"Sentiment Classification Count\\\")\\nfor i, v in enumerate(sntmnt_cnt.values):\\n    plt.text(i - 0.2, v + 5, str(v), color=\\\"black\\\")\\n\\nplt.show()\";\n",
       "                var nbb_formatted_code = \"sntmnt_cnt = df.groupby(\\\"sentiment_class\\\")[\\\"clean_text_lem\\\"].count()\\n\\nplt.bar(\\n    sntmnt_cnt.index, sntmnt_cnt.values, color=[\\\"red\\\", \\\"green\\\", \\\"blue\\\"],\\n)\\nplt.xlabel(\\\"Sentiment Class\\\")\\nplt.ylabel(\\\"Count\\\")\\nplt.title(\\\"Sentiment Classification Count\\\")\\nfor i, v in enumerate(sntmnt_cnt.values):\\n    plt.text(i - 0.2, v + 5, str(v), color=\\\"black\\\")\\n\\nplt.show()\";\n",
       "                var nbb_cells = Jupyter.notebook.get_cells();\n",
       "                for (var i = 0; i < nbb_cells.length; ++i) {\n",
       "                    if (nbb_cells[i].input_prompt_number == nbb_cell_id) {\n",
       "                        if (nbb_cells[i].get_text() == nbb_unformatted_code) {\n",
       "                             nbb_cells[i].set_text(nbb_formatted_code);\n",
       "                        }\n",
       "                        break;\n",
       "                    }\n",
       "                }\n",
       "            }, 500);\n",
       "            "
      ],
      "text/plain": [
       "<IPython.core.display.Javascript object>"
      ]
     },
     "metadata": {},
     "output_type": "display_data"
    }
   ],
   "source": [
    "sntmnt_cnt = df.groupby(\"sentiment_class\")[\"clean_text_lem\"].count()\n",
    "\n",
    "plt.bar(\n",
    "    sntmnt_cnt.index, sntmnt_cnt.values, color=[\"red\", \"green\", \"blue\"],\n",
    ")\n",
    "plt.xlabel(\"Sentiment Class\")\n",
    "plt.ylabel(\"Count\")\n",
    "plt.title(\"Sentiment Classification Count\")\n",
    "for i, v in enumerate(sntmnt_cnt.values):\n",
    "    plt.text(i - 0.2, v + 5, str(v), color=\"black\")\n",
    "\n",
    "plt.show()"
   ]
  },
  {
   "cell_type": "markdown",
   "id": "2c9ac9d9",
   "metadata": {},
   "source": [
    "# <p style=\"background-color:green; font-family:calibri; font-size:120%; text-align:center;color:white\" id=\"data\">5. Splitting the Dataset into Train and Test</p>\n",
    "\n",
    "<a id=\"dataprep\"></a>\n"
   ]
  },
  {
   "cell_type": "code",
   "execution_count": 13,
   "id": "f91a59d6",
   "metadata": {},
   "outputs": [
    {
     "data": {
      "application/javascript": [
       "\n",
       "            setTimeout(function() {\n",
       "                var nbb_cell_id = 13;\n",
       "                var nbb_unformatted_code = \"x = df[\\\"clean_text_lem\\\"]\\ny = df[\\\"sentiment_class\\\"]\\nx_train, x_test, y_train, y_test = sklearn.model_selection.train_test_split(x, y)\";\n",
       "                var nbb_formatted_code = \"x = df[\\\"clean_text_lem\\\"]\\ny = df[\\\"sentiment_class\\\"]\\nx_train, x_test, y_train, y_test = sklearn.model_selection.train_test_split(x, y)\";\n",
       "                var nbb_cells = Jupyter.notebook.get_cells();\n",
       "                for (var i = 0; i < nbb_cells.length; ++i) {\n",
       "                    if (nbb_cells[i].input_prompt_number == nbb_cell_id) {\n",
       "                        if (nbb_cells[i].get_text() == nbb_unformatted_code) {\n",
       "                             nbb_cells[i].set_text(nbb_formatted_code);\n",
       "                        }\n",
       "                        break;\n",
       "                    }\n",
       "                }\n",
       "            }, 500);\n",
       "            "
      ],
      "text/plain": [
       "<IPython.core.display.Javascript object>"
      ]
     },
     "metadata": {},
     "output_type": "display_data"
    }
   ],
   "source": [
    "x = df[\"clean_text_lem\"]\n",
    "y = df[\"sentiment_class\"]\n",
    "x_train, x_test, y_train, y_test = sklearn.model_selection.train_test_split(x, y)"
   ]
  },
  {
   "cell_type": "code",
   "execution_count": 14,
   "id": "7762b27d",
   "metadata": {},
   "outputs": [
    {
     "name": "stdout",
     "output_type": "stream",
     "text": [
      "(2895,)\n",
      "(2895,)\n",
      "(966,)\n",
      "(966,)\n"
     ]
    },
    {
     "data": {
      "application/javascript": [
       "\n",
       "            setTimeout(function() {\n",
       "                var nbb_cell_id = 14;\n",
       "                var nbb_unformatted_code = \"print(x_train.shape)\\nprint(y_train.shape)\\nprint(x_test.shape)\\nprint(y_test.shape)\";\n",
       "                var nbb_formatted_code = \"print(x_train.shape)\\nprint(y_train.shape)\\nprint(x_test.shape)\\nprint(y_test.shape)\";\n",
       "                var nbb_cells = Jupyter.notebook.get_cells();\n",
       "                for (var i = 0; i < nbb_cells.length; ++i) {\n",
       "                    if (nbb_cells[i].input_prompt_number == nbb_cell_id) {\n",
       "                        if (nbb_cells[i].get_text() == nbb_unformatted_code) {\n",
       "                             nbb_cells[i].set_text(nbb_formatted_code);\n",
       "                        }\n",
       "                        break;\n",
       "                    }\n",
       "                }\n",
       "            }, 500);\n",
       "            "
      ],
      "text/plain": [
       "<IPython.core.display.Javascript object>"
      ]
     },
     "metadata": {},
     "output_type": "display_data"
    }
   ],
   "source": [
    "print(x_train.shape)\n",
    "print(y_train.shape)\n",
    "print(x_test.shape)\n",
    "print(y_test.shape)"
   ]
  },
  {
   "cell_type": "markdown",
   "id": "c55a2ddd",
   "metadata": {},
   "source": [
    "# <p style=\"background-color:green; font-family:calibri; font-size:120%; text-align:center;color:white\" id=\"data\">6. Feature engineering</p>"
   ]
  },
  {
   "cell_type": "markdown",
   "id": "a5eaac78",
   "metadata": {},
   "source": [
    "**Transforming Dataset using TF-IDF Vectorizer**"
   ]
  },
  {
   "cell_type": "code",
   "execution_count": 15,
   "id": "87c9e774",
   "metadata": {},
   "outputs": [
    {
     "data": {
      "application/javascript": [
       "\n",
       "            setTimeout(function() {\n",
       "                var nbb_cell_id = 15;\n",
       "                var nbb_unformatted_code = \"count_vect = CountVectorizer()\\nx_train_count = count_vect.fit_transform(x_train)\\nx_test_count = count_vect.transform(x_test)\";\n",
       "                var nbb_formatted_code = \"count_vect = CountVectorizer()\\nx_train_count = count_vect.fit_transform(x_train)\\nx_test_count = count_vect.transform(x_test)\";\n",
       "                var nbb_cells = Jupyter.notebook.get_cells();\n",
       "                for (var i = 0; i < nbb_cells.length; ++i) {\n",
       "                    if (nbb_cells[i].input_prompt_number == nbb_cell_id) {\n",
       "                        if (nbb_cells[i].get_text() == nbb_unformatted_code) {\n",
       "                             nbb_cells[i].set_text(nbb_formatted_code);\n",
       "                        }\n",
       "                        break;\n",
       "                    }\n",
       "                }\n",
       "            }, 500);\n",
       "            "
      ],
      "text/plain": [
       "<IPython.core.display.Javascript object>"
      ]
     },
     "metadata": {},
     "output_type": "display_data"
    }
   ],
   "source": [
    "count_vect = CountVectorizer()\n",
    "x_train_count = count_vect.fit_transform(x_train)\n",
    "x_test_count = count_vect.transform(x_test)"
   ]
  },
  {
   "cell_type": "markdown",
   "id": "88693a22",
   "metadata": {},
   "source": [
    "The above code block is used to create a CountVectorizer object and use it to transform the data for both the training and the test sets. CountVectorizer is a method used for tokenizing and counting the frequency of words. It converts a collection of text documents to a matrix of token counts. The fit_transform() method is used on the training set to fit the CountVectorizer object to the data, and then transform it into a matrix of token counts. The transform() method is then used on the test set to transform it into a matrix of token counts.\n",
    "\n",
    "\n",
    "---"
   ]
  },
  {
   "cell_type": "code",
   "execution_count": 16,
   "id": "09b44b76",
   "metadata": {},
   "outputs": [
    {
     "data": {
      "application/javascript": [
       "\n",
       "            setTimeout(function() {\n",
       "                var nbb_cell_id = 16;\n",
       "                var nbb_unformatted_code = \"tfidf = TfidfVectorizer()\\nx_train_tfidf = tfidf.fit_transform(x_train)\\nx_test_tfidf = tfidf.transform(x_test)\";\n",
       "                var nbb_formatted_code = \"tfidf = TfidfVectorizer()\\nx_train_tfidf = tfidf.fit_transform(x_train)\\nx_test_tfidf = tfidf.transform(x_test)\";\n",
       "                var nbb_cells = Jupyter.notebook.get_cells();\n",
       "                for (var i = 0; i < nbb_cells.length; ++i) {\n",
       "                    if (nbb_cells[i].input_prompt_number == nbb_cell_id) {\n",
       "                        if (nbb_cells[i].get_text() == nbb_unformatted_code) {\n",
       "                             nbb_cells[i].set_text(nbb_formatted_code);\n",
       "                        }\n",
       "                        break;\n",
       "                    }\n",
       "                }\n",
       "            }, 500);\n",
       "            "
      ],
      "text/plain": [
       "<IPython.core.display.Javascript object>"
      ]
     },
     "metadata": {},
     "output_type": "display_data"
    }
   ],
   "source": [
    "tfidf = TfidfVectorizer()\n",
    "x_train_tfidf = tfidf.fit_transform(x_train)\n",
    "x_test_tfidf = tfidf.transform(x_test)"
   ]
  },
  {
   "cell_type": "markdown",
   "id": "b5ed86ac",
   "metadata": {},
   "source": [
    "The above code block is used to create a TfidfVectorizer object and use it to transform the data for both the training and the test sets. TfidfVectorizer is a method used for tokenizing and counting the frequency of words, with an additional weighting factor to reduce the importance of words that appear in many documents. It converts a collection of text documents to a matrix of token counts. The fit_transform() method is used on the training set to fit the TfidfVectorizer object to the data, and then transform it into a matrix of token counts. The transform() method is then used on the test set to transform it into a matrix of token counts.\n",
    "\n",
    "---"
   ]
  },
  {
   "cell_type": "markdown",
   "id": "3dbcc97b",
   "metadata": {},
   "source": [
    "**LOGISTIC REGRESSION**"
   ]
  },
  {
   "cell_type": "code",
   "execution_count": 17,
   "id": "a9ba4592",
   "metadata": {},
   "outputs": [
    {
     "name": "stdout",
     "output_type": "stream",
     "text": [
      "Logistic Regression Accuracy:  93.27%\n",
      "\n",
      "Logistic Regresion cross validation score:  93.00%\n"
     ]
    },
    {
     "data": {
      "application/javascript": [
       "\n",
       "            setTimeout(function() {\n",
       "                var nbb_cell_id = 17;\n",
       "                var nbb_unformatted_code = \"lgcr = LogisticRegression()\\nlgcr.fit(x_train_tfidf, y_train)\\npred_lgcr = lgcr.predict(x_test_tfidf)\\nscore_lgcr = accuracy_score(y_test, pred_lgcr)\\nlgcr_cvScore = cross_val_score(lgcr, x_train_tfidf, y_train, cv=5)\\nprint(\\\"Logistic Regression Accuracy: \\\", \\\"{:.2f}%\\\".format(100 * score_lgcr))\\nprint(\\n    \\\"\\\\nLogistic Regresion cross validation score: \\\",\\n    \\\"{:.2f}%\\\".format(round(lgcr_cvScore.mean(), 2) * 100),\\n)\";\n",
       "                var nbb_formatted_code = \"lgcr = LogisticRegression()\\nlgcr.fit(x_train_tfidf, y_train)\\npred_lgcr = lgcr.predict(x_test_tfidf)\\nscore_lgcr = accuracy_score(y_test, pred_lgcr)\\nlgcr_cvScore = cross_val_score(lgcr, x_train_tfidf, y_train, cv=5)\\nprint(\\\"Logistic Regression Accuracy: \\\", \\\"{:.2f}%\\\".format(100 * score_lgcr))\\nprint(\\n    \\\"\\\\nLogistic Regresion cross validation score: \\\",\\n    \\\"{:.2f}%\\\".format(round(lgcr_cvScore.mean(), 2) * 100),\\n)\";\n",
       "                var nbb_cells = Jupyter.notebook.get_cells();\n",
       "                for (var i = 0; i < nbb_cells.length; ++i) {\n",
       "                    if (nbb_cells[i].input_prompt_number == nbb_cell_id) {\n",
       "                        if (nbb_cells[i].get_text() == nbb_unformatted_code) {\n",
       "                             nbb_cells[i].set_text(nbb_formatted_code);\n",
       "                        }\n",
       "                        break;\n",
       "                    }\n",
       "                }\n",
       "            }, 500);\n",
       "            "
      ],
      "text/plain": [
       "<IPython.core.display.Javascript object>"
      ]
     },
     "metadata": {},
     "output_type": "display_data"
    }
   ],
   "source": [
    "lgcr = LogisticRegression()\n",
    "lgcr.fit(x_train_tfidf, y_train)\n",
    "pred_lgcr = lgcr.predict(x_test_tfidf)\n",
    "score_lgcr = accuracy_score(y_test, pred_lgcr)\n",
    "lgcr_cvScore = cross_val_score(lgcr, x_train_tfidf, y_train, cv=5)\n",
    "print(\"Logistic Regression Accuracy: \", \"{:.2f}%\".format(100 * score_lgcr))\n",
    "print(\n",
    "    \"\\nLogistic Regresion cross validation score: \",\n",
    "    \"{:.2f}%\".format(round(lgcr_cvScore.mean(), 2) * 100),\n",
    ")"
   ]
  },
  {
   "cell_type": "markdown",
   "id": "39101abc",
   "metadata": {},
   "source": [
    "The above block of code is doing Logistic Regression using Tfidf Vectorizer on the dataset. First the Logistic Regression model is fit on the train set using the x_train_tfidf and y_train. Then the model is used to predict the test set using x_test_tfidf and the accuracy is calculated using accuracy_score() and stored in score_lgcr. Then the model is cross validated using cross_val_score() and stored in lgcr_cvScore. Finally the accuracy and cross validation score is printed to the console.\n",
    "\n",
    "---"
   ]
  },
  {
   "cell_type": "code",
   "execution_count": 41,
   "id": "de42268a",
   "metadata": {},
   "outputs": [
    {
     "name": "stderr",
     "output_type": "stream",
     "text": [
      "C:\\Users\\HAdel\\anaconda3\\lib\\site-packages\\sklearn\\utils\\deprecation.py:87: FutureWarning: Function plot_confusion_matrix is deprecated; Function `plot_confusion_matrix` is deprecated in 1.0 and will be removed in 1.2. Use one of the class methods: ConfusionMatrixDisplay.from_predictions or ConfusionMatrixDisplay.from_estimator.\n",
      "  warnings.warn(msg, category=FutureWarning)\n"
     ]
    },
    {
     "name": "stdout",
     "output_type": "stream",
     "text": [
      "Classification Report:\n",
      "\n",
      "              precision    recall  f1-score   support\n",
      "\n",
      "    negative       0.75      1.00      0.85        76\n",
      "     neutral       0.96      0.93      0.95       485\n",
      "    positive       0.94      0.92      0.93       405\n",
      "\n",
      "    accuracy                           0.93       966\n",
      "   macro avg       0.88      0.95      0.91       966\n",
      "weighted avg       0.94      0.93      0.93       966\n",
      "\n",
      "                   Tweet\n",
      "0  It was a normal Scene\n",
      "Test Sentence Result:\n",
      "['neutral']\n"
     ]
    },
    {
     "data": {
      "image/png": "[encoded data removed]",
      "text/plain": [
       "<Figure size 432x288 with 2 Axes>"
      ]
     },
     "metadata": {
      "needs_background": "light"
     },
     "output_type": "display_data"
    },
    {
     "data": {
      "application/javascript": [
       "\n",
       "            setTimeout(function() {\n",
       "                var nbb_cell_id = 41;\n",
       "                var nbb_unformatted_code = \"plot_confusion_matrix(lgcr, x_test_tfidf, y_test, cmap=\\\"Reds\\\")\\nplt.grid(False)\\nprint(\\\"Classification Report:\\\\n\\\")\\nprint(classification_report(pred_lgcr, y_test))\\n\\nSentence = {\\\"Tweet\\\": [\\\"It was a normal Scene\\\"]}\\nsingledf = pd.DataFrame(Sentence)\\nxsingledf = tfidf.transform(singledf)\\nprint(singledf)\\nprint(\\\"Test Sentence Result:\\\")\\nresults = lgcr.predict(xsingledf)\\nprint(results)\";\n",
       "                var nbb_formatted_code = \"plot_confusion_matrix(lgcr, x_test_tfidf, y_test, cmap=\\\"Reds\\\")\\nplt.grid(False)\\nprint(\\\"Classification Report:\\\\n\\\")\\nprint(classification_report(pred_lgcr, y_test))\\n\\nSentence = {\\\"Tweet\\\": [\\\"It was a normal Scene\\\"]}\\nsingledf = pd.DataFrame(Sentence)\\nxsingledf = tfidf.transform(singledf)\\nprint(singledf)\\nprint(\\\"Test Sentence Result:\\\")\\nresults = lgcr.predict(xsingledf)\\nprint(results)\";\n",
       "                var nbb_cells = Jupyter.notebook.get_cells();\n",
       "                for (var i = 0; i < nbb_cells.length; ++i) {\n",
       "                    if (nbb_cells[i].input_prompt_number == nbb_cell_id) {\n",
       "                        if (nbb_cells[i].get_text() == nbb_unformatted_code) {\n",
       "                             nbb_cells[i].set_text(nbb_formatted_code);\n",
       "                        }\n",
       "                        break;\n",
       "                    }\n",
       "                }\n",
       "            }, 500);\n",
       "            "
      ],
      "text/plain": [
       "<IPython.core.display.Javascript object>"
      ]
     },
     "metadata": {},
     "output_type": "display_data"
    }
   ],
   "source": [
    "plot_confusion_matrix(lgcr, x_test_tfidf, y_test, cmap=\"Reds\")\n",
    "plt.grid(False)\n",
    "print(\"Classification Report:\\n\")\n",
    "print(classification_report(pred_lgcr, y_test))\n",
    "\n",
    "Sentence = {\"Tweet\": [\"It was a normal Scene\"]}\n",
    "singledf = pd.DataFrame(Sentence)\n",
    "xsingledf = tfidf.transform(singledf)\n",
    "print(singledf)\n",
    "print(\"Test Sentence Result:\")\n",
    "results = lgcr.predict(xsingledf)\n",
    "print(results)"
   ]
  },
  {
   "cell_type": "markdown",
   "id": "2993de5f",
   "metadata": {},
   "source": [
    "The above block of code is used to predict a sentence using the Logistic Regression model. First a dataframe is created with the sentence to be predicted and then the tfidf vectorizer is used to transform the sentence. Then the model is used to predict the results using the lgcr.predict() function and the result is stored in the results variable. Finally the result is printed to the console.\n",
    "\n",
    "---"
   ]
  },
  {
   "cell_type": "markdown",
   "id": "afd86f1d",
   "metadata": {},
   "source": [
    "**LINEAR SUPPORT VECTOR CLASSIFIER**"
   ]
  },
  {
   "cell_type": "code",
   "execution_count": 22,
   "id": "aaa6dbc3",
   "metadata": {},
   "outputs": [
    {
     "name": "stderr",
     "output_type": "stream",
     "text": [
      "C:\\Users\\HAdel\\anaconda3\\lib\\site-packages\\sklearn\\svm\\_base.py:1225: ConvergenceWarning: Liblinear failed to converge, increase the number of iterations.\n",
      "  warnings.warn(\n",
      "C:\\Users\\HAdel\\anaconda3\\lib\\site-packages\\sklearn\\svm\\_base.py:1225: ConvergenceWarning: Liblinear failed to converge, increase the number of iterations.\n",
      "  warnings.warn(\n",
      "C:\\Users\\HAdel\\anaconda3\\lib\\site-packages\\sklearn\\svm\\_base.py:1225: ConvergenceWarning: Liblinear failed to converge, increase the number of iterations.\n",
      "  warnings.warn(\n",
      "C:\\Users\\HAdel\\anaconda3\\lib\\site-packages\\sklearn\\svm\\_base.py:1225: ConvergenceWarning: Liblinear failed to converge, increase the number of iterations.\n",
      "  warnings.warn(\n",
      "C:\\Users\\HAdel\\anaconda3\\lib\\site-packages\\sklearn\\svm\\_base.py:1225: ConvergenceWarning: Liblinear failed to converge, increase the number of iterations.\n",
      "  warnings.warn(\n"
     ]
    },
    {
     "name": "stdout",
     "output_type": "stream",
     "text": [
      "Linear SVC Accuracy:  94.93%\n",
      "\n",
      "Linear SVC Cross validation score:  95.00%\n"
     ]
    },
    {
     "name": "stderr",
     "output_type": "stream",
     "text": [
      "C:\\Users\\HAdel\\anaconda3\\lib\\site-packages\\sklearn\\svm\\_base.py:1225: ConvergenceWarning: Liblinear failed to converge, increase the number of iterations.\n",
      "  warnings.warn(\n"
     ]
    },
    {
     "data": {
      "application/javascript": [
       "\n",
       "            setTimeout(function() {\n",
       "                var nbb_cell_id = 22;\n",
       "                var nbb_unformatted_code = \"linearsvc = LinearSVC(penalty=\\\"l2\\\", loss=\\\"hinge\\\")\\nlinearsvc.fit(x_train_tfidf, y_train)\\nprd_linearsvc = linearsvc.predict(x_test_tfidf)\\nscore_linearsvc = accuracy_score(y_test, prd_linearsvc)\\nlinearsvc_cvScore = cross_val_score(linearsvc, x_train_tfidf, y_train, cv=5)\\nprint(\\\"Linear SVC Accuracy: \\\", \\\"{:.2f}%\\\".format(100 * score_linearsvc))\\nprint(\\n    \\\"\\\\nLinear SVC Cross validation score: \\\",\\n    \\\"{:.2f}%\\\".format(round(linearsvc_cvScore.mean(), 2) * 100),\\n)\";\n",
       "                var nbb_formatted_code = \"linearsvc = LinearSVC(penalty=\\\"l2\\\", loss=\\\"hinge\\\")\\nlinearsvc.fit(x_train_tfidf, y_train)\\nprd_linearsvc = linearsvc.predict(x_test_tfidf)\\nscore_linearsvc = accuracy_score(y_test, prd_linearsvc)\\nlinearsvc_cvScore = cross_val_score(linearsvc, x_train_tfidf, y_train, cv=5)\\nprint(\\\"Linear SVC Accuracy: \\\", \\\"{:.2f}%\\\".format(100 * score_linearsvc))\\nprint(\\n    \\\"\\\\nLinear SVC Cross validation score: \\\",\\n    \\\"{:.2f}%\\\".format(round(linearsvc_cvScore.mean(), 2) * 100),\\n)\";\n",
       "                var nbb_cells = Jupyter.notebook.get_cells();\n",
       "                for (var i = 0; i < nbb_cells.length; ++i) {\n",
       "                    if (nbb_cells[i].input_prompt_number == nbb_cell_id) {\n",
       "                        if (nbb_cells[i].get_text() == nbb_unformatted_code) {\n",
       "                             nbb_cells[i].set_text(nbb_formatted_code);\n",
       "                        }\n",
       "                        break;\n",
       "                    }\n",
       "                }\n",
       "            }, 500);\n",
       "            "
      ],
      "text/plain": [
       "<IPython.core.display.Javascript object>"
      ]
     },
     "metadata": {},
     "output_type": "display_data"
    }
   ],
   "source": [
    "linearsvc = LinearSVC(penalty=\"l2\", loss=\"hinge\")\n",
    "linearsvc.fit(x_train_tfidf, y_train)\n",
    "prd_linearsvc = linearsvc.predict(x_test_tfidf)\n",
    "score_linearsvc = accuracy_score(y_test, prd_linearsvc)\n",
    "linearsvc_cvScore = cross_val_score(linearsvc, x_train_tfidf, y_train, cv=5)\n",
    "print(\"Linear SVC Accuracy: \", \"{:.2f}%\".format(100 * score_linearsvc))\n",
    "print(\n",
    "    \"\\nLinear SVC Cross validation score: \",\n",
    "    \"{:.2f}%\".format(round(linearsvc_cvScore.mean(), 2) * 100),\n",
    ")"
   ]
  },
  {
   "cell_type": "markdown",
   "id": "9e3d57cb",
   "metadata": {},
   "source": [
    "Above block code is doing Linear SVC using Tfidf Vectorizer on the dataset. First the Linear SVC model is fit on the train set using the x_train_tfidf and y_train. Then the model is used to predict the test set using x_test_tfidf and the accuracy is calculated using accuracy_score() and stored in score_linearsvc. Then the model is cross validated using cross_val_score() and stored in linearsvc_cvScore. Finally the accuracy and cross validation score is illustrated as a matrix table\n",
    "\n",
    "----"
   ]
  },
  {
   "cell_type": "code",
   "execution_count": 42,
   "id": "bc049b95",
   "metadata": {},
   "outputs": [
    {
     "name": "stderr",
     "output_type": "stream",
     "text": [
      "C:\\Users\\HAdel\\anaconda3\\lib\\site-packages\\sklearn\\utils\\deprecation.py:87: FutureWarning: Function plot_confusion_matrix is deprecated; Function `plot_confusion_matrix` is deprecated in 1.0 and will be removed in 1.2. Use one of the class methods: ConfusionMatrixDisplay.from_predictions or ConfusionMatrixDisplay.from_estimator.\n",
      "  warnings.warn(msg, category=FutureWarning)\n"
     ]
    },
    {
     "name": "stdout",
     "output_type": "stream",
     "text": [
      "Classification Report:\n",
      "\n",
      "              precision    recall  f1-score   support\n",
      "\n",
      "    negative       0.87      0.99      0.93        90\n",
      "     neutral       0.97      0.94      0.96       485\n",
      "    positive       0.94      0.95      0.95       391\n",
      "\n",
      "    accuracy                           0.95       966\n",
      "   macro avg       0.93      0.96      0.94       966\n",
      "weighted avg       0.95      0.95      0.95       966\n",
      "\n",
      "                  Tweet\n",
      "0  It was a awful Scene\n",
      "Test Sentence Result:\n",
      "['neutral']\n"
     ]
    },
    {
     "data": {
      "image/png": "[encoded data removed]",
      "text/plain": [
       "<Figure size 432x288 with 2 Axes>"
      ]
     },
     "metadata": {
      "needs_background": "light"
     },
     "output_type": "display_data"
    },
    {
     "data": {
      "application/javascript": [
       "\n",
       "            setTimeout(function() {\n",
       "                var nbb_cell_id = 42;\n",
       "                var nbb_unformatted_code = \"plot_confusion_matrix(linearsvc, x_test_tfidf, y_test, cmap=\\\"Reds\\\")\\nplt.grid(False)\\nprint(\\\"Classification Report:\\\\n\\\")\\nprint(classification_report(prd_linearsvc, y_test))\\n\\nSentence = {\\\"Tweet\\\": [\\\"It was a awful Scene\\\"]}\\nsingledf = pd.DataFrame(Sentence)\\nxsingledf = tfidf.transform(singledf)\\nprint(singledf)\\nprint(\\\"Test Sentence Result:\\\")\\nresults = linearsvc.predict(xsingledf)\\nprint(results)\";\n",
       "                var nbb_formatted_code = \"plot_confusion_matrix(linearsvc, x_test_tfidf, y_test, cmap=\\\"Reds\\\")\\nplt.grid(False)\\nprint(\\\"Classification Report:\\\\n\\\")\\nprint(classification_report(prd_linearsvc, y_test))\\n\\nSentence = {\\\"Tweet\\\": [\\\"It was a awful Scene\\\"]}\\nsingledf = pd.DataFrame(Sentence)\\nxsingledf = tfidf.transform(singledf)\\nprint(singledf)\\nprint(\\\"Test Sentence Result:\\\")\\nresults = linearsvc.predict(xsingledf)\\nprint(results)\";\n",
       "                var nbb_cells = Jupyter.notebook.get_cells();\n",
       "                for (var i = 0; i < nbb_cells.length; ++i) {\n",
       "                    if (nbb_cells[i].input_prompt_number == nbb_cell_id) {\n",
       "                        if (nbb_cells[i].get_text() == nbb_unformatted_code) {\n",
       "                             nbb_cells[i].set_text(nbb_formatted_code);\n",
       "                        }\n",
       "                        break;\n",
       "                    }\n",
       "                }\n",
       "            }, 500);\n",
       "            "
      ],
      "text/plain": [
       "<IPython.core.display.Javascript object>"
      ]
     },
     "metadata": {},
     "output_type": "display_data"
    }
   ],
   "source": [
    "plot_confusion_matrix(linearsvc, x_test_tfidf, y_test, cmap=\"Reds\")\n",
    "plt.grid(False)\n",
    "print(\"Classification Report:\\n\")\n",
    "print(classification_report(prd_linearsvc, y_test))\n",
    "\n",
    "Sentence = {\"Tweet\": [\"It was a awful Scene\"]}\n",
    "singledf = pd.DataFrame(Sentence)\n",
    "xsingledf = tfidf.transform(singledf)\n",
    "print(singledf)\n",
    "print(\"Test Sentence Result:\")\n",
    "results = linearsvc.predict(xsingledf)\n",
    "print(results)"
   ]
  },
  {
   "cell_type": "markdown",
   "id": "be52d199",
   "metadata": {},
   "source": [
    "The Above block code is used to predict a sentence using the LinearSVC model. First a dataframe is created with the sentence to be predicted and then the tfidf vectorizer is used to transform the sentence. Then the model is used to predict the results using the linearsvc.predict() function and the result is stored in the resultsLS variable. Finally the result is illustrated as a confusion matrix table\n",
    "\n",
    "---"
   ]
  },
  {
   "cell_type": "markdown",
   "id": "df356cc7",
   "metadata": {},
   "source": [
    "**RANDOM FOREST**"
   ]
  },
  {
   "cell_type": "markdown",
   "id": "8ea28932",
   "metadata": {},
   "source": [
    "**Model Validation**"
   ]
  },
  {
   "cell_type": "code",
   "execution_count": 25,
   "id": "b0ab9fb2",
   "metadata": {},
   "outputs": [
    {
     "name": "stdout",
     "output_type": "stream",
     "text": [
      "Fitting 5 folds for each of 50 candidates, totalling 250 fits\n",
      "Accuracy of best RandomForest classfier = 0.93\n",
      "Best found Hyperparameters of RandomForest classifier ={'criterion': 'entropy', 'max_depth': 47}\n"
     ]
    },
    {
     "data": {
      "application/javascript": [
       "\n",
       "            setTimeout(function() {\n",
       "                var nbb_cell_id = 25;\n",
       "                var nbb_unformatted_code = \"parameters_grid = {\\n    \\\"criterion\\\": [\\\"gini\\\", \\\"entropy\\\"],\\n    \\\"max_depth\\\": range(1, 50, 2),\\n}\\nmodel = sklearn.model_selection.GridSearchCV(\\n    sklearn.ensemble.RandomForestClassifier(),\\n    parameters_grid,\\n    scoring=\\\"accuracy\\\",\\n    cv=5,\\n    verbose=2,\\n    n_jobs=-1,\\n)\\nmodel.fit(x_train_tfidf, y_train)\\nprint(\\\"Accuracy of best RandomForest classfier = {:.2f}\\\".format(model.best_score_))\\nprint(\\n    \\\"Best found Hyperparameters of RandomForest classifier ={}\\\".format(\\n        model.best_params_\\n    )\\n)\";\n",
       "                var nbb_formatted_code = \"parameters_grid = {\\n    \\\"criterion\\\": [\\\"gini\\\", \\\"entropy\\\"],\\n    \\\"max_depth\\\": range(1, 50, 2),\\n}\\nmodel = sklearn.model_selection.GridSearchCV(\\n    sklearn.ensemble.RandomForestClassifier(),\\n    parameters_grid,\\n    scoring=\\\"accuracy\\\",\\n    cv=5,\\n    verbose=2,\\n    n_jobs=-1,\\n)\\nmodel.fit(x_train_tfidf, y_train)\\nprint(\\\"Accuracy of best RandomForest classfier = {:.2f}\\\".format(model.best_score_))\\nprint(\\n    \\\"Best found Hyperparameters of RandomForest classifier ={}\\\".format(\\n        model.best_params_\\n    )\\n)\";\n",
       "                var nbb_cells = Jupyter.notebook.get_cells();\n",
       "                for (var i = 0; i < nbb_cells.length; ++i) {\n",
       "                    if (nbb_cells[i].input_prompt_number == nbb_cell_id) {\n",
       "                        if (nbb_cells[i].get_text() == nbb_unformatted_code) {\n",
       "                             nbb_cells[i].set_text(nbb_formatted_code);\n",
       "                        }\n",
       "                        break;\n",
       "                    }\n",
       "                }\n",
       "            }, 500);\n",
       "            "
      ],
      "text/plain": [
       "<IPython.core.display.Javascript object>"
      ]
     },
     "metadata": {},
     "output_type": "display_data"
    }
   ],
   "source": [
    "parameters_grid = {\n",
    "    \"criterion\": [\"gini\", \"entropy\"],\n",
    "    \"max_depth\": range(1, 50, 2),\n",
    "}\n",
    "model = sklearn.model_selection.GridSearchCV(\n",
    "    sklearn.ensemble.RandomForestClassifier(),\n",
    "    parameters_grid,\n",
    "    scoring=\"accuracy\",\n",
    "    cv=5,\n",
    "    verbose=2,\n",
    "    n_jobs=-1,\n",
    ")\n",
    "model.fit(x_train_tfidf, y_train)\n",
    "print(\"Accuracy of best RandomForest classfier = {:.2f}\".format(model.best_score_))\n",
    "print(\n",
    "    \"Best found Hyperparameters of RandomForest classifier ={}\".format(\n",
    "        model.best_params_\n",
    "    )\n",
    ")"
   ]
  },
  {
   "cell_type": "markdown",
   "id": "3508bde1",
   "metadata": {},
   "source": [
    "This code implements a GridSearchCV to find the best hyperparameters for a Random Forest Classifier. The GridSearchCV object takes the Random Forest Classifier, and the parameters_grid dictionary specifying the parameters to be tested. It also specifies the scoring metric as accuracy, the number of cross-validation folds as 5, verbosity as 2 and the number of jobs to be used as -1. The model is then fitted on the training data (x_train_tfidf, y_train) and the best accuracy and the best hyperparameters are printed out.\n",
    "\n",
    "---"
   ]
  },
  {
   "cell_type": "markdown",
   "id": "586b813c",
   "metadata": {},
   "source": [
    "**TEST MODEL**"
   ]
  },
  {
   "cell_type": "code",
   "execution_count": 26,
   "id": "095ffc9e",
   "metadata": {},
   "outputs": [
    {
     "name": "stdout",
     "output_type": "stream",
     "text": [
      "Accuracy of best RandomForest classfier = 92.75\n"
     ]
    },
    {
     "data": {
      "application/javascript": [
       "\n",
       "            setTimeout(function() {\n",
       "                var nbb_cell_id = 26;\n",
       "                var nbb_unformatted_code = \"y_predicted = model.predict(x_test_tfidf)\\naccuracy = sklearn.metrics.accuracy_score(y_test, y_predicted)\\naccuracy = round(accuracy * 100, 2)\\nprint(\\\"Accuracy of best RandomForest classfier = {:.2f}\\\".format(accuracy))\";\n",
       "                var nbb_formatted_code = \"y_predicted = model.predict(x_test_tfidf)\\naccuracy = sklearn.metrics.accuracy_score(y_test, y_predicted)\\naccuracy = round(accuracy * 100, 2)\\nprint(\\\"Accuracy of best RandomForest classfier = {:.2f}\\\".format(accuracy))\";\n",
       "                var nbb_cells = Jupyter.notebook.get_cells();\n",
       "                for (var i = 0; i < nbb_cells.length; ++i) {\n",
       "                    if (nbb_cells[i].input_prompt_number == nbb_cell_id) {\n",
       "                        if (nbb_cells[i].get_text() == nbb_unformatted_code) {\n",
       "                             nbb_cells[i].set_text(nbb_formatted_code);\n",
       "                        }\n",
       "                        break;\n",
       "                    }\n",
       "                }\n",
       "            }, 500);\n",
       "            "
      ],
      "text/plain": [
       "<IPython.core.display.Javascript object>"
      ]
     },
     "metadata": {},
     "output_type": "display_data"
    }
   ],
   "source": [
    "y_predicted = model.predict(x_test_tfidf)\n",
    "accuracy = sklearn.metrics.accuracy_score(y_test, y_predicted)\n",
    "accuracy = round(accuracy * 100, 2)\n",
    "print(\"Accuracy of best RandomForest classfier = {:.2f}\".format(accuracy))"
   ]
  },
  {
   "cell_type": "markdown",
   "id": "a3eff93a",
   "metadata": {},
   "source": [
    "This code uses the model obtained from the GridSearchCV to make predictions on the test data (x_test_tfidf). The accuracy of the model is then calculated by comparing the predicted labels (y_predicted) with the actual labels (y_test) using the sklearn.metrics.accuracy_score function. The accuracy is then rounded to two decimal places and is printed out."
   ]
  },
  {
   "cell_type": "code",
   "execution_count": 43,
   "id": "77f2f2fc",
   "metadata": {},
   "outputs": [
    {
     "name": "stderr",
     "output_type": "stream",
     "text": [
      "C:\\Users\\HAdel\\anaconda3\\lib\\site-packages\\sklearn\\utils\\deprecation.py:87: FutureWarning: Function plot_confusion_matrix is deprecated; Function `plot_confusion_matrix` is deprecated in 1.0 and will be removed in 1.2. Use one of the class methods: ConfusionMatrixDisplay.from_predictions or ConfusionMatrixDisplay.from_estimator.\n",
      "  warnings.warn(msg, category=FutureWarning)\n"
     ]
    },
    {
     "name": "stdout",
     "output_type": "stream",
     "text": [
      "Classification Report:\n",
      "\n",
      "              precision    recall  f1-score   support\n",
      "\n",
      "    negative       0.79      1.00      0.89        81\n",
      "     neutral       0.99      0.90      0.94       515\n",
      "    positive       0.89      0.95      0.92       370\n",
      "\n",
      "    accuracy                           0.93       966\n",
      "   macro avg       0.89      0.95      0.92       966\n",
      "weighted avg       0.93      0.93      0.93       966\n",
      "\n",
      "       Tweet\n",
      "0  bad movie\n",
      "Test Sentence Result:\n",
      "['neutral']\n"
     ]
    },
    {
     "data": {
      "image/png": "[encoded data removed]",
      "text/plain": [
       "<Figure size 432x288 with 2 Axes>"
      ]
     },
     "metadata": {
      "needs_background": "light"
     },
     "output_type": "display_data"
    },
    {
     "data": {
      "application/javascript": [
       "\n",
       "            setTimeout(function() {\n",
       "                var nbb_cell_id = 43;\n",
       "                var nbb_unformatted_code = \"plot_confusion_matrix(model, x_test_tfidf, y_test, cmap=\\\"Reds\\\")\\nplt.grid(False)\\nprint(\\\"Classification Report:\\\\n\\\")\\nprint(classification_report(y_predicted, y_test))\\n\\nSentence = {\\\"Tweet\\\": [\\\"bad movie\\\"]}\\nsingledf = pd.DataFrame(Sentence)\\nxsingledf = tfidf.transform(singledf)\\nprint(singledf)\\nprint(\\\"Test Sentence Result:\\\")\\nresults = model.predict(xsingledf)\\nprint(results)\";\n",
       "                var nbb_formatted_code = \"plot_confusion_matrix(model, x_test_tfidf, y_test, cmap=\\\"Reds\\\")\\nplt.grid(False)\\nprint(\\\"Classification Report:\\\\n\\\")\\nprint(classification_report(y_predicted, y_test))\\n\\nSentence = {\\\"Tweet\\\": [\\\"bad movie\\\"]}\\nsingledf = pd.DataFrame(Sentence)\\nxsingledf = tfidf.transform(singledf)\\nprint(singledf)\\nprint(\\\"Test Sentence Result:\\\")\\nresults = model.predict(xsingledf)\\nprint(results)\";\n",
       "                var nbb_cells = Jupyter.notebook.get_cells();\n",
       "                for (var i = 0; i < nbb_cells.length; ++i) {\n",
       "                    if (nbb_cells[i].input_prompt_number == nbb_cell_id) {\n",
       "                        if (nbb_cells[i].get_text() == nbb_unformatted_code) {\n",
       "                             nbb_cells[i].set_text(nbb_formatted_code);\n",
       "                        }\n",
       "                        break;\n",
       "                    }\n",
       "                }\n",
       "            }, 500);\n",
       "            "
      ],
      "text/plain": [
       "<IPython.core.display.Javascript object>"
      ]
     },
     "metadata": {},
     "output_type": "display_data"
    }
   ],
   "source": [
    "plot_confusion_matrix(model, x_test_tfidf, y_test, cmap=\"Reds\")\n",
    "plt.grid(False)\n",
    "print(\"Classification Report:\\n\")\n",
    "print(classification_report(y_predicted, y_test))\n",
    "\n",
    "Sentence = {\"Tweet\": [\"bad movie\"]}\n",
    "singledf = pd.DataFrame(Sentence)\n",
    "xsingledf = tfidf.transform(singledf)\n",
    "print(singledf)\n",
    "print(\"Test Sentence Result:\")\n",
    "results = model.predict(xsingledf)\n",
    "print(results)"
   ]
  },
  {
   "cell_type": "markdown",
   "id": "80dc9df5",
   "metadata": {},
   "source": [
    "# <p style=\"background-color:green; font-family:calibri; font-size:120%; text-align:center;color:white\" id=\"data\"> 9. Conclusion</p>\n"
   ]
  },
  {
   "cell_type": "markdown",
   "id": "2060e103",
   "metadata": {},
   "source": [
    "The assignment is about developing a machine learning pipeline to collect public tweets and apply machine learning techniques to analyze the sentiment of the tweets. The scrapped tweets are stored in a data frame.\n",
    "\n",
    "The dataset was used to analyze the sentiments of the tweets and identify the positive, negative, and neutral sentiments of the tweets. The data gathered from this pipeline was used to inform businesses about public opinions on their products and services, and to develop machine learning models for sentiment analysis.\n",
    "\n",
    "Three algorithms were used to perform sentiment analysis: logistic regression, support vector machine, and random forests. Each algorithm has its own strengths and weaknesses. Logistic regression in this pipeline was the easiest to implement and provided a robust performance across all datasets. Support vector machine did a better job compared to logistic regression on datasets with many features, but it was slower to train. Random forests provide the best performance, but it requires more computational power than the other two algorithms.\n",
    "\n",
    "Overall, this project has provided a valuable tool for businesses to gain insight from public opinions about their products and services. Through sentiment analysis of tweets, companies can better understand how their products and services are being pereceived by the public and make decisions about their overall marketing strategy. Furthermore, the data gathered from this pipeline can be used in the development of machine learning models to automate this task for continuous improvment."
   ]
  },
  {
   "cell_type": "markdown",
   "id": "0148dc32",
   "metadata": {},
   "source": [
    "# <p style=\"background-color:green; font-family:calibri; font-size:120%; text-align:center;color:white\" id=\"data\"> 10. References</p>"
   ]
  },
  {
   "cell_type": "markdown",
   "id": "fd24e256",
   "metadata": {},
   "source": [
    "1. Lewis, C. (2021) Spacy basics: The importance of tokens in Natural Language Processing, Medium. Analytics Vidhya. Available at: https://medium.com/analytics-vidhya/spacy-basics-the-importance-of-tokens-in-natural-language-processing-89a698d8a76#:~:text=Before%20processing%20a%20natural%20language%2C%20we%2 (Accessed: December 10, 2022).\n",
    "2. Tutorialforbeginner.com (no date) Support Vector Machine algorithm, www.tutorialforbeginner.com. Available at: https://tutorialforbeginner.com/support-vector-machine-algorithm#:~:text=The%20Support%20Vector%20 (Accessed: December 15, 2022). \n",
    "3. Tweet object | docs | twitter developer platform (no date) Twitter. Twitter. Available at: https://developer.twitter.com/en/docs/twitter-api/data-dictionary/object-model/tweet (Accessed: December 05, 2022). \n"
   ]
  }
 ],
 "metadata": {
  "kernelspec": {
   "display_name": "Python 3 (ipykernel)",
   "language": "python",
   "name": "python3"
  },
  "language_info": {
   "codemirror_mode": {
    "name": "ipython",
    "version": 3
   },
   "file_extension": ".py",
   "mimetype": "text/x-python",
   "name": "python",
   "nbconvert_exporter": "python",
   "pygments_lexer": "ipython3",
   "version": "3.9.15"
  }
 },
 "nbformat": 4,
 "nbformat_minor": 5
}
