{
 "cells": [
  {
   "cell_type": "markdown",
   "id": "d02c4dd8",
   "metadata": {},
   "source": [
    "# <p style=\"background-color:green; font-family:calibri; font-size:120%; text-color:white; text-align:center;color:white\" id=\"data\"> FINAL PROJECT (ML - Module 505)</p>"
   ]
  },
  {
   "cell_type": "code",
   "execution_count": 1,
   "id": "4aad0bea",
   "metadata": {},
   "outputs": [
    {
     "data": {
      "text/html": [
       "\n",
       "<img src=\"https://www.gisma.com/media/1198/gisma-business-school-logo.svg\" \n",
       "width=\"240\" height=\"240\"style=\"margin-left:auto ;margin-right:auto \"/>'\n"
      ],
      "text/plain": [
       "<IPython.core.display.HTML object>"
      ]
     },
     "execution_count": 1,
     "metadata": {},
     "output_type": "execute_result"
    }
   ],
   "source": [
    "from IPython.display import HTML\n",
    "\n",
    "header = \"\"\"\n",
    "<img src=\"https://www.gisma.com/media/1198/gisma-business-school-logo.svg\" \n",
    "width=\"240\" height=\"240\"style=\"margin-left:auto ;margin-right:auto \"/>'\n",
    "\"\"\"\n",
    "HTML(header)"
   ]
  },
  {
   "cell_type": "markdown",
   "id": "ce74fd15",
   "metadata": {},
   "source": [
    "# <p style=\"background-color:green; font-family:calibri; font-size:120%; text-color:white; text-align:center;color:white\" id=\"data\"> Business Problem Understanding</p>"
   ]
  },
  {
   "cell_type": "markdown",
   "id": "99ea0afb",
   "metadata": {},
   "source": [
    "**CCP (Churn Customer Prediction):**\n",
    "\n",
    "The chosen dataset from Kaggle is a great resource for predicting customer churn in the telco industry. It contains 7,000 records and 20 features that can be used to analyze customer behavior and identify those at risk of churning. The target feature of the dataset is the \"Churn\" column which contains either \"Yes\" or \"No\" values indicating whether or not the customer has churned. With this dataset, we can apply various Machine Learning algorithms to predict customer churn and develop strategies to retain customers.\n",
    "\n",
    "Following my experience and career in Telco Industry (MTN-Irancell), prediction on churn and how to increase the revenue of the company with different campaigns and make the customer more loyal is one of the most challenging problems which the baseline of all actions is to know the churn ratio on our products and our customers.\n",
    "\n",
    "One of the most common algorithms used in this dataset is Decision Tree. Decision Tree is a type of supervised learning algorithm that is used to classify data by building decision trees based on the features of the data. It works by splitting the data into different branches based on the features of the data, such as customer age, contract type, and payment method. This algorithm can be used to predict customer churn by analyzing the different branches of the decision tree and identifying the ones that are more likely to lead to churn. we will test this algorithm beside other ML algorithms to identify is it still a best choice or we could choose other ones considering more metrics.\n",
    "\n",
    "Different ML classification techniques, including Decision Tree, SVM, Gaussian Naive Bayes, Logistic Regression and Random Forest, were tested for this aim. Each approach has advantages and disadvantages, and using various measurement criteria, we will select one of them and provide our hypothesis.\n",
    "\n",
    "**Dataset Download link:**\n",
    "\n",
    "https://drive.google.com/drive/folders/1tVeHMCC-L7UBGAf5vRRHrLr8qhdkKtRs"
   ]
  },
  {
   "cell_type": "markdown",
   "id": "367179a2",
   "metadata": {},
   "source": [
    "# <p style=\" font-family:calibri; font-size:70%; text-color:Black; text-align:center;color:black\" id=\"data\"> Variable Description</p>"
   ]
  },
  {
   "cell_type": "markdown",
   "id": "beccbee6",
   "metadata": {},
   "source": [
    "\n",
    "|Row #|Attribute|Description|\n",
    "|:--------|:-------|:---------|\n",
    "|1|customerID|Unique Values|\n",
    "|2|gender|Whether the customer is a male or a female|\n",
    "|3|SeniorCitizen|Indicates if the customer is 65 or older (1, 0)|\n",
    "|4|Partner|Whether the customer has a partner or not (Yes, No)|\n",
    "|5|Dependents|Whether the customer has dependents or not (Yes, No)|\n",
    "|6|Tenure|Number of months the customer has stayed with the company|\n",
    "|7|PhoneService|Whether the customer has a phone service or not (Yes, No)|\n",
    "|8|MultipleLines|Whether the customer has multiple lines or not (Yes, No, No phone service)|\n",
    "|9|InternetService|Customer’s internet service provider (DSL, Fiber optic, No)|\n",
    "|10|OnlineSecurity|Whether the customer has online security or not (Yes, No, No internet service)|\n",
    "|11|OnlineBackup|Whether the customer has online backup or not (Yes, No, No internet service)|\n",
    "|12|DeviceProtection|Whether the customer has device protection or not (Yes, No, No internet service)|\n",
    "|13|TechSupport|Whether the customer has tech support or not (Yes, No, No internet service)|\n",
    "|14|StreamingTV|Whether the customer has streaming TV or not (Yes, No, No internet service)|\n",
    "|15|StreamingMovies|Whether the customer has streaming movies or not (Yes, No, No internet service)|\n",
    "|16|Contract|The contract term of the customer (Month-to-month, One year, Two year)|\n",
    "|17|PaperlessBilling|Whether the customer has paperless billing or not (Yes, No)|\n",
    "|18|PaymentMethod|The customer’s payment method (Electronic check, Mailed check, Bank transfer (automatic), Credit card (automatic))|\n",
    "|19|MonthlyCharges|The amount charged to the customer monthly|\n",
    "|20|TotalCharges|The total amount charged to the customer|\n",
    "|21|Churn|Customers who left within the last month, the column is called Churn (Yes or No)|"
   ]
  },
  {
   "cell_type": "markdown",
   "id": "c88fc548",
   "metadata": {},
   "source": [
    "\n",
    "# Table of Contents\n",
    "01. [Importing Libraries](#Importing-Libraries)\n",
    "02. [Data Collection](#Data-Collection)\n",
    "03. [Preprocessing and Data Exploration](#Preprocessing-and-Data-Exploration)\n",
    "04. [Splitting Dataset to Test and Train](#Splitting-Dataset-to-Test-and-Train)\n",
    "05. [Feature Engineering](#Feature-Engineering)\n",
    "06. [Model Assessment](#Model-Assessment)\n",
    "07. [Model Selection](#Model-Selection)\n",
    "08. [Conclusion](#Conclusion)\n",
    "09. [Reference](#Reference)"
   ]
  },
  {
   "cell_type": "markdown",
   "id": "8d09e74d",
   "metadata": {},
   "source": [
    "# <p style=\"background-color:green; font-family:calibri; font-size:120%; text-color:white; text-align:center;color:white\" id=\"data\"> 1. Importing Libraries</p>\n"
   ]
  },
  {
   "cell_type": "code",
   "execution_count": 2,
   "id": "ac0db5af",
   "metadata": {},
   "outputs": [],
   "source": [
    "# System libraries\n",
    "import time\n",
    "\n",
    "# Data Manipulation\n",
    "import pandas as pd\n",
    "import numpy as np\n",
    "\n",
    "# Visualization\n",
    "import matplotlib.pyplot as plt\n",
    "import seaborn as sns\n",
    "from IPython.display import display\n",
    "\n",
    "# Url\n",
    "import urllib.request\n",
    "import shutil\n",
    "\n",
    "# Preprocessing\n",
    "from sklearn.preprocessing import StandardScaler\n",
    "import imblearn.over_sampling\n",
    "\n",
    "# Oversampling\n",
    "from imblearn.over_sampling import RandomOverSampler\n",
    "\n",
    "# Machine Learning\n",
    "import sklearn\n",
    "from sklearn.model_selection import train_test_split\n",
    "from sklearn.preprocessing import OneHotEncoder\n",
    "from sklearn.tree import DecisionTreeClassifier\n",
    "from sklearn.naive_bayes import GaussianNB\n",
    "from sklearn.linear_model import LogisticRegression\n",
    "from sklearn import linear_model\n",
    "from sklearn import neighbors\n",
    "from sklearn.model_selection import GridSearchCV\n",
    "from sklearn import preprocessing\n",
    "from sklearn import model_selection\n",
    "\n",
    "# Evaluation\n",
    "from sklearn.metrics import confusion_matrix"
   ]
  },
  {
   "cell_type": "markdown",
   "id": "de1f59f6",
   "metadata": {},
   "source": [
    "**Library Description**\n",
    "\n",
    "| Row | Library Name | Description |\n",
    "|:-------------: |:------------ |:----------- |\n",
    "| 01 | Pandas | Used for data manipulation and analysis. It provides high-performance, easy-to-use data structures and tools for data analysis. |\n",
    "| 02 | Numpy | Used for numerical computing, linear algebra, and random number generation. It provides fast computation, convenience and powerful data structures. |\n",
    "| 03 | Matplotlib | Used for data visualization. It provides a variety of plots, charts, and graphs for data analysis. |\n",
    "| 04 | Seaborn | Used for visualizing statistical models and data. It provides a high-level interface for drawing attractive and informative statistical graphics. |\n",
    "| 05 | Time | Used to calculate computation time in some block codes. |\n",
    "| 06 | Urllib.request | Used for making HTTP requests. It provides a simple API for making HTTP requests. |\n",
    "| 07 | Shutil | Used for file operations. It provides an API for copying, moving, and removing files and directories. |\n",
    "| 08 | IPython.display | Used for displaying data in a variety of formats. It provides an API for displaying data in a variety of formats such as HTML, Markdown, and LaTeX. |\n",
    "| 09 | Scikit-Learn | Used for machine learning. It provides a wide range of supervised and unsupervised learning algorithms such as regression, classification, clustering, and feature engineering. |\n",
    "\n",
    "---"
   ]
  },
  {
   "cell_type": "markdown",
   "id": "44634a74",
   "metadata": {},
   "source": [
    "# <p style=\"background-color:green; font-family:calibri; font-size:120%; text-color:white; text-align:center;color:white\" id=\"data\"> 2. Data Collection</p>\n"
   ]
  },
  {
   "cell_type": "markdown",
   "id": "a207e75e",
   "metadata": {},
   "source": [
    "**Download Dataset**"
   ]
  },
  {
   "cell_type": "code",
   "execution_count": 3,
   "id": "5d392b53",
   "metadata": {},
   "outputs": [
    {
     "name": "stdout",
     "output_type": "stream",
     "text": [
      "Download complete!\n"
     ]
    }
   ],
   "source": [
    "url = \"https://drive.google.com/uc?export=download&id=1-1yho1b7l2nGX7C0taSKmyxyT9C-rGti\"\n",
    "\n",
    "filename = \"WA_Fn-UseC_-Telco-Customer-Churn.csv\"\n",
    "\n",
    "with urllib.request.urlopen(url) as response, open(filename, \"wb\") as out_file:\n",
    "    shutil.copyfileobj(response, out_file)\n",
    "    print(\"Download complete!\")"
   ]
  },
  {
   "cell_type": "markdown",
   "id": "819c9ef7",
   "metadata": {},
   "source": [
    "| Description |\n",
    "|:--------|\n",
    "|Above block code block downloads used dataset from Google Drive and saves it to a specified filename. The \"with\" statement then opens a connection to the URL and opens the filename for writing. The shutil.copyfileobj function then copies the data from the URL to the file.|\n",
    "\n",
    "---"
   ]
  },
  {
   "cell_type": "code",
   "execution_count": 4,
   "id": "df0d8601",
   "metadata": {
    "scrolled": true
   },
   "outputs": [
    {
     "data": {
      "text/html": [
       "<div>\n",
       "<style scoped>\n",
       "    .dataframe tbody tr th:only-of-type {\n",
       "        vertical-align: middle;\n",
       "    }\n",
       "\n",
       "    .dataframe tbody tr th {\n",
       "        vertical-align: top;\n",
       "    }\n",
       "\n",
       "    .dataframe thead th {\n",
       "        text-align: right;\n",
       "    }\n",
       "</style>\n",
       "<table border=\"1\" class=\"dataframe\">\n",
       "  <thead>\n",
       "    <tr style=\"text-align: right;\">\n",
       "      <th></th>\n",
       "      <th>gender</th>\n",
       "      <th>SeniorCitizen</th>\n",
       "      <th>Partner</th>\n",
       "      <th>Dependents</th>\n",
       "      <th>tenure</th>\n",
       "      <th>PhoneService</th>\n",
       "      <th>MultipleLines</th>\n",
       "      <th>InternetService</th>\n",
       "      <th>OnlineSecurity</th>\n",
       "      <th>OnlineBackup</th>\n",
       "      <th>DeviceProtection</th>\n",
       "      <th>TechSupport</th>\n",
       "      <th>StreamingTV</th>\n",
       "      <th>StreamingMovies</th>\n",
       "      <th>Contract</th>\n",
       "      <th>PaperlessBilling</th>\n",
       "      <th>PaymentMethod</th>\n",
       "      <th>MonthlyCharges</th>\n",
       "      <th>TotalCharges</th>\n",
       "      <th>Churn</th>\n",
       "    </tr>\n",
       "    <tr>\n",
       "      <th>customerID</th>\n",
       "      <th></th>\n",
       "      <th></th>\n",
       "      <th></th>\n",
       "      <th></th>\n",
       "      <th></th>\n",
       "      <th></th>\n",
       "      <th></th>\n",
       "      <th></th>\n",
       "      <th></th>\n",
       "      <th></th>\n",
       "      <th></th>\n",
       "      <th></th>\n",
       "      <th></th>\n",
       "      <th></th>\n",
       "      <th></th>\n",
       "      <th></th>\n",
       "      <th></th>\n",
       "      <th></th>\n",
       "      <th></th>\n",
       "      <th></th>\n",
       "    </tr>\n",
       "  </thead>\n",
       "  <tbody>\n",
       "    <tr>\n",
       "      <th>7590-VHVEG</th>\n",
       "      <td>Female</td>\n",
       "      <td>0</td>\n",
       "      <td>Yes</td>\n",
       "      <td>No</td>\n",
       "      <td>1</td>\n",
       "      <td>No</td>\n",
       "      <td>No phone service</td>\n",
       "      <td>DSL</td>\n",
       "      <td>No</td>\n",
       "      <td>Yes</td>\n",
       "      <td>No</td>\n",
       "      <td>No</td>\n",
       "      <td>No</td>\n",
       "      <td>No</td>\n",
       "      <td>Month-to-month</td>\n",
       "      <td>Yes</td>\n",
       "      <td>Electronic check</td>\n",
       "      <td>29.85</td>\n",
       "      <td>29.85</td>\n",
       "      <td>No</td>\n",
       "    </tr>\n",
       "    <tr>\n",
       "      <th>5575-GNVDE</th>\n",
       "      <td>Male</td>\n",
       "      <td>0</td>\n",
       "      <td>No</td>\n",
       "      <td>No</td>\n",
       "      <td>34</td>\n",
       "      <td>Yes</td>\n",
       "      <td>No</td>\n",
       "      <td>DSL</td>\n",
       "      <td>Yes</td>\n",
       "      <td>No</td>\n",
       "      <td>Yes</td>\n",
       "      <td>No</td>\n",
       "      <td>No</td>\n",
       "      <td>No</td>\n",
       "      <td>One year</td>\n",
       "      <td>No</td>\n",
       "      <td>Mailed check</td>\n",
       "      <td>56.95</td>\n",
       "      <td>1889.5</td>\n",
       "      <td>No</td>\n",
       "    </tr>\n",
       "    <tr>\n",
       "      <th>3668-QPYBK</th>\n",
       "      <td>Male</td>\n",
       "      <td>0</td>\n",
       "      <td>No</td>\n",
       "      <td>No</td>\n",
       "      <td>2</td>\n",
       "      <td>Yes</td>\n",
       "      <td>No</td>\n",
       "      <td>DSL</td>\n",
       "      <td>Yes</td>\n",
       "      <td>Yes</td>\n",
       "      <td>No</td>\n",
       "      <td>No</td>\n",
       "      <td>No</td>\n",
       "      <td>No</td>\n",
       "      <td>Month-to-month</td>\n",
       "      <td>Yes</td>\n",
       "      <td>Mailed check</td>\n",
       "      <td>53.85</td>\n",
       "      <td>108.15</td>\n",
       "      <td>Yes</td>\n",
       "    </tr>\n",
       "  </tbody>\n",
       "</table>\n",
       "</div>"
      ],
      "text/plain": [
       "            gender  SeniorCitizen Partner Dependents  tenure PhoneService  \\\n",
       "customerID                                                                  \n",
       "7590-VHVEG  Female              0     Yes         No       1           No   \n",
       "5575-GNVDE    Male              0      No         No      34          Yes   \n",
       "3668-QPYBK    Male              0      No         No       2          Yes   \n",
       "\n",
       "               MultipleLines InternetService OnlineSecurity OnlineBackup  \\\n",
       "customerID                                                                 \n",
       "7590-VHVEG  No phone service             DSL             No          Yes   \n",
       "5575-GNVDE                No             DSL            Yes           No   \n",
       "3668-QPYBK                No             DSL            Yes          Yes   \n",
       "\n",
       "           DeviceProtection TechSupport StreamingTV StreamingMovies  \\\n",
       "customerID                                                            \n",
       "7590-VHVEG               No          No          No              No   \n",
       "5575-GNVDE              Yes          No          No              No   \n",
       "3668-QPYBK               No          No          No              No   \n",
       "\n",
       "                  Contract PaperlessBilling     PaymentMethod  MonthlyCharges  \\\n",
       "customerID                                                                      \n",
       "7590-VHVEG  Month-to-month              Yes  Electronic check           29.85   \n",
       "5575-GNVDE        One year               No      Mailed check           56.95   \n",
       "3668-QPYBK  Month-to-month              Yes      Mailed check           53.85   \n",
       "\n",
       "           TotalCharges Churn  \n",
       "customerID                     \n",
       "7590-VHVEG        29.85    No  \n",
       "5575-GNVDE       1889.5    No  \n",
       "3668-QPYBK       108.15   Yes  "
      ]
     },
     "execution_count": 4,
     "metadata": {},
     "output_type": "execute_result"
    }
   ],
   "source": [
    "df = pd.read_csv(\"WA_Fn-UseC_-Telco-Customer-Churn.csv\")\n",
    "df = df.set_index(\"customerID\")\n",
    "df.head(3)"
   ]
  },
  {
   "cell_type": "markdown",
   "id": "93f39a2f",
   "metadata": {},
   "source": [
    "**Description**\n",
    "\n",
    "Importing our dataset and indexing customerID as it is a unique ID, it is not a feature that we need to use for our model and representing first three rows.    "
   ]
  },
  {
   "cell_type": "markdown",
   "id": "79058ee4",
   "metadata": {},
   "source": [
    "# <p style=\"background-color:green; font-family:calibri; font-size:120%; text-color:white; text-align:center;color:white\" id=\"data\"> 3. Preprocessing and Data Exploration</p>\n"
   ]
  },
  {
   "cell_type": "code",
   "execution_count": 5,
   "id": "1c9616f2",
   "metadata": {},
   "outputs": [
    {
     "name": "stdout",
     "output_type": "stream",
     "text": [
      "<class 'pandas.core.frame.DataFrame'>\n",
      "Index: 7043 entries, 7590-VHVEG to 3186-AJIEK\n",
      "Data columns (total 20 columns):\n",
      " #   Column            Non-Null Count  Dtype  \n",
      "---  ------            --------------  -----  \n",
      " 0   gender            7043 non-null   object \n",
      " 1   SeniorCitizen     7043 non-null   int64  \n",
      " 2   Partner           7043 non-null   object \n",
      " 3   Dependents        7043 non-null   object \n",
      " 4   tenure            7043 non-null   int64  \n",
      " 5   PhoneService      7043 non-null   object \n",
      " 6   MultipleLines     7043 non-null   object \n",
      " 7   InternetService   7043 non-null   object \n",
      " 8   OnlineSecurity    7043 non-null   object \n",
      " 9   OnlineBackup      7043 non-null   object \n",
      " 10  DeviceProtection  7043 non-null   object \n",
      " 11  TechSupport       7043 non-null   object \n",
      " 12  StreamingTV       7043 non-null   object \n",
      " 13  StreamingMovies   7043 non-null   object \n",
      " 14  Contract          7043 non-null   object \n",
      " 15  PaperlessBilling  7043 non-null   object \n",
      " 16  PaymentMethod     7043 non-null   object \n",
      " 17  MonthlyCharges    7043 non-null   float64\n",
      " 18  TotalCharges      7043 non-null   object \n",
      " 19  Churn             7043 non-null   object \n",
      "dtypes: float64(1), int64(2), object(17)\n",
      "memory usage: 1.1+ MB\n"
     ]
    }
   ],
   "source": [
    "df.info()"
   ]
  },
  {
   "cell_type": "markdown",
   "id": "2633c86b",
   "metadata": {},
   "source": [
    "**Description**\n",
    "\n",
    "Observing the Data types of variables in the dataset.    "
   ]
  },
  {
   "cell_type": "code",
   "execution_count": 6,
   "id": "975abac8",
   "metadata": {},
   "outputs": [
    {
     "name": "stdout",
     "output_type": "stream",
     "text": [
      "<class 'pandas.core.series.Series'>\n",
      "Index: 7043 entries, 7590-VHVEG to 3186-AJIEK\n",
      "Series name: TotalCharges\n",
      "Non-Null Count  Dtype  \n",
      "--------------  -----  \n",
      "7032 non-null   float64\n",
      "dtypes: float64(1)\n",
      "memory usage: 110.0+ KB\n"
     ]
    }
   ],
   "source": [
    "df[\"TotalCharges\"] = df[\"TotalCharges\"].replace(r\"\\s+\", np.nan, regex=True)\n",
    "df[\"TotalCharges\"] = pd.to_numeric(df[\"TotalCharges\"])\n",
    "df[\"TotalCharges\"].info()"
   ]
  },
  {
   "cell_type": "markdown",
   "id": "9b90ae69",
   "metadata": {},
   "source": [
    "| Description |\n",
    "|:--------|\n",
    "|As data explored \"TotalCharges\" field which contains a numeric value should be a float datatype by nature. Above block codes are used to convert the string values in the \"TotalCharges\" column to numeric values in main dataframe. It begins by replacing any whitespace in the column with NaN values, and then uses the pandas to_numeric method to convert the values to numerical types. Finally, the info() method is used to display information about the column, including the number of non-null values.\n",
    "\n",
    "---"
   ]
  },
  {
   "cell_type": "code",
   "execution_count": 7,
   "id": "cd26c0d2",
   "metadata": {},
   "outputs": [
    {
     "data": {
      "text/plain": [
       "gender               0\n",
       "SeniorCitizen        0\n",
       "Partner              0\n",
       "Dependents           0\n",
       "tenure               0\n",
       "PhoneService         0\n",
       "MultipleLines        0\n",
       "InternetService      0\n",
       "OnlineSecurity       0\n",
       "OnlineBackup         0\n",
       "DeviceProtection     0\n",
       "TechSupport          0\n",
       "StreamingTV          0\n",
       "StreamingMovies      0\n",
       "Contract             0\n",
       "PaperlessBilling     0\n",
       "PaymentMethod        0\n",
       "MonthlyCharges       0\n",
       "TotalCharges        11\n",
       "Churn                0\n",
       "dtype: int64"
      ]
     },
     "execution_count": 7,
     "metadata": {},
     "output_type": "execute_result"
    }
   ],
   "source": [
    "df.isnull().sum()"
   ]
  },
  {
   "cell_type": "markdown",
   "id": "75c8e264",
   "metadata": {},
   "source": [
    "**Description**\n",
    "\n",
    "The following lines indicated 11 null values and as it is Ignorable we drop them as part of the data cleaning process."
   ]
  },
  {
   "cell_type": "code",
   "execution_count": 8,
   "id": "e43dd2ce",
   "metadata": {},
   "outputs": [],
   "source": [
    "df.dropna(inplace=True)"
   ]
  },
  {
   "cell_type": "markdown",
   "id": "8eae3765",
   "metadata": {},
   "source": [
    "| Description |\n",
    "|:--------|\n",
    "|Above block code drops all of the rows containing null values from the dataframe. This is done using the dropna() method, which takes the argument 'inplace=True' to indicate that the changes should be made in the original dataframe.|\n",
    "\n",
    "---"
   ]
  },
  {
   "cell_type": "markdown",
   "id": "7a9422f2",
   "metadata": {},
   "source": [
    "**Duplicate Checking**"
   ]
  },
  {
   "cell_type": "code",
   "execution_count": 9,
   "id": "7072b514",
   "metadata": {
    "scrolled": false
   },
   "outputs": [
    {
     "name": "stdout",
     "output_type": "stream",
     "text": [
      "Duplicate Rows except first occurrence based on all columns are: 22\n"
     ]
    },
    {
     "data": {
      "text/html": [
       "<div>\n",
       "<style scoped>\n",
       "    .dataframe tbody tr th:only-of-type {\n",
       "        vertical-align: middle;\n",
       "    }\n",
       "\n",
       "    .dataframe tbody tr th {\n",
       "        vertical-align: top;\n",
       "    }\n",
       "\n",
       "    .dataframe thead th {\n",
       "        text-align: right;\n",
       "    }\n",
       "</style>\n",
       "<table border=\"1\" class=\"dataframe\">\n",
       "  <thead>\n",
       "    <tr style=\"text-align: right;\">\n",
       "      <th></th>\n",
       "      <th>gender</th>\n",
       "      <th>SeniorCitizen</th>\n",
       "      <th>Partner</th>\n",
       "      <th>Dependents</th>\n",
       "      <th>tenure</th>\n",
       "      <th>PhoneService</th>\n",
       "      <th>MultipleLines</th>\n",
       "      <th>InternetService</th>\n",
       "      <th>OnlineSecurity</th>\n",
       "      <th>OnlineBackup</th>\n",
       "      <th>DeviceProtection</th>\n",
       "      <th>TechSupport</th>\n",
       "      <th>StreamingTV</th>\n",
       "      <th>StreamingMovies</th>\n",
       "      <th>Contract</th>\n",
       "      <th>PaperlessBilling</th>\n",
       "      <th>PaymentMethod</th>\n",
       "      <th>MonthlyCharges</th>\n",
       "      <th>TotalCharges</th>\n",
       "      <th>Churn</th>\n",
       "    </tr>\n",
       "    <tr>\n",
       "      <th>customerID</th>\n",
       "      <th></th>\n",
       "      <th></th>\n",
       "      <th></th>\n",
       "      <th></th>\n",
       "      <th></th>\n",
       "      <th></th>\n",
       "      <th></th>\n",
       "      <th></th>\n",
       "      <th></th>\n",
       "      <th></th>\n",
       "      <th></th>\n",
       "      <th></th>\n",
       "      <th></th>\n",
       "      <th></th>\n",
       "      <th></th>\n",
       "      <th></th>\n",
       "      <th></th>\n",
       "      <th></th>\n",
       "      <th></th>\n",
       "      <th></th>\n",
       "    </tr>\n",
       "  </thead>\n",
       "  <tbody>\n",
       "    <tr>\n",
       "      <th>9117-SHLZX</th>\n",
       "      <td>Male</td>\n",
       "      <td>0</td>\n",
       "      <td>No</td>\n",
       "      <td>No</td>\n",
       "      <td>1</td>\n",
       "      <td>Yes</td>\n",
       "      <td>No</td>\n",
       "      <td>DSL</td>\n",
       "      <td>No</td>\n",
       "      <td>No</td>\n",
       "      <td>No</td>\n",
       "      <td>No</td>\n",
       "      <td>No</td>\n",
       "      <td>No</td>\n",
       "      <td>Month-to-month</td>\n",
       "      <td>Yes</td>\n",
       "      <td>Mailed check</td>\n",
       "      <td>45.70</td>\n",
       "      <td>45.70</td>\n",
       "      <td>Yes</td>\n",
       "    </tr>\n",
       "    <tr>\n",
       "      <th>1934-SJVJK</th>\n",
       "      <td>Male</td>\n",
       "      <td>0</td>\n",
       "      <td>No</td>\n",
       "      <td>No</td>\n",
       "      <td>1</td>\n",
       "      <td>Yes</td>\n",
       "      <td>No</td>\n",
       "      <td>No</td>\n",
       "      <td>No internet service</td>\n",
       "      <td>No internet service</td>\n",
       "      <td>No internet service</td>\n",
       "      <td>No internet service</td>\n",
       "      <td>No internet service</td>\n",
       "      <td>No internet service</td>\n",
       "      <td>Month-to-month</td>\n",
       "      <td>No</td>\n",
       "      <td>Mailed check</td>\n",
       "      <td>20.15</td>\n",
       "      <td>20.15</td>\n",
       "      <td>Yes</td>\n",
       "    </tr>\n",
       "  </tbody>\n",
       "</table>\n",
       "</div>"
      ],
      "text/plain": [
       "           gender  SeniorCitizen Partner Dependents  tenure PhoneService  \\\n",
       "customerID                                                                 \n",
       "9117-SHLZX   Male              0      No         No       1          Yes   \n",
       "1934-SJVJK   Male              0      No         No       1          Yes   \n",
       "\n",
       "           MultipleLines InternetService       OnlineSecurity  \\\n",
       "customerID                                                      \n",
       "9117-SHLZX            No             DSL                   No   \n",
       "1934-SJVJK            No              No  No internet service   \n",
       "\n",
       "                   OnlineBackup     DeviceProtection          TechSupport  \\\n",
       "customerID                                                                  \n",
       "9117-SHLZX                   No                   No                   No   \n",
       "1934-SJVJK  No internet service  No internet service  No internet service   \n",
       "\n",
       "                    StreamingTV      StreamingMovies        Contract  \\\n",
       "customerID                                                             \n",
       "9117-SHLZX                   No                   No  Month-to-month   \n",
       "1934-SJVJK  No internet service  No internet service  Month-to-month   \n",
       "\n",
       "           PaperlessBilling PaymentMethod  MonthlyCharges  TotalCharges Churn  \n",
       "customerID                                                                     \n",
       "9117-SHLZX              Yes  Mailed check           45.70         45.70   Yes  \n",
       "1934-SJVJK               No  Mailed check           20.15         20.15   Yes  "
      ]
     },
     "execution_count": 9,
     "metadata": {},
     "output_type": "execute_result"
    }
   ],
   "source": [
    "duplicate = df[df.duplicated()]\n",
    "print(\n",
    "    \"Duplicate Rows except first occurrence based on all columns are:\",\n",
    "    duplicate[\"Churn\"].count(),\n",
    ")\n",
    "duplicate.head(2)"
   ]
  },
  {
   "cell_type": "markdown",
   "id": "84fae1e8",
   "metadata": {},
   "source": [
    "| Description |\n",
    "|:--------|\n",
    "|As indicated above duplication occurred due to indexing of CustomerID field, naturally, there is no duplication, therefore there is no action required and we will leave it as is.|\n",
    "\n",
    "---"
   ]
  },
  {
   "cell_type": "markdown",
   "id": "d34e1863",
   "metadata": {},
   "source": [
    "**Missing Values**"
   ]
  },
  {
   "cell_type": "code",
   "execution_count": 10,
   "id": "b6e89ee9",
   "metadata": {},
   "outputs": [
    {
     "data": {
      "text/html": [
       "<div>\n",
       "<style scoped>\n",
       "    .dataframe tbody tr th:only-of-type {\n",
       "        vertical-align: middle;\n",
       "    }\n",
       "\n",
       "    .dataframe tbody tr th {\n",
       "        vertical-align: top;\n",
       "    }\n",
       "\n",
       "    .dataframe thead th {\n",
       "        text-align: right;\n",
       "    }\n",
       "</style>\n",
       "<table border=\"1\" class=\"dataframe\">\n",
       "  <thead>\n",
       "    <tr style=\"text-align: right;\">\n",
       "      <th></th>\n",
       "      <th>Null Values (Count)</th>\n",
       "      <th>Percentage (%)</th>\n",
       "    </tr>\n",
       "  </thead>\n",
       "  <tbody>\n",
       "    <tr>\n",
       "      <th>gender</th>\n",
       "      <td>0</td>\n",
       "      <td>0.0</td>\n",
       "    </tr>\n",
       "    <tr>\n",
       "      <th>SeniorCitizen</th>\n",
       "      <td>0</td>\n",
       "      <td>0.0</td>\n",
       "    </tr>\n",
       "    <tr>\n",
       "      <th>TotalCharges</th>\n",
       "      <td>0</td>\n",
       "      <td>0.0</td>\n",
       "    </tr>\n",
       "    <tr>\n",
       "      <th>MonthlyCharges</th>\n",
       "      <td>0</td>\n",
       "      <td>0.0</td>\n",
       "    </tr>\n",
       "    <tr>\n",
       "      <th>PaymentMethod</th>\n",
       "      <td>0</td>\n",
       "      <td>0.0</td>\n",
       "    </tr>\n",
       "    <tr>\n",
       "      <th>PaperlessBilling</th>\n",
       "      <td>0</td>\n",
       "      <td>0.0</td>\n",
       "    </tr>\n",
       "    <tr>\n",
       "      <th>Contract</th>\n",
       "      <td>0</td>\n",
       "      <td>0.0</td>\n",
       "    </tr>\n",
       "    <tr>\n",
       "      <th>StreamingMovies</th>\n",
       "      <td>0</td>\n",
       "      <td>0.0</td>\n",
       "    </tr>\n",
       "    <tr>\n",
       "      <th>StreamingTV</th>\n",
       "      <td>0</td>\n",
       "      <td>0.0</td>\n",
       "    </tr>\n",
       "    <tr>\n",
       "      <th>TechSupport</th>\n",
       "      <td>0</td>\n",
       "      <td>0.0</td>\n",
       "    </tr>\n",
       "  </tbody>\n",
       "</table>\n",
       "</div>"
      ],
      "text/plain": [
       "                  Null Values (Count)  Percentage (%)\n",
       "gender                              0             0.0\n",
       "SeniorCitizen                       0             0.0\n",
       "TotalCharges                        0             0.0\n",
       "MonthlyCharges                      0             0.0\n",
       "PaymentMethod                       0             0.0\n",
       "PaperlessBilling                    0             0.0\n",
       "Contract                            0             0.0\n",
       "StreamingMovies                     0             0.0\n",
       "StreamingTV                         0             0.0\n",
       "TechSupport                         0             0.0"
      ]
     },
     "execution_count": 10,
     "metadata": {},
     "output_type": "execute_result"
    }
   ],
   "source": [
    "miss = df.isnull().sum().sort_values(ascending=False).head(10)\n",
    "miss_per = round(miss / len(df) * 100, 2)\n",
    "pd.DataFrame({\"Null Values (Count)\": miss, \"Percentage (%)\": miss_per.values})"
   ]
  },
  {
   "cell_type": "markdown",
   "id": "2b30a13f",
   "metadata": {},
   "source": [
    "| Description |\n",
    "|:--------|\n",
    "|The above block code block calculates the total number of missing values in the dataframe (df) and the percentage of missing values in each column.Presentation of Null Values, As it is sorted as Descending there are no missing values; the first 10 rows are selected.|\n",
    "\n",
    "---\n"
   ]
  },
  {
   "cell_type": "markdown",
   "id": "7e1e03ba",
   "metadata": {},
   "source": [
    "**Data Exploration [Plots]**"
   ]
  },
  {
   "cell_type": "code",
   "execution_count": 11,
   "id": "8122eda5",
   "metadata": {},
   "outputs": [
    {
     "data": {
      "image/png": "[encoded data removed]",
      "text/plain": [
       "<Figure size 2500x2000 with 16 Axes>"
      ]
     },
     "metadata": {},
     "output_type": "display_data"
    }
   ],
   "source": [
    "fig, ax = plt.subplots(4, 4, figsize=(25, 20))\n",
    "\n",
    "df_column = \"\"\" \n",
    "    gender SeniorCitizen Partner Dependents  PhoneService\n",
    "    MultipleLines InternetService OnlineSecurity OnlineBackup \n",
    "    DeviceProtection TechSupport StreamingTV StreamingMovies \n",
    "    Contract PaperlessBilling PaymentMethod \n",
    "\"\"\"\n",
    "\n",
    "plt_drw = df_column.split()\n",
    "\n",
    "for i, axi in enumerate(ax.flat):\n",
    "    sns.countplot(x=plt_drw[i], hue=\"Churn\", data=df, ax=axi)\n",
    "    axi.set_title(plt_drw[i])\n",
    "    axi.set_xticklabels(axi.get_xticklabels(), rotation=45)\n",
    "    for p in axi.patches:\n",
    "        height = p.get_height()\n",
    "        axi.text(\n",
    "            p.get_x() + p.get_width() / 2.0,\n",
    "            height + 3,\n",
    "            \"{:1.2f}\".format(height),\n",
    "            ha=\"center\",\n",
    "        ) \n",
    "\n",
    "plt.tight_layout()\n"
   ]
  },
  {
   "cell_type": "markdown",
   "id": "1a3b90e1",
   "metadata": {},
   "source": [
    "**Description**\n",
    "\n",
    "To get some insights from the above dataset, some charts and graphs are added:\n",
    "All graphs show the total diversity and correlation of most features with our target label \"Churn\". As an example distribution of Male and Female customers in churn is almost the same.\n",
    "For senior citizens (those above 65 years old) significantly are low in the margin but in relation to churn rate is high.\n",
    "For each plot, we have a similar analysis and to avoid making long explanations we will keep going with the rest of the activities for the ML pipeline.|\n",
    "\n",
    "* To avoid repeating in coding, we get the column headers as text and put them in a for loop to generate for each column similar plot.\n",
    "\n",
    "---"
   ]
  },
  {
   "cell_type": "markdown",
   "id": "7f0d3951",
   "metadata": {},
   "source": [
    "**Total Churn Disstirbution**"
   ]
  },
  {
   "cell_type": "code",
   "execution_count": 12,
   "id": "7eb40a6d",
   "metadata": {},
   "outputs": [
    {
     "name": "stdout",
     "output_type": "stream",
     "text": [
      "Active Subs:  5,163\n",
      "Churn Subs:  1,869\n"
     ]
    },
    {
     "data": {
      "image/png": "[encoded data removed]",
      "text/plain": [
       "<Figure size 640x480 with 1 Axes>"
      ]
     },
     "metadata": {},
     "output_type": "display_data"
    }
   ],
   "source": [
    "def plot_pie_chart(data, name):\n",
    "    active = data[(data[\"Churn\"] == \"No\")].count()[1]\n",
    "    churn = data[(data[\"Churn\"] == \"Yes\")].count()[1]\n",
    "\n",
    "    print(\"Active Subs: \", f\"{active:,}\")\n",
    "    print(\"Churn Subs: \", f\"{churn:,}\")\n",
    "\n",
    "    sizes = [active, churn]\n",
    "    labels = \"Active\", \"Churn\"\n",
    "    explode = (0, 0.1)\n",
    "    fig1, ax1 = plt.subplots()\n",
    "    ax1.pie(sizes, explode=explode, autopct=\"%1.1f%%\", startangle=40)\n",
    "    ax1.axis(\"equal\")\n",
    "    ax1.set_title(f\"Subscriber's Status ({name})\")\n",
    "    ax1.legend(labels)\n",
    "    plt.show()\n",
    "\n",
    "\n",
    "plot_pie_chart(df, \"Total\")"
   ]
  },
  {
   "cell_type": "markdown",
   "id": "14bce013",
   "metadata": {},
   "source": [
    "| Description |\n",
    "|:--------|\n",
    "|As our target:(Y) is the \"Churn\" column, therefore we explore a graphical distribution of churned and active customers as above to identify whether our data is balanced or not, in the case of imbalanced data we need to balance and normalize it.|\n",
    "\n",
    "---"
   ]
  },
  {
   "cell_type": "markdown",
   "id": "24b1f429",
   "metadata": {},
   "source": [
    "# <p style=\"background-color:green; font-family:calibri; font-size:120%; text-color:white; text-align:center;color:white\" id=\"data\"> 4. Splitting Dataset to Test and Train</p>"
   ]
  },
  {
   "cell_type": "code",
   "execution_count": 13,
   "id": "3fbdd3b4",
   "metadata": {},
   "outputs": [],
   "source": [
    "x = df.drop(\"Churn\", axis=1)\n",
    "y = df[\"Churn\"]\n",
    "\n",
    "x_train, x_test, y_train, y_test = sklearn.model_selection.train_test_split(x, y)"
   ]
  },
  {
   "cell_type": "markdown",
   "id": "4aae3ffc",
   "metadata": {},
   "source": [
    "| Description |\n",
    "|:--------|\n",
    "|The above block code splits the dataframe `df` into two sets, `x` and `y`. `x` contains all the features of the dataframe, minus the target variable `Churn`, while `y` contains only the target variable `Churn`. The two sets are then further split into training and testing sets, `x_train` and `x_test` for the features, and `y_train` and `y_test` for the target variable. This allows us to train and evaluate our machine learning models on different datasets.\n",
    "By default, sklearn.model_selection.train_test_split() splits the data into a 75% training set and 25% testing set.|\n",
    "\n",
    "----"
   ]
  },
  {
   "cell_type": "code",
   "execution_count": 14,
   "id": "2259f7be",
   "metadata": {},
   "outputs": [
    {
     "name": "stdout",
     "output_type": "stream",
     "text": [
      "Training Dataset:\n",
      "Shape: (5274, 19)\n",
      "Dimension: 2\n",
      "Size: 100206 \n",
      "\n",
      "Test Dataset:\n",
      "Shape:(1758, 19)\n",
      "Dimension:2\n",
      "Size:33402\n"
     ]
    }
   ],
   "source": [
    "print(\"Training Dataset:\")\n",
    "print(f\"Shape: {x_train.shape}\")\n",
    "print(f\"Dimension: {x_train.ndim}\")\n",
    "print(f\"Size: {x_train.size}\", \"\\n\")\n",
    "print(\"Test Dataset:\")\n",
    "print(f\"Shape:{x_test.shape}\")\n",
    "print(f\"Dimension:{x_test.ndim}\")\n",
    "print(f\"Size:{x_test.size}\")"
   ]
  },
  {
   "cell_type": "markdown",
   "id": "8d709236",
   "metadata": {},
   "source": [
    "| Description |\n",
    "|:--------|\n",
    "|The above code prints the size, dimension and shape of the training and test datasets. and return the number of rows in the respective datasets. The f-string is used to print the string with the value from the respective variables.|\n",
    "\n",
    "---"
   ]
  },
  {
   "cell_type": "code",
   "execution_count": 15,
   "id": "a9719881",
   "metadata": {},
   "outputs": [
    {
     "data": {
      "text/plain": [
       "'Train Dataset:'"
      ]
     },
     "metadata": {},
     "output_type": "display_data"
    },
    {
     "data": {
      "text/html": [
       "<div>\n",
       "<style scoped>\n",
       "    .dataframe tbody tr th:only-of-type {\n",
       "        vertical-align: middle;\n",
       "    }\n",
       "\n",
       "    .dataframe tbody tr th {\n",
       "        vertical-align: top;\n",
       "    }\n",
       "\n",
       "    .dataframe thead th {\n",
       "        text-align: right;\n",
       "    }\n",
       "</style>\n",
       "<table border=\"1\" class=\"dataframe\">\n",
       "  <thead>\n",
       "    <tr style=\"text-align: right;\">\n",
       "      <th></th>\n",
       "      <th>gender</th>\n",
       "      <th>SeniorCitizen</th>\n",
       "      <th>Partner</th>\n",
       "      <th>Dependents</th>\n",
       "      <th>tenure</th>\n",
       "      <th>PhoneService</th>\n",
       "      <th>MultipleLines</th>\n",
       "      <th>InternetService</th>\n",
       "      <th>OnlineSecurity</th>\n",
       "      <th>OnlineBackup</th>\n",
       "      <th>DeviceProtection</th>\n",
       "      <th>TechSupport</th>\n",
       "      <th>StreamingTV</th>\n",
       "      <th>StreamingMovies</th>\n",
       "      <th>Contract</th>\n",
       "      <th>PaperlessBilling</th>\n",
       "      <th>PaymentMethod</th>\n",
       "      <th>MonthlyCharges</th>\n",
       "      <th>TotalCharges</th>\n",
       "    </tr>\n",
       "    <tr>\n",
       "      <th>customerID</th>\n",
       "      <th></th>\n",
       "      <th></th>\n",
       "      <th></th>\n",
       "      <th></th>\n",
       "      <th></th>\n",
       "      <th></th>\n",
       "      <th></th>\n",
       "      <th></th>\n",
       "      <th></th>\n",
       "      <th></th>\n",
       "      <th></th>\n",
       "      <th></th>\n",
       "      <th></th>\n",
       "      <th></th>\n",
       "      <th></th>\n",
       "      <th></th>\n",
       "      <th></th>\n",
       "      <th></th>\n",
       "      <th></th>\n",
       "    </tr>\n",
       "  </thead>\n",
       "  <tbody>\n",
       "    <tr>\n",
       "      <th>5377-NDTOU</th>\n",
       "      <td>Female</td>\n",
       "      <td>0</td>\n",
       "      <td>Yes</td>\n",
       "      <td>Yes</td>\n",
       "      <td>71</td>\n",
       "      <td>Yes</td>\n",
       "      <td>Yes</td>\n",
       "      <td>DSL</td>\n",
       "      <td>Yes</td>\n",
       "      <td>Yes</td>\n",
       "      <td>Yes</td>\n",
       "      <td>Yes</td>\n",
       "      <td>Yes</td>\n",
       "      <td>Yes</td>\n",
       "      <td>Two year</td>\n",
       "      <td>No</td>\n",
       "      <td>Mailed check</td>\n",
       "      <td>91.05</td>\n",
       "      <td>6293.75</td>\n",
       "    </tr>\n",
       "  </tbody>\n",
       "</table>\n",
       "</div>"
      ],
      "text/plain": [
       "            gender  SeniorCitizen Partner Dependents  tenure PhoneService  \\\n",
       "customerID                                                                  \n",
       "5377-NDTOU  Female              0     Yes        Yes      71          Yes   \n",
       "\n",
       "           MultipleLines InternetService OnlineSecurity OnlineBackup  \\\n",
       "customerID                                                             \n",
       "5377-NDTOU           Yes             DSL            Yes          Yes   \n",
       "\n",
       "           DeviceProtection TechSupport StreamingTV StreamingMovies  Contract  \\\n",
       "customerID                                                                      \n",
       "5377-NDTOU              Yes         Yes         Yes             Yes  Two year   \n",
       "\n",
       "           PaperlessBilling PaymentMethod  MonthlyCharges  TotalCharges  \n",
       "customerID                                                               \n",
       "5377-NDTOU               No  Mailed check           91.05       6293.75  "
      ]
     },
     "metadata": {},
     "output_type": "display_data"
    },
    {
     "data": {
      "text/plain": [
       "'Test Dataset:'"
      ]
     },
     "metadata": {},
     "output_type": "display_data"
    },
    {
     "data": {
      "text/html": [
       "<div>\n",
       "<style scoped>\n",
       "    .dataframe tbody tr th:only-of-type {\n",
       "        vertical-align: middle;\n",
       "    }\n",
       "\n",
       "    .dataframe tbody tr th {\n",
       "        vertical-align: top;\n",
       "    }\n",
       "\n",
       "    .dataframe thead th {\n",
       "        text-align: right;\n",
       "    }\n",
       "</style>\n",
       "<table border=\"1\" class=\"dataframe\">\n",
       "  <thead>\n",
       "    <tr style=\"text-align: right;\">\n",
       "      <th></th>\n",
       "      <th>gender</th>\n",
       "      <th>SeniorCitizen</th>\n",
       "      <th>Partner</th>\n",
       "      <th>Dependents</th>\n",
       "      <th>tenure</th>\n",
       "      <th>PhoneService</th>\n",
       "      <th>MultipleLines</th>\n",
       "      <th>InternetService</th>\n",
       "      <th>OnlineSecurity</th>\n",
       "      <th>OnlineBackup</th>\n",
       "      <th>DeviceProtection</th>\n",
       "      <th>TechSupport</th>\n",
       "      <th>StreamingTV</th>\n",
       "      <th>StreamingMovies</th>\n",
       "      <th>Contract</th>\n",
       "      <th>PaperlessBilling</th>\n",
       "      <th>PaymentMethod</th>\n",
       "      <th>MonthlyCharges</th>\n",
       "      <th>TotalCharges</th>\n",
       "    </tr>\n",
       "    <tr>\n",
       "      <th>customerID</th>\n",
       "      <th></th>\n",
       "      <th></th>\n",
       "      <th></th>\n",
       "      <th></th>\n",
       "      <th></th>\n",
       "      <th></th>\n",
       "      <th></th>\n",
       "      <th></th>\n",
       "      <th></th>\n",
       "      <th></th>\n",
       "      <th></th>\n",
       "      <th></th>\n",
       "      <th></th>\n",
       "      <th></th>\n",
       "      <th></th>\n",
       "      <th></th>\n",
       "      <th></th>\n",
       "      <th></th>\n",
       "      <th></th>\n",
       "    </tr>\n",
       "  </thead>\n",
       "  <tbody>\n",
       "    <tr>\n",
       "      <th>1867-BDVFH</th>\n",
       "      <td>Male</td>\n",
       "      <td>0</td>\n",
       "      <td>Yes</td>\n",
       "      <td>Yes</td>\n",
       "      <td>11</td>\n",
       "      <td>Yes</td>\n",
       "      <td>Yes</td>\n",
       "      <td>Fiber optic</td>\n",
       "      <td>No</td>\n",
       "      <td>No</td>\n",
       "      <td>No</td>\n",
       "      <td>No</td>\n",
       "      <td>No</td>\n",
       "      <td>No</td>\n",
       "      <td>Month-to-month</td>\n",
       "      <td>Yes</td>\n",
       "      <td>Electronic check</td>\n",
       "      <td>74.35</td>\n",
       "      <td>834.2</td>\n",
       "    </tr>\n",
       "  </tbody>\n",
       "</table>\n",
       "</div>"
      ],
      "text/plain": [
       "           gender  SeniorCitizen Partner Dependents  tenure PhoneService  \\\n",
       "customerID                                                                 \n",
       "1867-BDVFH   Male              0     Yes        Yes      11          Yes   \n",
       "\n",
       "           MultipleLines InternetService OnlineSecurity OnlineBackup  \\\n",
       "customerID                                                             \n",
       "1867-BDVFH           Yes     Fiber optic             No           No   \n",
       "\n",
       "           DeviceProtection TechSupport StreamingTV StreamingMovies  \\\n",
       "customerID                                                            \n",
       "1867-BDVFH               No          No          No              No   \n",
       "\n",
       "                  Contract PaperlessBilling     PaymentMethod  MonthlyCharges  \\\n",
       "customerID                                                                      \n",
       "1867-BDVFH  Month-to-month              Yes  Electronic check           74.35   \n",
       "\n",
       "            TotalCharges  \n",
       "customerID                \n",
       "1867-BDVFH         834.2  "
      ]
     },
     "metadata": {},
     "output_type": "display_data"
    }
   ],
   "source": [
    "display(\"Train Dataset:\", x_train.head(1), \"Test Dataset:\", x_test.head(1))"
   ]
  },
  {
   "cell_type": "code",
   "execution_count": 16,
   "id": "5899639b",
   "metadata": {},
   "outputs": [
    {
     "data": {
      "text/plain": [
       "'Train Dataset:'"
      ]
     },
     "metadata": {},
     "output_type": "display_data"
    },
    {
     "data": {
      "text/plain": [
       "customerID\n",
       "5377-NDTOU    No\n",
       "2266-SJNAT    No\n",
       "Name: Churn, dtype: object"
      ]
     },
     "metadata": {},
     "output_type": "display_data"
    },
    {
     "data": {
      "text/plain": [
       "'Test Dataset:'"
      ]
     },
     "metadata": {},
     "output_type": "display_data"
    },
    {
     "data": {
      "text/plain": [
       "customerID\n",
       "1867-BDVFH    Yes\n",
       "1619-YWUBB     No\n",
       "Name: Churn, dtype: object"
      ]
     },
     "metadata": {},
     "output_type": "display_data"
    }
   ],
   "source": [
    "display(\"Train Dataset:\", y_train.head(2), \"Test Dataset:\", y_test.head(2))"
   ]
  },
  {
   "cell_type": "markdown",
   "id": "dc9524f2",
   "metadata": {},
   "source": [
    "**Description**\n",
    " \n",
    "The above two block codes prints our datasets."
   ]
  },
  {
   "cell_type": "markdown",
   "id": "8c80d2e4",
   "metadata": {},
   "source": [
    "# <p style=\"background-color:green; font-family:calibri; font-size:120%; text-color:white; text-align:center;color:white\" id=\"data\"> 5. Feature Engineering</p>\n"
   ]
  },
  {
   "cell_type": "markdown",
   "id": "4ba045f7",
   "metadata": {},
   "source": [
    "To Use ML algorithms all features must be converted to numeric, therefore we explore the data to investigate non-numeric features and convert them to numerical values based on existing methods."
   ]
  },
  {
   "cell_type": "code",
   "execution_count": 17,
   "id": "a3fdf250",
   "metadata": {
    "scrolled": false
   },
   "outputs": [
    {
     "data": {
      "text/html": [
       "<div>\n",
       "<style scoped>\n",
       "    .dataframe tbody tr th:only-of-type {\n",
       "        vertical-align: middle;\n",
       "    }\n",
       "\n",
       "    .dataframe tbody tr th {\n",
       "        vertical-align: top;\n",
       "    }\n",
       "\n",
       "    .dataframe thead th {\n",
       "        text-align: right;\n",
       "    }\n",
       "</style>\n",
       "<table border=\"1\" class=\"dataframe\">\n",
       "  <thead>\n",
       "    <tr style=\"text-align: right;\">\n",
       "      <th></th>\n",
       "      <th>count</th>\n",
       "      <th>unique</th>\n",
       "      <th>top</th>\n",
       "      <th>freq</th>\n",
       "    </tr>\n",
       "  </thead>\n",
       "  <tbody>\n",
       "    <tr>\n",
       "      <th>gender</th>\n",
       "      <td>7032</td>\n",
       "      <td>2</td>\n",
       "      <td>Male</td>\n",
       "      <td>3549</td>\n",
       "    </tr>\n",
       "    <tr>\n",
       "      <th>Partner</th>\n",
       "      <td>7032</td>\n",
       "      <td>2</td>\n",
       "      <td>No</td>\n",
       "      <td>3639</td>\n",
       "    </tr>\n",
       "    <tr>\n",
       "      <th>Dependents</th>\n",
       "      <td>7032</td>\n",
       "      <td>2</td>\n",
       "      <td>No</td>\n",
       "      <td>4933</td>\n",
       "    </tr>\n",
       "    <tr>\n",
       "      <th>PhoneService</th>\n",
       "      <td>7032</td>\n",
       "      <td>2</td>\n",
       "      <td>Yes</td>\n",
       "      <td>6352</td>\n",
       "    </tr>\n",
       "    <tr>\n",
       "      <th>MultipleLines</th>\n",
       "      <td>7032</td>\n",
       "      <td>3</td>\n",
       "      <td>No</td>\n",
       "      <td>3385</td>\n",
       "    </tr>\n",
       "    <tr>\n",
       "      <th>InternetService</th>\n",
       "      <td>7032</td>\n",
       "      <td>3</td>\n",
       "      <td>Fiber optic</td>\n",
       "      <td>3096</td>\n",
       "    </tr>\n",
       "    <tr>\n",
       "      <th>OnlineSecurity</th>\n",
       "      <td>7032</td>\n",
       "      <td>3</td>\n",
       "      <td>No</td>\n",
       "      <td>3497</td>\n",
       "    </tr>\n",
       "    <tr>\n",
       "      <th>OnlineBackup</th>\n",
       "      <td>7032</td>\n",
       "      <td>3</td>\n",
       "      <td>No</td>\n",
       "      <td>3087</td>\n",
       "    </tr>\n",
       "    <tr>\n",
       "      <th>DeviceProtection</th>\n",
       "      <td>7032</td>\n",
       "      <td>3</td>\n",
       "      <td>No</td>\n",
       "      <td>3094</td>\n",
       "    </tr>\n",
       "    <tr>\n",
       "      <th>TechSupport</th>\n",
       "      <td>7032</td>\n",
       "      <td>3</td>\n",
       "      <td>No</td>\n",
       "      <td>3472</td>\n",
       "    </tr>\n",
       "    <tr>\n",
       "      <th>StreamingTV</th>\n",
       "      <td>7032</td>\n",
       "      <td>3</td>\n",
       "      <td>No</td>\n",
       "      <td>2809</td>\n",
       "    </tr>\n",
       "    <tr>\n",
       "      <th>StreamingMovies</th>\n",
       "      <td>7032</td>\n",
       "      <td>3</td>\n",
       "      <td>No</td>\n",
       "      <td>2781</td>\n",
       "    </tr>\n",
       "    <tr>\n",
       "      <th>Contract</th>\n",
       "      <td>7032</td>\n",
       "      <td>3</td>\n",
       "      <td>Month-to-month</td>\n",
       "      <td>3875</td>\n",
       "    </tr>\n",
       "    <tr>\n",
       "      <th>PaperlessBilling</th>\n",
       "      <td>7032</td>\n",
       "      <td>2</td>\n",
       "      <td>Yes</td>\n",
       "      <td>4168</td>\n",
       "    </tr>\n",
       "    <tr>\n",
       "      <th>PaymentMethod</th>\n",
       "      <td>7032</td>\n",
       "      <td>4</td>\n",
       "      <td>Electronic check</td>\n",
       "      <td>2365</td>\n",
       "    </tr>\n",
       "    <tr>\n",
       "      <th>Churn</th>\n",
       "      <td>7032</td>\n",
       "      <td>2</td>\n",
       "      <td>No</td>\n",
       "      <td>5163</td>\n",
       "    </tr>\n",
       "  </tbody>\n",
       "</table>\n",
       "</div>"
      ],
      "text/plain": [
       "                 count unique               top  freq\n",
       "gender            7032      2              Male  3549\n",
       "Partner           7032      2                No  3639\n",
       "Dependents        7032      2                No  4933\n",
       "PhoneService      7032      2               Yes  6352\n",
       "MultipleLines     7032      3                No  3385\n",
       "InternetService   7032      3       Fiber optic  3096\n",
       "OnlineSecurity    7032      3                No  3497\n",
       "OnlineBackup      7032      3                No  3087\n",
       "DeviceProtection  7032      3                No  3094\n",
       "TechSupport       7032      3                No  3472\n",
       "StreamingTV       7032      3                No  2809\n",
       "StreamingMovies   7032      3                No  2781\n",
       "Contract          7032      3    Month-to-month  3875\n",
       "PaperlessBilling  7032      2               Yes  4168\n",
       "PaymentMethod     7032      4  Electronic check  2365\n",
       "Churn             7032      2                No  5163"
      ]
     },
     "execution_count": 17,
     "metadata": {},
     "output_type": "execute_result"
    }
   ],
   "source": [
    "df.describe(include=[\"object\"]).T"
   ]
  },
  {
   "cell_type": "markdown",
   "id": "7b2617fd",
   "metadata": {},
   "source": [
    "| Description |\n",
    "|:--------|\n",
    "|The above code provides a summary of all the object data types in a given dataframe. It returns the count, unique values, top values and the frequency of the top values for each column of the dataframe.|\n",
    "\n",
    "---"
   ]
  },
  {
   "cell_type": "code",
   "execution_count": 18,
   "id": "b9045257",
   "metadata": {},
   "outputs": [
    {
     "data": {
      "text/html": [
       "<div>\n",
       "<style scoped>\n",
       "    .dataframe tbody tr th:only-of-type {\n",
       "        vertical-align: middle;\n",
       "    }\n",
       "\n",
       "    .dataframe tbody tr th {\n",
       "        vertical-align: top;\n",
       "    }\n",
       "\n",
       "    .dataframe thead th {\n",
       "        text-align: right;\n",
       "    }\n",
       "</style>\n",
       "<table border=\"1\" class=\"dataframe\">\n",
       "  <thead>\n",
       "    <tr style=\"text-align: right;\">\n",
       "      <th></th>\n",
       "      <th>count</th>\n",
       "      <th>mean</th>\n",
       "      <th>std</th>\n",
       "      <th>min</th>\n",
       "      <th>25%</th>\n",
       "      <th>50%</th>\n",
       "      <th>75%</th>\n",
       "      <th>max</th>\n",
       "    </tr>\n",
       "  </thead>\n",
       "  <tbody>\n",
       "    <tr>\n",
       "      <th>SeniorCitizen</th>\n",
       "      <td>7032.0</td>\n",
       "      <td>0.162400</td>\n",
       "      <td>0.368844</td>\n",
       "      <td>0.00</td>\n",
       "      <td>0.0000</td>\n",
       "      <td>0.000</td>\n",
       "      <td>0.0000</td>\n",
       "      <td>1.00</td>\n",
       "    </tr>\n",
       "    <tr>\n",
       "      <th>tenure</th>\n",
       "      <td>7032.0</td>\n",
       "      <td>32.421786</td>\n",
       "      <td>24.545260</td>\n",
       "      <td>1.00</td>\n",
       "      <td>9.0000</td>\n",
       "      <td>29.000</td>\n",
       "      <td>55.0000</td>\n",
       "      <td>72.00</td>\n",
       "    </tr>\n",
       "    <tr>\n",
       "      <th>MonthlyCharges</th>\n",
       "      <td>7032.0</td>\n",
       "      <td>64.798208</td>\n",
       "      <td>30.085974</td>\n",
       "      <td>18.25</td>\n",
       "      <td>35.5875</td>\n",
       "      <td>70.350</td>\n",
       "      <td>89.8625</td>\n",
       "      <td>118.75</td>\n",
       "    </tr>\n",
       "    <tr>\n",
       "      <th>TotalCharges</th>\n",
       "      <td>7032.0</td>\n",
       "      <td>2283.300441</td>\n",
       "      <td>2266.771362</td>\n",
       "      <td>18.80</td>\n",
       "      <td>401.4500</td>\n",
       "      <td>1397.475</td>\n",
       "      <td>3794.7375</td>\n",
       "      <td>8684.80</td>\n",
       "    </tr>\n",
       "  </tbody>\n",
       "</table>\n",
       "</div>"
      ],
      "text/plain": [
       "                 count         mean          std    min       25%       50%  \\\n",
       "SeniorCitizen   7032.0     0.162400     0.368844   0.00    0.0000     0.000   \n",
       "tenure          7032.0    32.421786    24.545260   1.00    9.0000    29.000   \n",
       "MonthlyCharges  7032.0    64.798208    30.085974  18.25   35.5875    70.350   \n",
       "TotalCharges    7032.0  2283.300441  2266.771362  18.80  401.4500  1397.475   \n",
       "\n",
       "                      75%      max  \n",
       "SeniorCitizen      0.0000     1.00  \n",
       "tenure            55.0000    72.00  \n",
       "MonthlyCharges    89.8625   118.75  \n",
       "TotalCharges    3794.7375  8684.80  "
      ]
     },
     "execution_count": 18,
     "metadata": {},
     "output_type": "execute_result"
    }
   ],
   "source": [
    "df.describe().T"
   ]
  },
  {
   "cell_type": "markdown",
   "id": "56a716ce",
   "metadata": {},
   "source": [
    "| Description |\n",
    "|:--------|\n",
    "|The above code displays a Numerical summary of related dataset. The `.T` attribute is used to transpose the output so that the columns and rows are reversed, making the output easier to read.\n",
    "\n",
    "---"
   ]
  },
  {
   "cell_type": "code",
   "execution_count": 19,
   "id": "a1fed12d",
   "metadata": {},
   "outputs": [
    {
     "data": {
      "text/html": [
       "<style type=\"text/css\">\n",
       "#T_f8a84 th {\n",
       "  text-align: center;\n",
       "}\n",
       "#T_f8a84_row0_col0, #T_f8a84_row0_col1, #T_f8a84_row0_col2, #T_f8a84_row1_col0, #T_f8a84_row1_col1, #T_f8a84_row1_col2, #T_f8a84_row2_col0, #T_f8a84_row2_col1, #T_f8a84_row2_col2, #T_f8a84_row3_col0, #T_f8a84_row3_col1, #T_f8a84_row3_col2, #T_f8a84_row4_col0, #T_f8a84_row4_col1, #T_f8a84_row4_col2, #T_f8a84_row5_col0, #T_f8a84_row5_col1, #T_f8a84_row5_col2, #T_f8a84_row6_col0, #T_f8a84_row6_col1, #T_f8a84_row6_col2, #T_f8a84_row7_col0, #T_f8a84_row7_col1, #T_f8a84_row7_col2, #T_f8a84_row8_col0, #T_f8a84_row8_col1, #T_f8a84_row8_col2, #T_f8a84_row9_col0, #T_f8a84_row9_col1, #T_f8a84_row9_col2, #T_f8a84_row10_col0, #T_f8a84_row10_col1, #T_f8a84_row10_col2, #T_f8a84_row11_col0, #T_f8a84_row11_col1, #T_f8a84_row11_col2, #T_f8a84_row12_col0, #T_f8a84_row12_col1, #T_f8a84_row12_col2, #T_f8a84_row13_col0, #T_f8a84_row13_col1, #T_f8a84_row13_col2, #T_f8a84_row14_col0, #T_f8a84_row14_col1, #T_f8a84_row14_col2, #T_f8a84_row15_col0, #T_f8a84_row15_col1, #T_f8a84_row15_col2 {\n",
       "  text-align: left;\n",
       "}\n",
       "</style>\n",
       "<table id=\"T_f8a84\">\n",
       "  <thead>\n",
       "    <tr>\n",
       "      <th class=\"blank level0\" >&nbsp;</th>\n",
       "      <th id=\"T_f8a84_level0_col0\" class=\"col_heading level0 col0\" >Column</th>\n",
       "      <th id=\"T_f8a84_level0_col1\" class=\"col_heading level0 col1\" >Unique Values</th>\n",
       "      <th id=\"T_f8a84_level0_col2\" class=\"col_heading level0 col2\" >Count of Unique Values</th>\n",
       "    </tr>\n",
       "  </thead>\n",
       "  <tbody>\n",
       "    <tr>\n",
       "      <th id=\"T_f8a84_level0_row0\" class=\"row_heading level0 row0\" >0</th>\n",
       "      <td id=\"T_f8a84_row0_col0\" class=\"data row0 col0\" >gender         </td>\n",
       "      <td id=\"T_f8a84_row0_col1\" class=\"data row0 col1\" >['Female' 'Male']             </td>\n",
       "      <td id=\"T_f8a84_row0_col2\" class=\"data row0 col2\" >2                   </td>\n",
       "    </tr>\n",
       "    <tr>\n",
       "      <th id=\"T_f8a84_level0_row1\" class=\"row_heading level0 row1\" >1</th>\n",
       "      <td id=\"T_f8a84_row1_col0\" class=\"data row1 col0\" >Partner        </td>\n",
       "      <td id=\"T_f8a84_row1_col1\" class=\"data row1 col1\" >['Yes' 'No']                  </td>\n",
       "      <td id=\"T_f8a84_row1_col2\" class=\"data row1 col2\" >2                   </td>\n",
       "    </tr>\n",
       "    <tr>\n",
       "      <th id=\"T_f8a84_level0_row2\" class=\"row_heading level0 row2\" >2</th>\n",
       "      <td id=\"T_f8a84_row2_col0\" class=\"data row2 col0\" >Dependents     </td>\n",
       "      <td id=\"T_f8a84_row2_col1\" class=\"data row2 col1\" >['No' 'Yes']                  </td>\n",
       "      <td id=\"T_f8a84_row2_col2\" class=\"data row2 col2\" >2                   </td>\n",
       "    </tr>\n",
       "    <tr>\n",
       "      <th id=\"T_f8a84_level0_row3\" class=\"row_heading level0 row3\" >3</th>\n",
       "      <td id=\"T_f8a84_row3_col0\" class=\"data row3 col0\" >PhoneService   </td>\n",
       "      <td id=\"T_f8a84_row3_col1\" class=\"data row3 col1\" >['No' 'Yes']                  </td>\n",
       "      <td id=\"T_f8a84_row3_col2\" class=\"data row3 col2\" >2                   </td>\n",
       "    </tr>\n",
       "    <tr>\n",
       "      <th id=\"T_f8a84_level0_row4\" class=\"row_heading level0 row4\" >4</th>\n",
       "      <td id=\"T_f8a84_row4_col0\" class=\"data row4 col0\" >MultipleLines  </td>\n",
       "      <td id=\"T_f8a84_row4_col1\" class=\"data row4 col1\" >['No phone service' 'No' 'Yes']</td>\n",
       "      <td id=\"T_f8a84_row4_col2\" class=\"data row4 col2\" >3                   </td>\n",
       "    </tr>\n",
       "    <tr>\n",
       "      <th id=\"T_f8a84_level0_row5\" class=\"row_heading level0 row5\" >5</th>\n",
       "      <td id=\"T_f8a84_row5_col0\" class=\"data row5 col0\" >InternetService</td>\n",
       "      <td id=\"T_f8a84_row5_col1\" class=\"data row5 col1\" >['DSL' 'Fiber optic' 'No']    </td>\n",
       "      <td id=\"T_f8a84_row5_col2\" class=\"data row5 col2\" >3                   </td>\n",
       "    </tr>\n",
       "    <tr>\n",
       "      <th id=\"T_f8a84_level0_row6\" class=\"row_heading level0 row6\" >6</th>\n",
       "      <td id=\"T_f8a84_row6_col0\" class=\"data row6 col0\" >OnlineSecurity </td>\n",
       "      <td id=\"T_f8a84_row6_col1\" class=\"data row6 col1\" >['No' 'Yes' 'No internet service']</td>\n",
       "      <td id=\"T_f8a84_row6_col2\" class=\"data row6 col2\" >3                   </td>\n",
       "    </tr>\n",
       "    <tr>\n",
       "      <th id=\"T_f8a84_level0_row7\" class=\"row_heading level0 row7\" >7</th>\n",
       "      <td id=\"T_f8a84_row7_col0\" class=\"data row7 col0\" >OnlineBackup   </td>\n",
       "      <td id=\"T_f8a84_row7_col1\" class=\"data row7 col1\" >['Yes' 'No' 'No internet service']</td>\n",
       "      <td id=\"T_f8a84_row7_col2\" class=\"data row7 col2\" >3                   </td>\n",
       "    </tr>\n",
       "    <tr>\n",
       "      <th id=\"T_f8a84_level0_row8\" class=\"row_heading level0 row8\" >8</th>\n",
       "      <td id=\"T_f8a84_row8_col0\" class=\"data row8 col0\" >DeviceProtection</td>\n",
       "      <td id=\"T_f8a84_row8_col1\" class=\"data row8 col1\" >['No' 'Yes' 'No internet service']</td>\n",
       "      <td id=\"T_f8a84_row8_col2\" class=\"data row8 col2\" >3                   </td>\n",
       "    </tr>\n",
       "    <tr>\n",
       "      <th id=\"T_f8a84_level0_row9\" class=\"row_heading level0 row9\" >9</th>\n",
       "      <td id=\"T_f8a84_row9_col0\" class=\"data row9 col0\" >TechSupport    </td>\n",
       "      <td id=\"T_f8a84_row9_col1\" class=\"data row9 col1\" >['No' 'Yes' 'No internet service']</td>\n",
       "      <td id=\"T_f8a84_row9_col2\" class=\"data row9 col2\" >3                   </td>\n",
       "    </tr>\n",
       "    <tr>\n",
       "      <th id=\"T_f8a84_level0_row10\" class=\"row_heading level0 row10\" >10</th>\n",
       "      <td id=\"T_f8a84_row10_col0\" class=\"data row10 col0\" >StreamingTV    </td>\n",
       "      <td id=\"T_f8a84_row10_col1\" class=\"data row10 col1\" >['No' 'Yes' 'No internet service']</td>\n",
       "      <td id=\"T_f8a84_row10_col2\" class=\"data row10 col2\" >3                   </td>\n",
       "    </tr>\n",
       "    <tr>\n",
       "      <th id=\"T_f8a84_level0_row11\" class=\"row_heading level0 row11\" >11</th>\n",
       "      <td id=\"T_f8a84_row11_col0\" class=\"data row11 col0\" >StreamingMovies</td>\n",
       "      <td id=\"T_f8a84_row11_col1\" class=\"data row11 col1\" >['No' 'Yes' 'No internet service']</td>\n",
       "      <td id=\"T_f8a84_row11_col2\" class=\"data row11 col2\" >3                   </td>\n",
       "    </tr>\n",
       "    <tr>\n",
       "      <th id=\"T_f8a84_level0_row12\" class=\"row_heading level0 row12\" >12</th>\n",
       "      <td id=\"T_f8a84_row12_col0\" class=\"data row12 col0\" >Contract       </td>\n",
       "      <td id=\"T_f8a84_row12_col1\" class=\"data row12 col1\" >['Month-to-month' 'One year' 'Two year']</td>\n",
       "      <td id=\"T_f8a84_row12_col2\" class=\"data row12 col2\" >3                   </td>\n",
       "    </tr>\n",
       "    <tr>\n",
       "      <th id=\"T_f8a84_level0_row13\" class=\"row_heading level0 row13\" >13</th>\n",
       "      <td id=\"T_f8a84_row13_col0\" class=\"data row13 col0\" >PaperlessBilling</td>\n",
       "      <td id=\"T_f8a84_row13_col1\" class=\"data row13 col1\" >['Yes' 'No']                  </td>\n",
       "      <td id=\"T_f8a84_row13_col2\" class=\"data row13 col2\" >2                   </td>\n",
       "    </tr>\n",
       "    <tr>\n",
       "      <th id=\"T_f8a84_level0_row14\" class=\"row_heading level0 row14\" >14</th>\n",
       "      <td id=\"T_f8a84_row14_col0\" class=\"data row14 col0\" >PaymentMethod  </td>\n",
       "      <td id=\"T_f8a84_row14_col1\" class=\"data row14 col1\" >['Electronic check' 'Mailed check' 'Bank transfer (automatic)'\n",
       " 'Credit card (automatic)']</td>\n",
       "      <td id=\"T_f8a84_row14_col2\" class=\"data row14 col2\" >4                   </td>\n",
       "    </tr>\n",
       "    <tr>\n",
       "      <th id=\"T_f8a84_level0_row15\" class=\"row_heading level0 row15\" >15</th>\n",
       "      <td id=\"T_f8a84_row15_col0\" class=\"data row15 col0\" >Churn          </td>\n",
       "      <td id=\"T_f8a84_row15_col1\" class=\"data row15 col1\" >['No' 'Yes']                  </td>\n",
       "      <td id=\"T_f8a84_row15_col2\" class=\"data row15 col2\" >2                   </td>\n",
       "    </tr>\n",
       "  </tbody>\n",
       "</table>\n"
      ],
      "text/plain": [
       "<pandas.io.formats.style.Styler at 0x1df792b9910>"
      ]
     },
     "execution_count": 19,
     "metadata": {},
     "output_type": "execute_result"
    }
   ],
   "source": [
    "data = []\n",
    "\n",
    "for i in df.select_dtypes(include=\"object\"):\n",
    "    data.append(\n",
    "        [i.ljust(15), str(df[i].unique()).ljust(30), str(df[i].nunique()).ljust(20)]\n",
    "    )\n",
    "\n",
    "table = pd.DataFrame(\n",
    "    data, columns=[\"Column\", \"Unique Values\", \"Count of Unique Values\"]\n",
    ")\n",
    "\n",
    "table\n",
    "table.style.set_properties(**{\"text-align\": \"left\"}).set_table_styles(\n",
    "    [{\"selector\": \"th\", \"props\": [(\"text-align\", \"center\")]}]\n",
    ")"
   ]
  },
  {
   "cell_type": "markdown",
   "id": "7992f9ec",
   "metadata": {},
   "source": [
    "| Description |\n",
    "|:--------|\n",
    "|The above block code is used to generate a table of summary statistics for each categorical variable. The code first creates an empty list called 'data'. Then, a loop is used to iterate through each categorical variable in the DataFrame, and append the variable name, the list of unique values, and the count of unique values to the list 'data'. Finally, the list 'data' is used to create a DataFrame called 'table' with three columns - 'Column', 'Unique Values', and 'Count of Unique Values'. The table is then styled for better readability.|\n",
    "\n",
    "---"
   ]
  },
  {
   "cell_type": "markdown",
   "id": "5ccdd714",
   "metadata": {},
   "source": [
    "### Label Encoding"
   ]
  },
  {
   "cell_type": "markdown",
   "id": "26c01884",
   "metadata": {},
   "source": [
    "**OneHot Encoding**"
   ]
  },
  {
   "cell_type": "code",
   "execution_count": 20,
   "id": "7c97a647",
   "metadata": {},
   "outputs": [],
   "source": [
    "x_train.loc[\n",
    "    :,\n",
    "    [\n",
    "        \"gender\",\n",
    "        \"Partner\",\n",
    "        \"Dependents\",\n",
    "        \"PhoneService\",\n",
    "        \"MultipleLines\",\n",
    "        \"InternetService\",\n",
    "        \"OnlineSecurity\",\n",
    "        \"OnlineBackup\",\n",
    "        \"DeviceProtection\",\n",
    "        \"TechSupport\",\n",
    "        \"StreamingTV\",\n",
    "        \"StreamingMovies\",\n",
    "        \"Contract\",\n",
    "        \"PaperlessBilling\",\n",
    "        \"PaymentMethod\",\n",
    "    ],\n",
    "] = x_train.loc[\n",
    "    :,\n",
    "    [\n",
    "        \"gender\",\n",
    "        \"Partner\",\n",
    "        \"Dependents\",\n",
    "        \"PhoneService\",\n",
    "        \"MultipleLines\",\n",
    "        \"InternetService\",\n",
    "        \"OnlineSecurity\",\n",
    "        \"OnlineBackup\",\n",
    "        \"DeviceProtection\",\n",
    "        \"TechSupport\",\n",
    "        \"StreamingTV\",\n",
    "        \"StreamingMovies\",\n",
    "        \"Contract\",\n",
    "        \"PaperlessBilling\",\n",
    "        \"PaymentMethod\",\n",
    "    ],\n",
    "].astype(\n",
    "    \"category\"\n",
    ")\n",
    "\n",
    "x_train = x_train.apply(lambda x: x.cat.codes if x.dtype == \"category\" else x)"
   ]
  },
  {
   "cell_type": "markdown",
   "id": "5b64ed12",
   "metadata": {},
   "source": [
    "| Description |\n",
    "|:--------|\n",
    "|The above code converts the categorical values in the x_train dataframe to numerical values using the astype() method. This is done as the machine learning algorithms used in this project require numerical values as input. The categorical columns to be converted are specified in the list and then the cat.codes method is used to convert the values to numerical codes.\n",
    "\n",
    "----"
   ]
  },
  {
   "cell_type": "code",
   "execution_count": 21,
   "id": "a8c55a9d",
   "metadata": {},
   "outputs": [],
   "source": [
    "enc = OneHotEncoder()\n",
    "\n",
    "enc_data = pd.DataFrame(\n",
    "    enc.fit_transform(\n",
    "        x_train[\n",
    "            [\n",
    "                \"gender\",\n",
    "                \"Partner\",\n",
    "                \"Dependents\",\n",
    "                \"PhoneService\",\n",
    "                \"MultipleLines\",\n",
    "                \"InternetService\",\n",
    "                \"OnlineSecurity\",\n",
    "                \"OnlineBackup\",\n",
    "                \"DeviceProtection\",\n",
    "                \"TechSupport\",\n",
    "                \"StreamingTV\",\n",
    "                \"StreamingMovies\",\n",
    "                \"Contract\",\n",
    "                \"PaperlessBilling\",\n",
    "                \"PaymentMethod\",\n",
    "            ]\n",
    "        ]\n",
    "    ).toarray()\n",
    ")\n",
    "\n",
    "coded_df = x_train.join(enc_data)"
   ]
  },
  {
   "cell_type": "markdown",
   "id": "f286a562",
   "metadata": {},
   "source": [
    "| Description |\n",
    "|:--------|\n",
    "|One-hot encoding is a process by which categorical variables are converted into a form that could be provided to ML algorithms to do a better job in prediction. The aim is to transform the categorical variables into a form that could be provided to ML algorithms to do a better job in prediction. One-hot encoding is the process of converting categorical variables into a binary form. This is done by creating a new binary column for each category and assigning a 1 or 0 (True/False) value to the column.|\n",
    "|In the above code, we are using one-hot-encoder to convert the categorical variables into a binary form. This is done by creating a new binary column for each category and assigning a 1 or 0 (True/False) value to the column. This allows the ML algorithms to better understand the data and make more accurate predictions.|\n",
    "\n",
    "---"
   ]
  },
  {
   "cell_type": "code",
   "execution_count": 22,
   "id": "270e1510",
   "metadata": {},
   "outputs": [],
   "source": [
    "x_test.loc[\n",
    "    :,\n",
    "    [\n",
    "        \"gender\",\n",
    "        \"Partner\",\n",
    "        \"Dependents\",\n",
    "        \"PhoneService\",\n",
    "        \"MultipleLines\",\n",
    "        \"InternetService\",\n",
    "        \"OnlineSecurity\",\n",
    "        \"OnlineBackup\",\n",
    "        \"DeviceProtection\",\n",
    "        \"TechSupport\",\n",
    "        \"StreamingTV\",\n",
    "        \"StreamingMovies\",\n",
    "        \"Contract\",\n",
    "        \"PaperlessBilling\",\n",
    "        \"PaymentMethod\",\n",
    "    ],\n",
    "] = x_test.loc[\n",
    "    :,\n",
    "    [\n",
    "        \"gender\",\n",
    "        \"Partner\",\n",
    "        \"Dependents\",\n",
    "        \"PhoneService\",\n",
    "        \"MultipleLines\",\n",
    "        \"InternetService\",\n",
    "        \"OnlineSecurity\",\n",
    "        \"OnlineBackup\",\n",
    "        \"DeviceProtection\",\n",
    "        \"TechSupport\",\n",
    "        \"StreamingTV\",\n",
    "        \"StreamingMovies\",\n",
    "        \"Contract\",\n",
    "        \"PaperlessBilling\",\n",
    "        \"PaymentMethod\",\n",
    "    ],\n",
    "].astype(\n",
    "    \"category\"\n",
    ")\n",
    "\n",
    "x_test = x_test.apply(lambda x: x.cat.codes if x.dtype == \"category\" else x)"
   ]
  },
  {
   "cell_type": "markdown",
   "id": "136ebbb5",
   "metadata": {},
   "source": [
    "| Description |\n",
    "|:--------|\n",
    "|The above code converts the categorical values in the x_test dataframe to numerical values using the `astype()` method. This is done as the machine learning algorithms used in this project require numerical values as input. The categorical columns to be converted are specified in the list and then the `cat.codes` method is used to convert the values to numerical codes.\n",
    "\n",
    "---"
   ]
  },
  {
   "cell_type": "code",
   "execution_count": 23,
   "id": "31bc7e04",
   "metadata": {},
   "outputs": [],
   "source": [
    "enc = OneHotEncoder()\n",
    "\n",
    "enc_data = pd.DataFrame(\n",
    "    enc.fit_transform(\n",
    "        x_test[\n",
    "            [\n",
    "                \"gender\",\n",
    "                \"Partner\",\n",
    "                \"Dependents\",\n",
    "                \"PhoneService\",\n",
    "                \"MultipleLines\",\n",
    "                \"InternetService\",\n",
    "                \"OnlineSecurity\",\n",
    "                \"OnlineBackup\",\n",
    "                \"DeviceProtection\",\n",
    "                \"TechSupport\",\n",
    "                \"StreamingTV\",\n",
    "                \"StreamingMovies\",\n",
    "                \"Contract\",\n",
    "                \"PaperlessBilling\",\n",
    "                \"PaymentMethod\",\n",
    "            ]\n",
    "        ]\n",
    "    ).toarray()\n",
    ")\n",
    "\n",
    "coded_test_df = x_test.join(enc_data)"
   ]
  },
  {
   "cell_type": "markdown",
   "id": "193da6b1",
   "metadata": {},
   "source": [
    "| Description |\n",
    "|:--------|\n",
    "|One-hot encoding is a process by which categorical variables are converted into a form that could be provided to ML algorithms to do a better job in prediction. The aim is to transform the categorical variables into a form that could be provided to ML algorithms to do a better job in pediction. One-hot encoding is the process of converting categorical variables into a binary form. This is done by creating a new binary column for each category and assigning a 1 or 0 (True/False) value to the column.|\n",
    "|In the above code, we are using one-hot-encoder to convert the categorical variables into a binary form. This is done by creating a new binary column for each category and assigning a 1 or 0 (True/False) value to the column. This allows the ML algorithms to better understand the data and make more accurate predictions.|\n",
    "\n",
    "---"
   ]
  },
  {
   "cell_type": "code",
   "execution_count": 24,
   "id": "cd33922c",
   "metadata": {},
   "outputs": [],
   "source": [
    "y_train = y_train.replace({\"Yes\": 1, \"No\": 0})\n",
    "y_test = y_test.replace({\"Yes\": 1, \"No\": 0})"
   ]
  },
  {
   "cell_type": "markdown",
   "id": "494452b7",
   "metadata": {},
   "source": [
    "| Description |\n",
    "|:--------|\n",
    "|The above code is replacing the \"Yes\" and \"No\" values in the y_train and y_test dataframes with 1 and 0 respectively. This is done to make the data easier to use in the machine learning algorithms.|\n",
    "\n",
    "---"
   ]
  },
  {
   "cell_type": "markdown",
   "id": "c1597ff9",
   "metadata": {},
   "source": [
    "**Over Sampling**"
   ]
  },
  {
   "cell_type": "code",
   "execution_count": 25,
   "id": "79f90730",
   "metadata": {},
   "outputs": [],
   "source": [
    "ros = RandomOverSampler(random_state=42)\n",
    "x_train, y_train = ros.fit_resample(x_train, y_train)"
   ]
  },
  {
   "cell_type": "markdown",
   "id": "134d752b",
   "metadata": {},
   "source": [
    "| Description |\n",
    "|:--------|\n",
    "|The above block of code is using RandomOverSampler to perform oversampling on the training data. Oversampling is used to balance dataset when there is a class imbalance. By oversampling, it increases the number of instances in the minority class, so the model can better learn and classify the minority class. Oversampling is generally used when the cost of misclassifying the minority class is high. In this example, oversampling is used to balance the dataset by duplicating the instances in the minority class. RandomOverSampler is used in this example which randomly duplicates the instances in the minority class until the class balance is equal.|\n",
    "\n",
    "---"
   ]
  },
  {
   "cell_type": "markdown",
   "id": "0aaf479d",
   "metadata": {},
   "source": [
    "**Standardization**"
   ]
  },
  {
   "cell_type": "markdown",
   "id": "df97c8af",
   "metadata": {},
   "source": [
    "As our features have different scales like gender and other categories most are boolean, but tenure is counting months, on the other hand, we have prices like Total Charges and Monthly charges which are money but there is no preferably among them and all features weight is same. therefore we use the standardization model to rescale our feature to prevent bias in our prediction."
   ]
  },
  {
   "cell_type": "code",
   "execution_count": 26,
   "id": "237d8af8",
   "metadata": {},
   "outputs": [
    {
     "name": "stdout",
     "output_type": "stream",
     "text": [
      "x_train Size (7814, 19)\n",
      "x_test size (1758, 19)\n"
     ]
    }
   ],
   "source": [
    "scaler = sklearn.preprocessing.StandardScaler(with_mean=False)\n",
    "scaler.fit(x_train)\n",
    "x_train = scaler.transform(x_train)\n",
    "x_test = scaler.transform(x_test)\n",
    "\n",
    "print(\"x_train Size\", x_train.shape)\n",
    "print(\"x_test size\", x_test.shape)"
   ]
  },
  {
   "cell_type": "markdown",
   "id": "5f9dba8b",
   "metadata": {},
   "source": [
    "| Description |\n",
    "|:--------|\n",
    "|The above block code is using a StandardScaler function from the sklearn library to rescale the data in the x_train and x_test arrays. The StandardScaler function subtracts the mean of each feature from the respective values and divides by the standard deviation. This helps the data conform to a normal distribution.|\n",
    "|As our features have different scales like gender and other categories most are boolean, but tenure is counting months, on the other hand, we have prices like Total Charges and Monthly charges which are money but there is no preferably among them and all features weight is same. therefore we use the standardization model to rescale our feature to prevent bias in our prediction.|\n",
    "\n",
    "---"
   ]
  },
  {
   "cell_type": "markdown",
   "id": "44359e0d",
   "metadata": {},
   "source": [
    "# <p style=\"background-color:green; font-family:calibri; font-size:120%; text-color:white; text-align:center;color:white\" id=\"data\"> 6. Model Assessment</p>\n"
   ]
  },
  {
   "cell_type": "markdown",
   "id": "281a8025",
   "metadata": {},
   "source": [
    "## Model Selection and Hyperparameter Tunning"
   ]
  },
  {
   "cell_type": "markdown",
   "id": "7f67476a",
   "metadata": {},
   "source": [
    "In the following steps, we will tune some Hyperparameters which were important according to Scikit-learn documentation.\n",
    "\n",
    "below Classification algorithms are selected and will be tuned:\n",
    "\n",
    "Row | Name | Source \n",
    ":--- | :--- | :--- \n",
    "1 | Decision Tree | [Sklearn.tree.DecisionTreeClassifier](https://scikit-learn.org/stable/modules/generated/sklearn.tree.DecisionTreeClassifier.html)\n",
    "2 | Support Vector Machines (SVMs) | [Sklearn.svm.SVC](https://scikit-learn.org/stable/modules/generated/sklearn.svm.SVC.html)\n",
    "3 | Gaussian Naive Bayes | [Sklearn.naive_bayes.GaussianNB](https://scikit-learn.org/stable/modules/generated/sklearn.naive_bayes.GaussianNB.html)\n",
    "4 |  Logistic Regression | [Sklearn.linear_model.LogisticRegression](https://scikit-learn.org/stable/modules/generated/sklearn.linear_model.LogisticRegression.html)\n",
    "5 | Random Forest | [Sklearn.ensemble.RandomForestClassifier](https://scikit-learn.org/stable/modules/generated/sklearn.ensemble.RandomForestClassifier.html)\n",
    "\n",
    "---"
   ]
  },
  {
   "cell_type": "markdown",
   "id": "9b52e665",
   "metadata": {},
   "source": [
    "### 1. Decision Tree"
   ]
  },
  {
   "cell_type": "code",
   "execution_count": 27,
   "id": "2a71cc80",
   "metadata": {},
   "outputs": [
    {
     "name": "stdout",
     "output_type": "stream",
     "text": [
      "Fitting 5 folds for each of 950 candidates, totalling 4750 fits\n",
      "Accuracy of best Decision Tree classfier = 0.89\n",
      "Best found Hyperparameters of Decision Tree classifier ={'criterion': 'entropy', 'max_depth': 49, 'min_samples_split': 2}\n",
      "Time taken in seconds: 24.24\n"
     ]
    }
   ],
   "source": [
    "start = time.time()\n",
    "\n",
    "parameters_grid = {\n",
    "    \"criterion\": [\"gini\", \"entropy\"],\n",
    "    \"max_depth\": range(1, 50, 2),\n",
    "    \"min_samples_split\": range(2, 40, 2),\n",
    "}\n",
    "model_dt = sklearn.model_selection.GridSearchCV(\n",
    "    sklearn.tree.DecisionTreeClassifier(),\n",
    "    parameters_grid,\n",
    "    scoring=\"accuracy\",\n",
    "    cv=5,\n",
    "    verbose=2,\n",
    "    n_jobs=-1,\n",
    ")\n",
    "model_dt.fit(x_train, y_train)\n",
    "print(\"Accuracy of best Decision Tree classfier = {:.2f}\".format(model_dt.best_score_))\n",
    "print(\n",
    "    \"Best found Hyperparameters of Decision Tree classifier ={}\".format(\n",
    "        model_dt.best_params_\n",
    "    )\n",
    ")\n",
    "\n",
    "end = time.time()\n",
    "print(\"Time taken in seconds: {:.2f}\".format(end - start))"
   ]
  },
  {
   "cell_type": "markdown",
   "id": "0649d247",
   "metadata": {},
   "source": [
    "| Description |\n",
    "|:--------|\n",
    "|The above code is used to find the best hyperparameters for a Decision Tree Classifier model. It uses `GridSearchCV` to iterate through a range of parameters given in the \"parameters_grid\" dictionary, and then evaluates the model based on the \"scoring\" parameter which is set to \"accuracy\". The best parameters are displayed along with the best accuracy score. The total time taken for the model to run is also displayed.|\n",
    "\n",
    "---"
   ]
  },
  {
   "cell_type": "markdown",
   "id": "d8656caa",
   "metadata": {},
   "source": [
    "### 2. SVM"
   ]
  },
  {
   "cell_type": "code",
   "execution_count": 28,
   "id": "e4864bcc",
   "metadata": {},
   "outputs": [
    {
     "name": "stdout",
     "output_type": "stream",
     "text": [
      "Fitting 5 folds for each of 21 candidates, totalling 105 fits\n",
      "Accuracy of best SVM classfier = 0.85\n",
      "Best found Hyperparameters of SVM classifier ={'C': 200, 'kernel': 'rbf'}\n",
      "Time taken in seconds: 510.76\n"
     ]
    }
   ],
   "source": [
    "start = time.time()\n",
    "\n",
    "parameters_grid = {\n",
    "    \"kernel\": [\"rbf\", \"poly\", \"sigmoid\"],\n",
    "    \"C\": [0.01, 0.1, 1, 10, 100, 200, 300],\n",
    "}\n",
    "model_svm = sklearn.model_selection.GridSearchCV(\n",
    "    sklearn.svm.SVC(), parameters_grid, scoring=\"accuracy\", cv=5, verbose=2, n_jobs=-1\n",
    ")\n",
    "model_svm.fit(x_train, y_train)\n",
    "print(\"Accuracy of best SVM classfier = {:.2f}\".format(model_svm.best_score_))\n",
    "print(\"Best found Hyperparameters of SVM classifier ={}\".format(model_svm.best_params_))\n",
    "\n",
    "end = time.time()\n",
    "print(\"Time taken in seconds: {:.2f}\".format(end - start))"
   ]
  },
  {
   "cell_type": "markdown",
   "id": "5979041c",
   "metadata": {},
   "source": [
    "### 3. Gaussian Naive Bayes"
   ]
  },
  {
   "cell_type": "code",
   "execution_count": 29,
   "id": "82b15876",
   "metadata": {},
   "outputs": [
    {
     "name": "stdout",
     "output_type": "stream",
     "text": [
      "Fitting 5 folds for each of 6 candidates, totalling 30 fits\n",
      "Accuracy of best Naive Bayes classfier = 0.76\n",
      "Best found Hyperparameters of Naive Bayes classifier ={'priors': None, 'var_smoothing': 1e-12}\n",
      "Time taken in seconds: 0.21\n"
     ]
    }
   ],
   "source": [
    "start = time.time()\n",
    "\n",
    "parameters_grid = {\n",
    "    \"priors\": [None],\n",
    "    \"var_smoothing\": [1e-12, 1e-11, 1e-10, 1e-9, 1e-8, 1e-7],\n",
    "}\n",
    "\n",
    "model_naiveb = sklearn.model_selection.GridSearchCV(\n",
    "    sklearn.naive_bayes.GaussianNB(),\n",
    "    parameters_grid,\n",
    "    scoring=\"accuracy\",\n",
    "    cv=5,\n",
    "    verbose=2,\n",
    "    n_jobs=-1,\n",
    ")\n",
    "model_naiveb.fit(x_train, y_train)\n",
    "print(\n",
    "    \"Accuracy of best Naive Bayes classfier = {:.2f}\".format(model_naiveb.best_score_)\n",
    ")\n",
    "print(\n",
    "    \"Best found Hyperparameters of Naive Bayes classifier ={}\".format(\n",
    "        model_naiveb.best_params_\n",
    "    )\n",
    ")\n",
    "\n",
    "end = time.time()\n",
    "print(\"Time taken in seconds: {:.2f}\".format(end - start))"
   ]
  },
  {
   "cell_type": "markdown",
   "id": "251b3eb2",
   "metadata": {},
   "source": [
    "### 4. Logistic Regression"
   ]
  },
  {
   "cell_type": "code",
   "execution_count": 30,
   "id": "61032c33",
   "metadata": {},
   "outputs": [
    {
     "name": "stdout",
     "output_type": "stream",
     "text": [
      "Fitting 5 folds for each of 4000 candidates, totalling 20000 fits\n",
      "Accuracy of best Logistic Regression classfier = 0.77\n",
      "Best found Hyperparameters of Logistic Regression classifier ={'C': 1300, 'penalty': 'l2', 'solver': 'sag', 'tol': 0.0657933224657568}\n",
      "Time taken in seconds: 199.28\n"
     ]
    }
   ],
   "source": [
    "start = time.time()\n",
    "\n",
    "parameters_grid = {\n",
    "    \"solver\": [\"newton-cg\", \"lbfgs\", \"liblinear\", \"sag\", \"saga\"],\n",
    "    \"penalty\": [\"l2\"],\n",
    "    \"C\": [\n",
    "        1000,\n",
    "        1100,\n",
    "        1200,\n",
    "        1300,\n",
    "        1400,\n",
    "        1500,\n",
    "        1600,\n",
    "        2000,\n",
    "    ],\n",
    "    \"tol\": np.logspace(0, -9, num=100),\n",
    "}\n",
    "\n",
    "model_lr = sklearn.model_selection.GridSearchCV(\n",
    "    sklearn.linear_model.LogisticRegression(),\n",
    "    parameters_grid,\n",
    "    scoring=\"accuracy\",\n",
    "    cv=5,\n",
    "    verbose=2,\n",
    "    n_jobs=-1,\n",
    ")\n",
    "model_lr.fit(x_train, y_train)\n",
    "print(\n",
    "    \"Accuracy of best Logistic Regression classfier = {:.2f}\".format(\n",
    "        model_lr.best_score_\n",
    "    )\n",
    ")\n",
    "print(\n",
    "    \"Best found Hyperparameters of Logistic Regression classifier ={}\".format(\n",
    "        model_lr.best_params_\n",
    "    )\n",
    ")\n",
    "\n",
    "end = time.time()\n",
    "print(\"Time taken in seconds: {:.2f}\".format(end - start))"
   ]
  },
  {
   "cell_type": "markdown",
   "id": "3ccf479e",
   "metadata": {},
   "source": [
    "### 5. Random Forest"
   ]
  },
  {
   "cell_type": "code",
   "execution_count": 31,
   "id": "83508cbb",
   "metadata": {},
   "outputs": [
    {
     "name": "stdout",
     "output_type": "stream",
     "text": [
      "Fitting 5 folds for each of 3200 candidates, totalling 16000 fits\n",
      "Accuracy of best RandomForest classfier = 0.92\n",
      "Best found Hyperparameters of RandomForest classifier ={'bootstrap': False, 'criterion': 'gini', 'max_depth': 33, 'max_features': 'log2', 'min_samples_leaf': 1, 'min_samples_split': 2}\n",
      "Time taken in seconds: 2656.94\n"
     ]
    }
   ],
   "source": [
    "start = time.time()\n",
    "parameters_grid = {\n",
    "    \"criterion\": [\"gini\", \"entropy\"],\n",
    "    \"max_depth\": range(1, 50, 2),\n",
    "    \"max_features\": [\"sqrt\", \"log2\"],\n",
    "    \"min_samples_split\": [2, 4, 6, 8],\n",
    "    \"min_samples_leaf\": [1, 3, 5, 7],\n",
    "    \"bootstrap\": [True, False],\n",
    "}\n",
    "model_rf = sklearn.model_selection.GridSearchCV(\n",
    "    sklearn.ensemble.RandomForestClassifier(),\n",
    "    parameters_grid,\n",
    "    scoring=\"accuracy\",\n",
    "    cv=5,\n",
    "    verbose=2,\n",
    "    n_jobs=-1,\n",
    ")\n",
    "model_rf.fit(x_train, y_train)\n",
    "print(\"Accuracy of best RandomForest classfier = {:.2f}\".format(model_rf.best_score_))\n",
    "print(\n",
    "    \"Best found Hyperparameters of RandomForest classifier ={}\".format(\n",
    "        model_rf.best_params_\n",
    "    )\n",
    ")\n",
    "\n",
    "end = time.time()\n",
    "print(\"Time taken in seconds: {:.2f}\".format(end - start))"
   ]
  },
  {
   "cell_type": "markdown",
   "id": "0cdfe475",
   "metadata": {},
   "source": [
    "| Description |\n",
    "|:--------|\n",
    "|All above block codes in each five sections including Decision Tree, SVMs, Gaussian Naive Bayes, Logistic Regression and Random Forest are using a GridSearchCV to find the best hyperparameters for each model. GridSearchCV is a type of hyperparameter optimization which exhaustively searches through a manually specified subset of the hyperparameter space of a given model. In this case, the grid search is testing different combinations of different hyperparameters with different ranges to find the best possible hyperparameters. Once the best combination is found, it is then fitted to the training data (x_train and y_train) and the accuracy is printed.|\n",
    "|The scoring is used to define the metric that is used to evaluate the model. The cv is used to define the cross-validation technique. The verbose is used to define the verbosity of the output and the n_jobs is used to define the number of jobs that should be run in parallel.|\n",
    "|The fit method is used to fit the model with the given data. The best_score_ attribute of the GridSearchCV object is used to get the accuracy of the best model. The best_params_ attribute of the GridSearchCV object is used to get the best combination of hyperparameters.|\n",
    "\n",
    "---"
   ]
  },
  {
   "cell_type": "markdown",
   "id": "b3f4c9a9",
   "metadata": {},
   "source": [
    "# <p style=\"background-color:green; font-family:calibri; font-size:120%; text-color:white; text-align:center;color:white\" id=\"data\"> 7. Model Selection</p>"
   ]
  },
  {
   "cell_type": "markdown",
   "id": "c7327bba",
   "metadata": {},
   "source": [
    "we will set all hyperparameters which are found in the above GridSearch Algorithm in the following models to train our model; then accordingly predict our test dataset. \n",
    "in our prediction we will represent four measures as below:\n",
    "\n",
    "<table align=\"left\">\n",
    "  <tr>\n",
    "    <th style=\"text-align:center\">Items</th>\n",
    "  </tr>\n",
    "  <tr>\n",
    "    <td style=\"text-align:left\">Accuracy</td>\n",
    "  </tr>\n",
    "  <tr>\n",
    "    <td style=\"text-align:left\">Precision</td>\n",
    "  </tr>\n",
    "  <tr>\n",
    "    <td style=\"text-align:left\">Recall</td>\n",
    "  </tr>\n",
    "  <tr>\n",
    "    <td style=\"text-align:left\">F1</td>\n",
    "  </tr>\n",
    "</table>"
   ]
  },
  {
   "cell_type": "markdown",
   "id": "8ae4ecc2",
   "metadata": {},
   "source": [
    "### Random Forest"
   ]
  },
  {
   "cell_type": "code",
   "execution_count": 34,
   "id": "e4297703",
   "metadata": {},
   "outputs": [
    {
     "data": {
      "text/html": [
       "<div>\n",
       "<style scoped>\n",
       "    .dataframe tbody tr th:only-of-type {\n",
       "        vertical-align: middle;\n",
       "    }\n",
       "\n",
       "    .dataframe tbody tr th {\n",
       "        vertical-align: top;\n",
       "    }\n",
       "\n",
       "    .dataframe thead th {\n",
       "        text-align: right;\n",
       "    }\n",
       "</style>\n",
       "<table border=\"1\" class=\"dataframe\">\n",
       "  <thead>\n",
       "    <tr style=\"text-align: right;\">\n",
       "      <th></th>\n",
       "      <th>0</th>\n",
       "    </tr>\n",
       "  </thead>\n",
       "  <tbody>\n",
       "    <tr>\n",
       "      <th>Accuracy</th>\n",
       "      <td>77.47</td>\n",
       "    </tr>\n",
       "    <tr>\n",
       "      <th>Precision</th>\n",
       "      <td>64.97</td>\n",
       "    </tr>\n",
       "    <tr>\n",
       "      <th>Recall</th>\n",
       "      <td>45.82</td>\n",
       "    </tr>\n",
       "    <tr>\n",
       "      <th>F1</th>\n",
       "      <td>53.74</td>\n",
       "    </tr>\n",
       "  </tbody>\n",
       "</table>\n",
       "</div>"
      ],
      "text/plain": [
       "               0\n",
       "Accuracy   77.47\n",
       "Precision  64.97\n",
       "Recall     45.82\n",
       "F1         53.74"
      ]
     },
     "execution_count": 34,
     "metadata": {},
     "output_type": "execute_result"
    }
   ],
   "source": [
    "y_predicted = model_rf.predict(x_test)\n",
    "accuracy_rf = sklearn.metrics.accuracy_score(y_test, y_predicted)\n",
    "accuracy_rf = round(accuracy_rf * 100, 2)\n",
    "precision_rf = round(sklearn.metrics.precision_score(y_test, y_predicted) * 100, 2)\n",
    "recall_rf = round(sklearn.metrics.recall_score(y_test, y_predicted) * 100, 2)\n",
    "f1_rf = round(sklearn.metrics.f1_score(y_test, y_predicted) * 100, 2)\n",
    "\n",
    "header = [\"Accuracy\", \"Precision\", \"Recall\", \"F1\"]\n",
    "data_rf = np.array([accuracy_rf, precision_rf, recall_rf, f1_rf])\n",
    "pd.DataFrame(data_rf, header)"
   ]
  },
  {
   "cell_type": "markdown",
   "id": "7d0aeea2",
   "metadata": {},
   "source": [
    "| Description |\n",
    "|:--------|\n",
    "|The above block code is creating a random forest model and using it to make predictions on a test set of data. It then calculates the accuracy, precision, recall, and F1 score of the model and stores those values in a data frame to be printed.|"
   ]
  },
  {
   "cell_type": "markdown",
   "id": "3e16efe6",
   "metadata": {},
   "source": [
    "### Confusion Matrix"
   ]
  },
  {
   "cell_type": "code",
   "execution_count": 35,
   "id": "cfe0091e",
   "metadata": {},
   "outputs": [
    {
     "name": "stdout",
     "output_type": "stream",
     "text": [
      "Confusion Matrix: \n",
      " [[1132  124]\n",
      " [ 272  230]]\n"
     ]
    },
    {
     "data": {
      "image/png": "[encoded data removed]",
      "text/plain": [
       "<Figure size 500x500 with 2 Axes>"
      ]
     },
     "metadata": {},
     "output_type": "display_data"
    }
   ],
   "source": [
    "cm = sklearn.metrics.confusion_matrix(y_test, y_predicted)\n",
    "plt.figure(figsize=(5, 5))\n",
    "sns.heatmap(cm, annot=True, fmt=\".2f\", linewidths=0.5, square=True, cmap=\"Blues_r\")\n",
    "plt.ylabel(\"Actual label\")\n",
    "plt.xlabel(\"Predicted label\")\n",
    "all_sample_title = \"Accuracy Score: {0}\".format(accuracy_rf)\n",
    "plt.title(all_sample_title, size=10)\n",
    "\n",
    "print(\"Confusion Matrix: \\n\", cm)"
   ]
  },
  {
   "cell_type": "markdown",
   "id": "240aab2d",
   "metadata": {},
   "source": [
    "| Description |\n",
    "|:--------|\n",
    "|The above block code is used to generate a confusion matrix for the random forest classification model. This matrix is used to visualize the performance of the model in predicting the correct labels for the test data. The heatmap of the matrix shows the number of times the model predicted the correct label (in blue) and the number of times it predicted the incorrect label (in white). The accuracy score of the model is also printed."
   ]
  },
  {
   "cell_type": "markdown",
   "id": "7b1644cd",
   "metadata": {},
   "source": [
    "# <p style=\"background-color:green; font-family:calibri; font-size:120%; text-color:white; text-align:center;color:white\" id=\"data\"> 8. Conclusion</p>\n"
   ]
  },
  {
   "cell_type": "markdown",
   "id": "6afaca59",
   "metadata": {},
   "source": [
    "| Conclusion |\n",
    "|:--------|\n",
    "|The results obtained by using Random Forest model as the machine learning model for this churn prediction on the shared dataset show that the model has a good accuracy rate of 77.47%, precision of 64.97%, recall of 45.82%, and F1 score of 53.74%. The confusion matrix also indicates that the model is performing well, with 1,132 true positives, 230 true negatives, 124 false positives, and 272 false negatives.\n",
    "\n",
    "Random Forest is a powerful machine learning model that is used for both regression and classification problems. It has several advantages over other models, such as its ability to handle large datasets and its ability to handle categorical features. Additionally, it is highly scalable and can be used to make predictions on unseen data. Furthermore, Random Forest is much less prone to overfitting than other models and can handle complex problems with many features. \n",
    "\n",
    "However, there are also some drawbacks to using Random Forest. For example, it can be computationally expensive, and can require more training time than other models. Additionally, it can be difficult to interpret the results of a Random Forest model, as the model is based on an ensemble of decision trees. \n",
    "\n",
    "In order to get the most out of this churn prediction, further analysis should be conducted to identify the most important features driving customer churn. Additionally, other machine learning models could be compared to the Random Forest model to see if any of them have better performance. Finally, different strategies could be tested to see if they have an effect on the customer churn rate. These strategies could involve increasing customer loyalty through promotions or discounts, or providing better customer service.\n",
    "\n",
    "The score that should be used depends on the specific goal of the churn prediction model. For example, if the goal is to maximize the number of customers that are correctly identified as churners, then the recall score should be maximized. On the other hand, if the goal is to minimize the number of false positives (customers that are incorrectly identified as churners), then the precision score should be maximized.\n",
    "\n",
    "Overall, the Random Forest model has provided promising results for this churn prediction, but further analysis and experimentation should be conducted in order to identify the best strategies for reducing customer churn.\n",
    "\n",
    "In the end, according to some approaches from expert ML specialists: \"The metrics alone aren’t enough to determine if our model is usable in real-life scenarios. (The definitive guide to Accuracy, Precision, and Recall for product developers, 2022)\n",
    "we must establish a baseline score and compare our model’s performance against that baseline score.\" In the future, we’ll try to focus on this metric to assess how much these findings are practical with real data and similar datasets."
   ]
  },
  {
   "cell_type": "markdown",
   "id": "a801e5ce",
   "metadata": {},
   "source": [
    "# <p style=\"background-color:green; font-family:calibri; font-size:120%; text-color:white; text-align:center;color:white\" id=\"data\"> 9. Reference</p>\n"
   ]
  },
  {
   "cell_type": "markdown",
   "id": "a0a61090",
   "metadata": {},
   "source": [
    "* Brownlee, J. (2020) Data leakage in machine learning, MachineLearningMastery.com. Available at: https://machinelearningmastery.com/data-leakage-machine-learning/ (Accessed: January 05, 2023). \n",
    "\n",
    "* Brownlee, J. (2021) Random oversampling and undersampling for imbalanced classification, MachineLearningMastery.com. Available at: https://machinelearningmastery.com/random-oversampling-and-undersampling-for-imbalanced-classification/ (Accessed: January 01, 2023).\n",
    "\n",
    "* Community.ibm.com. 2022. Telco customer churn (11.1.3+). [online] Available at: <https://community.ibm.com/community/user/businessanalytics/blogs/steven-macko/2019/07/11/telco-customer-churn-1113> [Accessed 19 August 2022].\n",
    "\n",
    "* DEV Community 👩‍💻👨‍💻. 2022. The definitive guide to Accuracy, Precision, and Recall for product developers. [online] Available at: <https://dev.to/mage_ai/the-definitive-guide-to-accuracy-precision-and-recall-for-product-developers-4ahg> [Accessed 20 September 2022].\n",
    "\n",
    "* Kaggle.com. 2022. Telco Customer Churn. [online] Available at: <https://www.kaggle.com/datasets/blastchar/telco-customer-churn?select=WA_Fn-UseC_-Telco-Customer-Churn.csv> [Accessed 19 August 2022].\n",
    "\n",
    "* Sklearn.preprocessing.onehotencoder (no date) scikit. Available at: https://scikit-learn.org/stable/modules/generated/sklearn.preprocessing.OneHotEncoder.html (Accessed: January 12, 2023). "
   ]
  }
 ],
 "metadata": {
  "celltoolbar": "Raw Cell Format",
  "kernelspec": {
   "display_name": "Python 3 (ipykernel)",
   "language": "python",
   "name": "python3"
  },
  "language_info": {
   "codemirror_mode": {
    "name": "ipython",
    "version": 3
   },
   "file_extension": ".py",
   "mimetype": "text/x-python",
   "name": "python",
   "nbconvert_exporter": "python",
   "pygments_lexer": "ipython3",
   "version": "3.9.15"
  }
 },
 "nbformat": 4,
 "nbformat_minor": 5
}
